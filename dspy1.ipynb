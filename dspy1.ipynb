{
  "nbformat": 4,
  "nbformat_minor": 0,
  "metadata": {
    "colab": {
      "provenance": [],
      "mount_file_id": "1d6Gtxaw8ZHvm6oPmfI-wufi0pL03zvpL",
      "authorship_tag": "ABX9TyMGe3B4KY5uo7Xx3BtlZMxa",
      "include_colab_link": true
    },
    "kernelspec": {
      "name": "python3",
      "display_name": "Python 3"
    },
    "language_info": {
      "name": "python"
    }
  },
  "cells": [
    {
      "cell_type": "markdown",
      "metadata": {
        "id": "view-in-github",
        "colab_type": "text"
      },
      "source": [
        "<a href=\"https://colab.research.google.com/github/pxs1990/OOP_Py/blob/main/dspy1.ipynb\" target=\"_parent\"><img src=\"https://colab.research.google.com/assets/colab-badge.svg\" alt=\"Open In Colab\"/></a>"
      ]
    },
    {
      "cell_type": "code",
      "execution_count": null,
      "metadata": {
        "colab": {
          "base_uri": "https://localhost:8080/"
        },
        "id": "exGleCvUuviW",
        "outputId": "792e4c91-25f3-485f-a330-03a9b7007116"
      },
      "outputs": [
        {
          "output_type": "stream",
          "name": "stdout",
          "text": [
            "Python 3.10.12\n",
            "hello\n"
          ]
        }
      ],
      "source": [
        "#PYTHON COURSE FOR DATA SCIENCE\n",
        "!python --version\n",
        "print(\"hello\")\n"
      ]
    },
    {
      "cell_type": "code",
      "source": [
        "# DATA TYPE\n",
        "var1='Pushpa'\n",
        "print(var1)\n",
        "print(type(var1))\n",
        "var1=33\n",
        "print(var1)\n",
        "print(type(var1))\n",
        "var1=1.5\n",
        "print(var1)\n",
        "print(type(var1))\n",
        "var1=True\n",
        "print(var1)\n",
        "print(type(var1))\n"
      ],
      "metadata": {
        "colab": {
          "base_uri": "https://localhost:8080/"
        },
        "id": "pB5tIm7UwUDE",
        "outputId": "b3e6fde5-c75f-45f3-ce30-7139f3893ee2"
      },
      "execution_count": null,
      "outputs": [
        {
          "output_type": "stream",
          "name": "stdout",
          "text": [
            "Pushpa\n",
            "<class 'str'>\n",
            "33\n",
            "<class 'int'>\n",
            "1.5\n",
            "<class 'float'>\n",
            "True\n",
            "<class 'bool'>\n"
          ]
        }
      ]
    },
    {
      "cell_type": "code",
      "source": [
        "D2={'1': 7.4, '2': 9.2, '3': 5.2}"
      ],
      "metadata": {
        "colab": {
          "base_uri": "https://localhost:8080/"
        },
        "id": "Obj-UvSE7TTJ",
        "outputId": "5d5e617a-fe3d-4d07-c024-97b3ddc0ed11"
      },
      "execution_count": null,
      "outputs": [
        {
          "output_type": "execute_result",
          "data": {
            "text/plain": [
              "{'1': 7.4, '2': 9.2, '3': 5.2}"
            ]
          },
          "metadata": {},
          "execution_count": 23
        }
      ]
    },
    {
      "cell_type": "code",
      "source": [
        "D2={'1': 7.4, '2': 9.2, '3': 5.2}\n",
        "for k in D2:\n",
        "  print(\"key is \", k+' and '+ \"value is\" ,D2[k])\n"
      ],
      "metadata": {
        "colab": {
          "base_uri": "https://localhost:8080/"
        },
        "id": "typ1_1FQ7kek",
        "outputId": "6a882b7e-88fa-4832-9533-430d37ed1dca"
      },
      "execution_count": null,
      "outputs": [
        {
          "output_type": "stream",
          "name": "stdout",
          "text": [
            "key is  1 and value is 7.4\n",
            "key is  2 and value is 9.2\n",
            "key is  3 and value is 5.2\n"
          ]
        }
      ]
    },
    {
      "cell_type": "code",
      "source": [
        "#DATA TYPES\n",
        "id=235\n",
        "print(id, type(id))\n",
        "distance=3.5\n",
        "print(distance,type(distance))\n",
        "complx=2+3j\n",
        "print(complx,type(complx))\n",
        "isStudent=True\n",
        "print(isStudent,type(isStudent))\n",
        "name='pushpa'\n",
        "print(name,type(name))\n",
        "name=\"pushpa\"\n",
        "print(name,type(name))\n",
        "\n",
        "name='''pushpa'''\n",
        "print(name,type(name))\n",
        "name=\"pushpa\"\n",
        "print(name,type(name))\n",
        "\n",
        "name=\"\"\"pushpa\"\"\"\n",
        "print(name,type(name))"
      ],
      "metadata": {
        "colab": {
          "base_uri": "https://localhost:8080/"
        },
        "id": "8c8kEezyuWJc",
        "outputId": "914cc414-1884-4f32-f7ff-0c64d4074850"
      },
      "execution_count": null,
      "outputs": [
        {
          "output_type": "stream",
          "name": "stdout",
          "text": [
            "235 <class 'int'>\n",
            "3.5 <class 'float'>\n",
            "(2+3j) <class 'complex'>\n",
            "True <class 'bool'>\n",
            "pushpa <class 'str'>\n",
            "pushpa <class 'str'>\n",
            "pushpa <class 'str'>\n",
            "pushpa <class 'str'>\n",
            "pushpa <class 'str'>\n"
          ]
        }
      ]
    },
    {
      "cell_type": "code",
      "source": [
        "st=\"pushpa\"\n",
        "st.capitalize()"
      ],
      "metadata": {
        "colab": {
          "base_uri": "https://localhost:8080/",
          "height": 36
        },
        "id": "aIExHsrVcEHd",
        "outputId": "3f8d58f9-9039-4618-e4fe-ba30bee8812f"
      },
      "execution_count": null,
      "outputs": [
        {
          "output_type": "execute_result",
          "data": {
            "text/plain": [
              "'Pushpa'"
            ],
            "application/vnd.google.colaboratory.intrinsic+json": {
              "type": "string"
            }
          },
          "metadata": {},
          "execution_count": 2
        }
      ]
    },
    {
      "cell_type": "code",
      "source": [
        "st.casefold()# caseless"
      ],
      "metadata": {
        "colab": {
          "base_uri": "https://localhost:8080/",
          "height": 36
        },
        "id": "Lco4FPPmcMOJ",
        "outputId": "2e294e17-0af0-4353-8278-ee1b90b7d601"
      },
      "execution_count": null,
      "outputs": [
        {
          "output_type": "execute_result",
          "data": {
            "text/plain": [
              "'pushpa'"
            ],
            "application/vnd.google.colaboratory.intrinsic+json": {
              "type": "string"
            }
          },
          "metadata": {},
          "execution_count": 50
        }
      ]
    },
    {
      "cell_type": "code",
      "source": [
        "st.center(10,'*')#width>len() and if char is not assigned, it center alligns with space"
      ],
      "metadata": {
        "colab": {
          "base_uri": "https://localhost:8080/",
          "height": 36
        },
        "id": "fGcgs2eWcXDO",
        "outputId": "fca397fb-d8d9-4068-ed59-b8651297db53"
      },
      "execution_count": null,
      "outputs": [
        {
          "output_type": "execute_result",
          "data": {
            "text/plain": [
              "'**pushpa**'"
            ],
            "application/vnd.google.colaboratory.intrinsic+json": {
              "type": "string"
            }
          },
          "metadata": {},
          "execution_count": 6
        }
      ]
    },
    {
      "cell_type": "code",
      "source": [
        "st.ljust(10,'*')"
      ],
      "metadata": {
        "colab": {
          "base_uri": "https://localhost:8080/",
          "height": 36
        },
        "id": "B64KXBYnLJmm",
        "outputId": "fc541b32-58d8-4a18-da06-a81da702d4a8"
      },
      "execution_count": null,
      "outputs": [
        {
          "output_type": "execute_result",
          "data": {
            "text/plain": [
              "'pushpa****'"
            ],
            "application/vnd.google.colaboratory.intrinsic+json": {
              "type": "string"
            }
          },
          "metadata": {},
          "execution_count": 4
        }
      ]
    },
    {
      "cell_type": "code",
      "source": [
        "st.rjust(10,'*')"
      ],
      "metadata": {
        "colab": {
          "base_uri": "https://localhost:8080/",
          "height": 36
        },
        "id": "oydy0mcQLQol",
        "outputId": "a3d9577b-8797-4be6-e30e-b3625ae7a4e5"
      },
      "execution_count": null,
      "outputs": [
        {
          "output_type": "execute_result",
          "data": {
            "text/plain": [
              "'****pushpa'"
            ],
            "application/vnd.google.colaboratory.intrinsic+json": {
              "type": "string"
            }
          },
          "metadata": {},
          "execution_count": 5
        }
      ]
    },
    {
      "cell_type": "code",
      "source": [
        "st.count('a')"
      ],
      "metadata": {
        "colab": {
          "base_uri": "https://localhost:8080/"
        },
        "id": "bKu2LITedktA",
        "outputId": "84a4209e-0bb4-43d5-a61a-baf8e3f4c16b"
      },
      "execution_count": null,
      "outputs": [
        {
          "output_type": "execute_result",
          "data": {
            "text/plain": [
              "1"
            ]
          },
          "metadata": {},
          "execution_count": 6
        }
      ]
    },
    {
      "cell_type": "code",
      "source": [
        "st.encode('ASCII')#converts to byptes"
      ],
      "metadata": {
        "colab": {
          "base_uri": "https://localhost:8080/"
        },
        "id": "XelNTf7rdsP4",
        "outputId": "896036c0-66ed-4cb5-c006-2c291356df38"
      },
      "execution_count": null,
      "outputs": [
        {
          "output_type": "execute_result",
          "data": {
            "text/plain": [
              "b'pushpa'"
            ]
          },
          "metadata": {},
          "execution_count": 7
        }
      ]
    },
    {
      "cell_type": "code",
      "source": [
        "st.endswith('a')#boolean\n",
        "st.startswith('a')"
      ],
      "metadata": {
        "colab": {
          "base_uri": "https://localhost:8080/"
        },
        "id": "a6ZIKHrveQTv",
        "outputId": "6c3121a1-50dc-4958-b9be-9565c8061317"
      },
      "execution_count": null,
      "outputs": [
        {
          "output_type": "execute_result",
          "data": {
            "text/plain": [
              "False"
            ]
          },
          "metadata": {},
          "execution_count": 51
        }
      ]
    },
    {
      "cell_type": "code",
      "source": [
        "st1= \"Hello\\tworld\\twith\\ttabs.\"\n",
        "print(st1)\n",
        "st1.expandtabs()# default tab size is8\n",
        "st1.expandtabs(20)"
      ],
      "metadata": {
        "colab": {
          "base_uri": "https://localhost:8080/",
          "height": 53
        },
        "id": "rnSSd9NxeWnz",
        "outputId": "76bf6153-2ceb-47cb-f51f-e378da1a405f"
      },
      "execution_count": null,
      "outputs": [
        {
          "output_type": "stream",
          "name": "stdout",
          "text": [
            "Hello\tworld\twith\ttabs.\n"
          ]
        },
        {
          "output_type": "execute_result",
          "data": {
            "text/plain": [
              "'Hello               world               with                tabs.'"
            ],
            "application/vnd.google.colaboratory.intrinsic+json": {
              "type": "string"
            }
          },
          "metadata": {},
          "execution_count": 88
        }
      ]
    },
    {
      "cell_type": "code",
      "source": [
        "st=\"pushpa\"\n",
        "st.find('u')# index of first occurence of substr\n",
        "st.find('u',2,5)# index in sliced string\n",
        "st.rfind(\"p\")#indenx of last occurence of substr"
      ],
      "metadata": {
        "colab": {
          "base_uri": "https://localhost:8080/"
        },
        "id": "A2qiSo1CfRwc",
        "outputId": "a08cd7ba-d17f-4b2e-e679-30e732200afb"
      },
      "execution_count": null,
      "outputs": [
        {
          "output_type": "execute_result",
          "data": {
            "text/plain": [
              "4"
            ]
          },
          "metadata": {},
          "execution_count": 29
        }
      ]
    },
    {
      "cell_type": "code",
      "source": [
        "st=\"pushpa\"\n",
        "st.index('p')# first occurence BUT when index not found it gives ValueError\n",
        "st.rindex('p')#last occurence"
      ],
      "metadata": {
        "id": "cFwHxxxkZHm4"
      },
      "execution_count": null,
      "outputs": []
    },
    {
      "cell_type": "code",
      "source": [
        "name=\"pushpa\"\n",
        "age=\"33\"\n",
        "st=\"my name is {} and I am {} years old\"\n",
        "st.format(name,age)#prints formatted str by inserting dynamic values in a placeholder.\n",
        "#print(f\"my name is {name} and I am {age} years old\")"
      ],
      "metadata": {
        "colab": {
          "base_uri": "https://localhost:8080/",
          "height": 36
        },
        "id": "_oqo-Z0XgbuD",
        "outputId": "d4710f83-73c7-4a1d-eb6c-a630506c16c4"
      },
      "execution_count": null,
      "outputs": [
        {
          "output_type": "execute_result",
          "data": {
            "text/plain": [
              "'my name is pushpa and I am 33 years old'"
            ],
            "application/vnd.google.colaboratory.intrinsic+json": {
              "type": "string"
            }
          },
          "metadata": {},
          "execution_count": 1
        }
      ]
    },
    {
      "cell_type": "code",
      "source": [
        "D = {'name': 'Pushpa', 'age': 33}\n",
        "st = \"My name is {name} and I am {age} years old.\"\n",
        "# st.format_map(D)\n",
        "print(f\"My name is {D['name']} and I am {D['age']} years old.\")"
      ],
      "metadata": {
        "id": "3G-B3uKAnSpI",
        "colab": {
          "base_uri": "https://localhost:8080/"
        },
        "outputId": "ab27d7e1-346e-4c67-86e7-b8208f4faa0f"
      },
      "execution_count": null,
      "outputs": [
        {
          "output_type": "stream",
          "name": "stdout",
          "text": [
            "My name is Pushpa and I am 33 years old.\n"
          ]
        }
      ]
    },
    {
      "cell_type": "code",
      "source": [
        "st.swapcase()"
      ],
      "metadata": {
        "colab": {
          "base_uri": "https://localhost:8080/",
          "height": 36
        },
        "id": "RfXuWpdJ_Wcx",
        "outputId": "efd48ca9-89e0-4660-9de9-df65025aaa49"
      },
      "execution_count": null,
      "outputs": [
        {
          "output_type": "execute_result",
          "data": {
            "text/plain": [
              "'MY NAME IS {} AND i AM {} YEARS OLD'"
            ],
            "application/vnd.google.colaboratory.intrinsic+json": {
              "type": "string"
            }
          },
          "metadata": {},
          "execution_count": 2
        }
      ]
    },
    {
      "cell_type": "code",
      "source": [
        "st.isalpha()"
      ],
      "metadata": {
        "colab": {
          "base_uri": "https://localhost:8080/"
        },
        "id": "W83g1btXkPqR",
        "outputId": "03eb4473-06fb-4c72-9701-6be986853401"
      },
      "execution_count": null,
      "outputs": [
        {
          "output_type": "execute_result",
          "data": {
            "text/plain": [
              "True"
            ]
          },
          "metadata": {},
          "execution_count": 100
        }
      ]
    },
    {
      "cell_type": "code",
      "source": [
        "#st.isnumeric(),st.isalnum(), st.isascii(), st.isdigit() ,st.isdecimal(), st.islower(),st.isupper()"
      ],
      "metadata": {
        "id": "k3retbtciNZA"
      },
      "execution_count": null,
      "outputs": []
    },
    {
      "cell_type": "code",
      "source": [
        "st.isidentifier()\n",
        "# An identifier is a name used to identify a variable, function, class, module, or other objects in Python.\n",
        "# It must start with a letter (a-z, A-Z) or an underscore (_).\n",
        "# The remaining characters can be letters, underscores, or digits (0-9)."
      ],
      "metadata": {
        "id": "1mxCXAHuiq5f"
      },
      "execution_count": null,
      "outputs": []
    },
    {
      "cell_type": "code",
      "source": [
        "st.istitle()#True each word starts with an uppercase"
      ],
      "metadata": {
        "colab": {
          "base_uri": "https://localhost:8080/"
        },
        "id": "UCP3EAsvjeuD",
        "outputId": "ac85cf29-7247-4ce1-8c0f-d9eed32eae2b"
      },
      "execution_count": null,
      "outputs": [
        {
          "output_type": "execute_result",
          "data": {
            "text/plain": [
              "False"
            ]
          },
          "metadata": {},
          "execution_count": 99
        }
      ]
    },
    {
      "cell_type": "code",
      "source": [
        "st.isprintable()#printable chars are easily displayed and unprintable chars are esc chars"
      ],
      "metadata": {
        "id": "y9CYyloikA76"
      },
      "execution_count": null,
      "outputs": []
    },
    {
      "cell_type": "code",
      "source": [
        "print(', '.join(['a','b','c']))#joins elements from an iterable (like a list, tuple, or string) by joining them together using a specified string separator.\n",
        "print('-'.join(\"pushpa\"))"
      ],
      "metadata": {
        "colab": {
          "base_uri": "https://localhost:8080/"
        },
        "id": "RvnKdZuHlBe2",
        "outputId": "cf3b84c4-999b-4196-cefd-df9482eafd9d"
      },
      "execution_count": null,
      "outputs": [
        {
          "output_type": "stream",
          "name": "stdout",
          "text": [
            "a, b, c\n",
            "p-u-s-h-p-a\n"
          ]
        }
      ]
    },
    {
      "cell_type": "code",
      "source": [
        "trans_table=st.maketrans('aeiou','12345')\n",
        "st.translate(trans_table)"
      ],
      "metadata": {
        "colab": {
          "base_uri": "https://localhost:8080/",
          "height": 36
        },
        "id": "KkZptWrRO1Ku",
        "outputId": "a241e415-2c77-44fe-fc42-b4db12a8736c"
      },
      "execution_count": null,
      "outputs": [
        {
          "output_type": "execute_result",
          "data": {
            "text/plain": [
              "'p5shp1'"
            ],
            "application/vnd.google.colaboratory.intrinsic+json": {
              "type": "string"
            }
          },
          "metadata": {},
          "execution_count": 8
        }
      ]
    },
    {
      "cell_type": "code",
      "source": [
        "st=' Pushpa '\n",
        "st.strip()#st.lstrip() and st.rstrip()"
      ],
      "metadata": {
        "colab": {
          "base_uri": "https://localhost:8080/",
          "height": 36
        },
        "id": "Q7MDpUNGP5hR",
        "outputId": "ea0742be-9c51-4c92-dfaf-06b71d75ee90"
      },
      "execution_count": null,
      "outputs": [
        {
          "output_type": "execute_result",
          "data": {
            "text/plain": [
              "'Pushpa '"
            ],
            "application/vnd.google.colaboratory.intrinsic+json": {
              "type": "string"
            }
          },
          "metadata": {},
          "execution_count": 10
        }
      ]
    },
    {
      "cell_type": "code",
      "source": [
        "#returns a 3 ele tuple, if sep not found, then (st, \"\", \"\")\n",
        "st1=\"hello-pushpa\"\n",
        "st1.partition(\"-\")#(1st, sep, last)\n",
        "#st1.rpartition(\"-\")#(last,set,1st"
      ],
      "metadata": {
        "colab": {
          "base_uri": "https://localhost:8080/"
        },
        "id": "FJu2bGnZRJ_Z",
        "outputId": "e7715b28-14f5-4422-c514-f95fb96ccfea"
      },
      "execution_count": null,
      "outputs": [
        {
          "output_type": "execute_result",
          "data": {
            "text/plain": [
              "('hello', '-', 'pushpa')"
            ]
          },
          "metadata": {},
          "execution_count": 46
        }
      ]
    },
    {
      "cell_type": "code",
      "source": [
        "st2=\"Pushpa\"\n",
        "st2.lower().removeprefix(\"push\")#st.removesuffix()"
      ],
      "metadata": {
        "colab": {
          "base_uri": "https://localhost:8080/",
          "height": 36
        },
        "id": "0WRyX1VkSyFv",
        "outputId": "e258549e-4983-49c1-d643-887d6c384390"
      },
      "execution_count": null,
      "outputs": [
        {
          "output_type": "execute_result",
          "data": {
            "text/plain": [
              "'pa'"
            ],
            "application/vnd.google.colaboratory.intrinsic+json": {
              "type": "string"
            }
          },
          "metadata": {},
          "execution_count": 26
        }
      ]
    },
    {
      "cell_type": "code",
      "source": [
        "st=\"hello Pushpa\"\n",
        "st.replace(\"hello\",\"hi\")"
      ],
      "metadata": {
        "colab": {
          "base_uri": "https://localhost:8080/",
          "height": 36
        },
        "id": "ZeSqiUuqVHZz",
        "outputId": "a641b784-d126-403a-9382-6319bba92b14"
      },
      "execution_count": null,
      "outputs": [
        {
          "output_type": "execute_result",
          "data": {
            "text/plain": [
              "'hi Pushpa'"
            ],
            "application/vnd.google.colaboratory.intrinsic+json": {
              "type": "string"
            }
          },
          "metadata": {},
          "execution_count": 27
        }
      ]
    },
    {
      "cell_type": "code",
      "source": [
        "st=\"p,u,s,h,p,a\"\n",
        "print(st.split(',',2))#splits and returns a list with max 2 split from the let\n",
        "st.rsplit(',',2)# splits and returns a list with max 2 split from the right"
      ],
      "metadata": {
        "colab": {
          "base_uri": "https://localhost:8080/"
        },
        "id": "UBIEwVfFYmwm",
        "outputId": "edd1d50e-67e8-4acc-9718-e28d7d678ab3"
      },
      "execution_count": null,
      "outputs": [
        {
          "output_type": "stream",
          "name": "stdout",
          "text": [
            "['p', 'u', 's,h,p,a']\n"
          ]
        },
        {
          "output_type": "execute_result",
          "data": {
            "text/plain": [
              "['p,u,s,h', 'p', 'a']"
            ]
          },
          "metadata": {},
          "execution_count": 43
        }
      ]
    },
    {
      "cell_type": "code",
      "source": [
        "l=[1,2,'a','b']\n",
        "print(l,type(l))\n",
        "print(l[0])\n",
        "\n",
        "t=(1,2,'a','b')\n",
        "print(t,type(t))\n",
        "print(t[0])\n",
        "\n",
        "s={1,2,0,'a','b',True,False}\n",
        "print(s,type(s))\n",
        "\n",
        "D={'1':'a','2':'b','3':'c','d':'dates','e':'email'}\n",
        "print(D,type(D))\n",
        "D['1']\n"
      ],
      "metadata": {
        "id": "oAANUC3Txyxz",
        "colab": {
          "base_uri": "https://localhost:8080/",
          "height": 140
        },
        "outputId": "b3cc95a6-c31a-4b99-f466-1963c8f7ba01"
      },
      "execution_count": null,
      "outputs": [
        {
          "output_type": "stream",
          "name": "stdout",
          "text": [
            "[1, 2, 'a', 'b'] <class 'list'>\n",
            "1\n",
            "(1, 2, 'a', 'b') <class 'tuple'>\n",
            "1\n",
            "{0, 1, 2, 'a', 'b'} <class 'set'>\n",
            "{'1': 'a', '2': 'b', '3': 'c', 'd': 'dates', 'e': 'email'} <class 'dict'>\n"
          ]
        },
        {
          "output_type": "execute_result",
          "data": {
            "text/plain": [
              "'a'"
            ],
            "application/vnd.google.colaboratory.intrinsic+json": {
              "type": "string"
            }
          },
          "metadata": {},
          "execution_count": 9
        }
      ]
    },
    {
      "cell_type": "code",
      "source": [
        "#BUILTIN FUNCTIONS FOR LIST\n",
        "list1=[1,2,3,'a','b',True,False,1]\n",
        "list1.append('d')#adds at the end\n",
        "print(list1)\n"
      ],
      "metadata": {
        "colab": {
          "base_uri": "https://localhost:8080/"
        },
        "id": "VX5wWF414xEH",
        "outputId": "233f0cec-905f-4b9f-e6e0-cad191dc52c1"
      },
      "execution_count": null,
      "outputs": [
        {
          "output_type": "stream",
          "name": "stdout",
          "text": [
            "[1, 2, 3, 'a', 'b', True, False, 1, 'd']\n"
          ]
        }
      ]
    },
    {
      "cell_type": "code",
      "source": [
        "list1=['a','b','c','d']\n",
        "list1[3]='e'#updates index 3 element\n",
        "list1"
      ],
      "metadata": {
        "colab": {
          "base_uri": "https://localhost:8080/"
        },
        "id": "JVpKNe3sNOq9",
        "outputId": "82a97de9-3deb-43fa-d275-fe3f46c994f9"
      },
      "execution_count": null,
      "outputs": [
        {
          "output_type": "execute_result",
          "data": {
            "text/plain": [
              "['a', 'b', 'c', 'e']"
            ]
          },
          "metadata": {},
          "execution_count": 20
        }
      ]
    },
    {
      "cell_type": "code",
      "source": [
        "list1.extend(['d','e',3,4])\n",
        "print(list1)"
      ],
      "metadata": {
        "colab": {
          "base_uri": "https://localhost:8080/"
        },
        "id": "J8un4qqWMPx7",
        "outputId": "99608635-e5b4-4c61-a74f-f5f211a45296"
      },
      "execution_count": null,
      "outputs": [
        {
          "output_type": "stream",
          "name": "stdout",
          "text": [
            "[1, 2, 3, 'a', 'b', True, False, 1, 'd', 'e', 3, 4]\n"
          ]
        }
      ]
    },
    {
      "cell_type": "code",
      "source": [
        "list1.clear()\n",
        "print(list1)"
      ],
      "metadata": {
        "colab": {
          "base_uri": "https://localhost:8080/"
        },
        "id": "PlX5fdId8fF2",
        "outputId": "f01d63cb-5dd7-4987-c510-2b89d1d0c8a9"
      },
      "execution_count": null,
      "outputs": [
        {
          "output_type": "stream",
          "name": "stdout",
          "text": [
            "[]\n"
          ]
        }
      ]
    },
    {
      "cell_type": "code",
      "source": [
        "list1=[1, 2, 3, 'a', 'b', True, False, 1, 'd']\n",
        "list2=list1.copy()\n",
        "print(list2)"
      ],
      "metadata": {
        "colab": {
          "base_uri": "https://localhost:8080/"
        },
        "id": "Wz5AMuru8lhG",
        "outputId": "5505da45-64da-419f-d75f-3ea9fb3824f2"
      },
      "execution_count": null,
      "outputs": [
        {
          "output_type": "stream",
          "name": "stdout",
          "text": [
            "[1, 2, 3, 'a', 'b', True, False, 1, 'd']\n"
          ]
        }
      ]
    },
    {
      "cell_type": "code",
      "source": [
        "list1.count(1)"
      ],
      "metadata": {
        "colab": {
          "base_uri": "https://localhost:8080/"
        },
        "id": "KqEbq_W08z-6",
        "outputId": "e0b76bf5-c289-499d-bfbd-e578206f38e9"
      },
      "execution_count": null,
      "outputs": [
        {
          "output_type": "execute_result",
          "data": {
            "text/plain": [
              "3"
            ]
          },
          "metadata": {},
          "execution_count": 9
        }
      ]
    },
    {
      "cell_type": "code",
      "source": [
        "list1.index('a',0,7)\n",
        "list1.index('a')"
      ],
      "metadata": {
        "colab": {
          "base_uri": "https://localhost:8080/"
        },
        "id": "N6jPGtpO9JkQ",
        "outputId": "9debfa6c-5877-4a85-af29-b5faf9295e25"
      },
      "execution_count": null,
      "outputs": [
        {
          "output_type": "execute_result",
          "data": {
            "text/plain": [
              "0"
            ]
          },
          "metadata": {},
          "execution_count": 30
        }
      ]
    },
    {
      "cell_type": "code",
      "source": [
        "list1.insert(0,'z')\n",
        "print(list1)"
      ],
      "metadata": {
        "colab": {
          "base_uri": "https://localhost:8080/"
        },
        "id": "NCEWzszd9eLT",
        "outputId": "2bb19464-e30d-441c-ce36-b114faba6e7e"
      },
      "execution_count": null,
      "outputs": [
        {
          "output_type": "stream",
          "name": "stdout",
          "text": [
            "['z', 1, 2, 3, 'a', 'b', True, False, 1, 'd', 'd', 'e', 3, 4]\n"
          ]
        }
      ]
    },
    {
      "cell_type": "code",
      "source": [
        "list1.pop()\n",
        "print(list1)"
      ],
      "metadata": {
        "colab": {
          "base_uri": "https://localhost:8080/"
        },
        "id": "ehezF69f9ocK",
        "outputId": "6c632d8f-c1d1-4b03-86fc-3aa4a8f3a354"
      },
      "execution_count": null,
      "outputs": [
        {
          "output_type": "stream",
          "name": "stdout",
          "text": [
            "['a', 'b', 'c']\n"
          ]
        }
      ]
    },
    {
      "cell_type": "code",
      "source": [
        "list1=['z', 1, 2, 3, 'a', 'b', True, False, 1, 'd', 'd', 'e', 3, 4]\n",
        "list1.remove('z')\n",
        "print(list1)"
      ],
      "metadata": {
        "colab": {
          "base_uri": "https://localhost:8080/"
        },
        "id": "HkfRn1hL9vB_",
        "outputId": "01fbefa9-adc5-421c-98fa-e53c33586904"
      },
      "execution_count": null,
      "outputs": [
        {
          "output_type": "stream",
          "name": "stdout",
          "text": [
            "[1, 2, 3, 'a', 'b', True, False, 1, 'd', 'd', 'e', 3, 4]\n"
          ]
        }
      ]
    },
    {
      "cell_type": "code",
      "source": [
        "list1.reverse()\n",
        "print(list1)"
      ],
      "metadata": {
        "colab": {
          "base_uri": "https://localhost:8080/"
        },
        "id": "oRr7-u_C90Yc",
        "outputId": "8a7c0fd1-2bbb-498c-b34c-32e649cf628a"
      },
      "execution_count": null,
      "outputs": [
        {
          "output_type": "stream",
          "name": "stdout",
          "text": [
            "[4, 3, 'e', 'd', 'z', 'e', 'd', 'd', 'b', 'a']\n"
          ]
        }
      ]
    },
    {
      "cell_type": "code",
      "source": [
        "l=[ 'e', 'd', 'd' ,'b', 'a', 'z']\n",
        "l[0]\n"
      ],
      "metadata": {
        "colab": {
          "base_uri": "https://localhost:8080/",
          "height": 35
        },
        "id": "9j5RAc7Q96HG",
        "outputId": "ef009f7f-e448-4554-c459-c038042e9aba"
      },
      "execution_count": null,
      "outputs": [
        {
          "output_type": "execute_result",
          "data": {
            "text/plain": [
              "'e'"
            ],
            "application/vnd.google.colaboratory.intrinsic+json": {
              "type": "string"
            }
          },
          "metadata": {},
          "execution_count": 44
        }
      ]
    },
    {
      "cell_type": "code",
      "source": [
        "l=[ 'e', 'd', 'd' ,'b', 'a', 'z']\n",
        "min(l)\n",
        "max(l)"
      ],
      "metadata": {
        "colab": {
          "base_uri": "https://localhost:8080/",
          "height": 36
        },
        "id": "Bkin2mGoXfcW",
        "outputId": "89c8ac85-a983-4566-c0ce-ff6237e51973"
      },
      "execution_count": null,
      "outputs": [
        {
          "output_type": "execute_result",
          "data": {
            "text/plain": [
              "'z'"
            ],
            "application/vnd.google.colaboratory.intrinsic+json": {
              "type": "string"
            }
          },
          "metadata": {},
          "execution_count": 44
        }
      ]
    },
    {
      "cell_type": "code",
      "source": [
        "l[-1]"
      ],
      "metadata": {
        "colab": {
          "base_uri": "https://localhost:8080/",
          "height": 35
        },
        "id": "L6EBaTDjEXji",
        "outputId": "56d45667-8d5d-45cf-8692-26591b5e92ea"
      },
      "execution_count": null,
      "outputs": [
        {
          "output_type": "execute_result",
          "data": {
            "text/plain": [
              "'z'"
            ],
            "application/vnd.google.colaboratory.intrinsic+json": {
              "type": "string"
            }
          },
          "metadata": {},
          "execution_count": 46
        }
      ]
    },
    {
      "cell_type": "code",
      "source": [
        "l[:3:1]"
      ],
      "metadata": {
        "colab": {
          "base_uri": "https://localhost:8080/"
        },
        "id": "FXvVgSV6DReW",
        "outputId": "7ea97d54-0ac4-49eb-842b-a5e573c4ba96"
      },
      "execution_count": null,
      "outputs": [
        {
          "output_type": "execute_result",
          "data": {
            "text/plain": [
              "['e', 'd', 'd']"
            ]
          },
          "metadata": {},
          "execution_count": 39
        }
      ]
    },
    {
      "cell_type": "code",
      "source": [
        "l=['z', 'a', 'b', 'd', 'd', 'e']\n",
        "l[0:len(l):1]\n"
      ],
      "metadata": {
        "colab": {
          "base_uri": "https://localhost:8080/"
        },
        "id": "mtqiRk7CTZwD",
        "outputId": "a6fcf578-104c-4ad4-d40a-df1f53269c91"
      },
      "execution_count": null,
      "outputs": [
        {
          "output_type": "execute_result",
          "data": {
            "text/plain": [
              "['z', 'a', 'b', 'd', 'd', 'e']"
            ]
          },
          "metadata": {},
          "execution_count": 34
        }
      ]
    },
    {
      "cell_type": "code",
      "source": [
        "l=['z', 'a', 'b', 'd', 'd', 'e']\n",
        "l[::]"
      ],
      "metadata": {
        "colab": {
          "base_uri": "https://localhost:8080/"
        },
        "id": "unYCXvFRTf61",
        "outputId": "16fc96c0-2a6c-41f8-d03b-7bd35cfeb8dc"
      },
      "execution_count": null,
      "outputs": [
        {
          "output_type": "execute_result",
          "data": {
            "text/plain": [
              "['z', 'a', 'b', 'd', 'd', 'e']"
            ]
          },
          "metadata": {},
          "execution_count": 33
        }
      ]
    },
    {
      "cell_type": "code",
      "source": [
        "l=['z', 'a', 'b', 'd', 'd', 'e']\n",
        "l[-1:-(len(l)+1):-1]"
      ],
      "metadata": {
        "colab": {
          "base_uri": "https://localhost:8080/"
        },
        "id": "c-s10r7LDWmZ",
        "outputId": "4f902e68-4057-456a-8067-04d56f59a280"
      },
      "execution_count": null,
      "outputs": [
        {
          "output_type": "execute_result",
          "data": {
            "text/plain": [
              "['e', 'd', 'd', 'b', 'a', 'z']"
            ]
          },
          "metadata": {},
          "execution_count": 35
        }
      ]
    },
    {
      "cell_type": "code",
      "source": [
        "l=['z', 'a', 'b', 'd', 'd', 'e']\n",
        "l[::-1]"
      ],
      "metadata": {
        "colab": {
          "base_uri": "https://localhost:8080/"
        },
        "id": "zWZ3KbzWwbdd",
        "outputId": "968779bc-4c40-408d-9624-0325e48b1c16"
      },
      "execution_count": null,
      "outputs": [
        {
          "output_type": "execute_result",
          "data": {
            "text/plain": [
              "['e', 'd', 'd', 'b', 'a', 'z']"
            ]
          },
          "metadata": {},
          "execution_count": 38
        }
      ]
    },
    {
      "cell_type": "code",
      "source": [
        "l=['z', 'a', 'b', 'c', 'd', 'e']\n",
        "l[-2:2:-1]#second last till index 3"
      ],
      "metadata": {
        "colab": {
          "base_uri": "https://localhost:8080/"
        },
        "id": "66sdSQuEWMud",
        "outputId": "69043c31-b33c-4685-f313-5693cb91062e"
      },
      "execution_count": null,
      "outputs": [
        {
          "output_type": "execute_result",
          "data": {
            "text/plain": [
              "['d', 'c']"
            ]
          },
          "metadata": {},
          "execution_count": 41
        }
      ]
    },
    {
      "cell_type": "code",
      "source": [
        "l=['z', 'a', 'b', 'c', 'd', 'e']\n",
        "l[len(l)-1:3:-1]#last index till index 4"
      ],
      "metadata": {
        "colab": {
          "base_uri": "https://localhost:8080/"
        },
        "id": "9bbK_5yUDIWa",
        "outputId": "e312fc43-2dc6-4528-ecf8-fa4f9b003667"
      },
      "execution_count": null,
      "outputs": [
        {
          "output_type": "execute_result",
          "data": {
            "text/plain": [
              "['e', 'd']"
            ]
          },
          "metadata": {},
          "execution_count": 42
        }
      ]
    },
    {
      "cell_type": "code",
      "source": [
        "# builtin functions for tuple\n",
        "T=(1,'a',3,5,7,'a','c',1,'a')\n",
        "T"
      ],
      "metadata": {
        "colab": {
          "base_uri": "https://localhost:8080/"
        },
        "id": "uhBQ2lBnTLDA",
        "outputId": "9db814e7-aae6-4df7-c8c3-fe58b71d9b68"
      },
      "execution_count": null,
      "outputs": [
        {
          "output_type": "execute_result",
          "data": {
            "text/plain": [
              "(1, 'a', 3, 5, 7, 'a', 'c', 1, 'a')"
            ]
          },
          "metadata": {},
          "execution_count": 23
        }
      ]
    },
    {
      "cell_type": "code",
      "source": [
        "T[1]"
      ],
      "metadata": {
        "colab": {
          "base_uri": "https://localhost:8080/",
          "height": 36
        },
        "id": "cRZIDBpiUKkN",
        "outputId": "842b4d14-fb39-4f03-9a6e-efa200b6b4e8"
      },
      "execution_count": null,
      "outputs": [
        {
          "output_type": "execute_result",
          "data": {
            "text/plain": [
              "'a'"
            ],
            "application/vnd.google.colaboratory.intrinsic+json": {
              "type": "string"
            }
          },
          "metadata": {},
          "execution_count": 9
        }
      ]
    },
    {
      "cell_type": "code",
      "source": [
        "T[1:4]"
      ],
      "metadata": {
        "colab": {
          "base_uri": "https://localhost:8080/"
        },
        "id": "EUPJqycMUPts",
        "outputId": "e9ae3704-6e5a-4f1d-ff1d-abfb62bbb819"
      },
      "execution_count": null,
      "outputs": [
        {
          "output_type": "execute_result",
          "data": {
            "text/plain": [
              "('a', 3, 5)"
            ]
          },
          "metadata": {},
          "execution_count": 10
        }
      ]
    },
    {
      "cell_type": "code",
      "source": [
        "T[::-1]"
      ],
      "metadata": {
        "colab": {
          "base_uri": "https://localhost:8080/"
        },
        "id": "OxmQ7P76UY_e",
        "outputId": "a21af579-4048-4d02-8e2e-a25fc7b4006b"
      },
      "execution_count": null,
      "outputs": [
        {
          "output_type": "execute_result",
          "data": {
            "text/plain": [
              "('a', 1, 'c', 'a', 7, 5, 3, 'a', 1)"
            ]
          },
          "metadata": {},
          "execution_count": 11
        }
      ]
    },
    {
      "cell_type": "code",
      "source": [
        "T.count('a')"
      ],
      "metadata": {
        "colab": {
          "base_uri": "https://localhost:8080/"
        },
        "id": "gSZv5jeeTj0U",
        "outputId": "72f81fb0-4146-439e-a3b2-e0e5c6900c57"
      },
      "execution_count": null,
      "outputs": [
        {
          "output_type": "execute_result",
          "data": {
            "text/plain": [
              "3"
            ]
          },
          "metadata": {},
          "execution_count": 6
        }
      ]
    },
    {
      "cell_type": "code",
      "source": [
        "T.index('c')"
      ],
      "metadata": {
        "colab": {
          "base_uri": "https://localhost:8080/"
        },
        "id": "iQR03W9FT2Gm",
        "outputId": "a78a7adf-310b-4138-9644-917c68addd6e"
      },
      "execution_count": null,
      "outputs": [
        {
          "output_type": "execute_result",
          "data": {
            "text/plain": [
              "6"
            ]
          },
          "metadata": {},
          "execution_count": 8
        }
      ]
    },
    {
      "cell_type": "code",
      "source": [
        "len(T)"
      ],
      "metadata": {
        "colab": {
          "base_uri": "https://localhost:8080/"
        },
        "id": "nAs5VsNnUyk9",
        "outputId": "d48e5e6b-0d16-43f0-b621-199875b2409b"
      },
      "execution_count": null,
      "outputs": [
        {
          "output_type": "execute_result",
          "data": {
            "text/plain": [
              "9"
            ]
          },
          "metadata": {},
          "execution_count": 13
        }
      ]
    },
    {
      "cell_type": "code",
      "source": [
        "T1=(1,2,3,4,5)\n",
        "max(T1)\n",
        "min(T1)"
      ],
      "metadata": {
        "colab": {
          "base_uri": "https://localhost:8080/"
        },
        "id": "wCfgF0rGU6Th",
        "outputId": "f7de61c2-a253-426c-e17b-b74284d46ce3"
      },
      "execution_count": null,
      "outputs": [
        {
          "output_type": "execute_result",
          "data": {
            "text/plain": [
              "1"
            ]
          },
          "metadata": {},
          "execution_count": 16
        }
      ]
    },
    {
      "cell_type": "code",
      "source": [
        "L=[1,2,3]\n",
        "T=tuple(L)\n",
        "T"
      ],
      "metadata": {
        "colab": {
          "base_uri": "https://localhost:8080/"
        },
        "id": "3XI8cgngVSrN",
        "outputId": "269081d8-6d4d-405e-ff03-d61b36398414"
      },
      "execution_count": null,
      "outputs": [
        {
          "output_type": "execute_result",
          "data": {
            "text/plain": [
              "(1, 2, 3)"
            ]
          },
          "metadata": {},
          "execution_count": 18
        }
      ]
    },
    {
      "cell_type": "code",
      "source": [
        "#builtin functions for Set\n",
        "S={1,3,5,7,9,True,'a',3}\n",
        "S.add('b')\n",
        "S"
      ],
      "metadata": {
        "colab": {
          "base_uri": "https://localhost:8080/"
        },
        "id": "yGF3FNDgVmVQ",
        "outputId": "75db66a4-2ea1-4fa1-cada-94985c0eaf19"
      },
      "execution_count": null,
      "outputs": [
        {
          "output_type": "execute_result",
          "data": {
            "text/plain": [
              "{1, 3, 5, 7, 9, 'a', 'b'}"
            ]
          },
          "metadata": {},
          "execution_count": 47
        }
      ]
    },
    {
      "cell_type": "code",
      "source": [
        "S.clear()\n",
        "S"
      ],
      "metadata": {
        "colab": {
          "base_uri": "https://localhost:8080/"
        },
        "id": "KOW_AZ1kWF-X",
        "outputId": "f03e3ad8-7f39-4df2-80c3-f6d1586fa755"
      },
      "execution_count": null,
      "outputs": [
        {
          "output_type": "execute_result",
          "data": {
            "text/plain": [
              "set()"
            ]
          },
          "metadata": {},
          "execution_count": 26
        }
      ]
    },
    {
      "cell_type": "code",
      "source": [
        "S={1,3,5,7,9,True,'a'} #Boolean True is treated as integer 1 in sets\n",
        "S1=S.copy()#creates a new copy of S in memory.So change in S1 has no effect on S\n",
        "S1.add('b')\n",
        "print('S1 is: ',S1)\n",
        "print('S is: ',S)"
      ],
      "metadata": {
        "colab": {
          "base_uri": "https://localhost:8080/"
        },
        "id": "nkPs-g-1WP5e",
        "outputId": "2836466c-4cfe-4410-ec86-e78f38fb9e4d"
      },
      "execution_count": null,
      "outputs": [
        {
          "output_type": "stream",
          "name": "stdout",
          "text": [
            "S1 is:  {'a', 1, 3, 5, 7, 9, 'b'}\n",
            "S is:  {'a', 1, 3, 5, 7, 9}\n"
          ]
        }
      ]
    },
    {
      "cell_type": "code",
      "source": [
        "S={1,3,5,7,9,True,'a'}\n",
        "S.remove(1)\n",
        "print(S)"
      ],
      "metadata": {
        "colab": {
          "base_uri": "https://localhost:8080/"
        },
        "id": "iIYKCPmpX9Ud",
        "outputId": "b4abe3e1-b090-47cf-b049-c32716b9893a"
      },
      "execution_count": null,
      "outputs": [
        {
          "output_type": "stream",
          "name": "stdout",
          "text": [
            "{3, 5, 7, 9, 'a'}\n"
          ]
        }
      ]
    },
    {
      "cell_type": "code",
      "source": [
        "s={1,2,3}\n",
        "s.pop()#removes and returns the arbitrary ele as set is not ordered.\n",
        "s # popped set"
      ],
      "metadata": {
        "colab": {
          "base_uri": "https://localhost:8080/"
        },
        "id": "JFFdb9mMYQ3n",
        "outputId": "62f107bb-9c8f-4190-d232-c72828c1b9ef"
      },
      "execution_count": null,
      "outputs": [
        {
          "output_type": "execute_result",
          "data": {
            "text/plain": [
              "{2, 3}"
            ]
          },
          "metadata": {},
          "execution_count": 49
        }
      ]
    },
    {
      "cell_type": "code",
      "source": [
        "S1.difference(S)#returns a new  set S1-S\n"
      ],
      "metadata": {
        "colab": {
          "base_uri": "https://localhost:8080/"
        },
        "id": "v_tEXFKCW4zk",
        "outputId": "884433f9-57ef-4cc3-8053-f81593bb4061"
      },
      "execution_count": null,
      "outputs": [
        {
          "output_type": "execute_result",
          "data": {
            "text/plain": [
              "{'b'}"
            ]
          },
          "metadata": {},
          "execution_count": 65
        }
      ]
    },
    {
      "cell_type": "code",
      "source": [
        "S={1, 3, 5, 'b', 7, 9, 'a'}\n",
        "S1={1,3}\n",
        "S.difference_update(S1)#updates the original set, returns nothing\n",
        "S\n"
      ],
      "metadata": {
        "colab": {
          "base_uri": "https://localhost:8080/"
        },
        "id": "iufdMNAZXXbL",
        "outputId": "0365f9e0-d7c4-43da-bdb6-e54ca27dc62c"
      },
      "execution_count": null,
      "outputs": [
        {
          "output_type": "execute_result",
          "data": {
            "text/plain": [
              "{5, 7, 9, 'a', 'b'}"
            ]
          },
          "metadata": {},
          "execution_count": 69
        }
      ]
    },
    {
      "cell_type": "code",
      "source": [
        "S.discard(5)#updates set with discarding the arg, returns nothing\n",
        "S"
      ],
      "metadata": {
        "colab": {
          "base_uri": "https://localhost:8080/"
        },
        "id": "8Soq2NmuevNT",
        "outputId": "8de1ecbc-6a92-4d36-ae3b-0c18dc48bad0"
      },
      "execution_count": null,
      "outputs": [
        {
          "output_type": "execute_result",
          "data": {
            "text/plain": [
              "{7, 9, 'a', 'b'}"
            ]
          },
          "metadata": {},
          "execution_count": 71
        }
      ]
    },
    {
      "cell_type": "code",
      "source": [
        "S1={7,'c'}\n",
        "S.intersection(S1)#returns the intersection"
      ],
      "metadata": {
        "colab": {
          "base_uri": "https://localhost:8080/"
        },
        "id": "JSMoy6e9fU_w",
        "outputId": "17c5f238-9224-4c31-b7ef-165879697eb3"
      },
      "execution_count": null,
      "outputs": [
        {
          "output_type": "execute_result",
          "data": {
            "text/plain": [
              "{7}"
            ]
          },
          "metadata": {},
          "execution_count": 74
        }
      ]
    },
    {
      "cell_type": "code",
      "source": [
        "S.intersection_update(S1)#updates the set as intersection, returns nothing\n",
        "S"
      ],
      "metadata": {
        "colab": {
          "base_uri": "https://localhost:8080/"
        },
        "id": "estOQ4h0fuAC",
        "outputId": "b6352b0b-e75b-4664-a9b8-c09e002be14e"
      },
      "execution_count": null,
      "outputs": [
        {
          "output_type": "execute_result",
          "data": {
            "text/plain": [
              "{7}"
            ]
          },
          "metadata": {},
          "execution_count": 76
        }
      ]
    },
    {
      "cell_type": "code",
      "source": [
        "S.isdisjoint(S1)#boolean"
      ],
      "metadata": {
        "colab": {
          "base_uri": "https://localhost:8080/"
        },
        "id": "ATelWiQngO_q",
        "outputId": "cf34dcf9-cb64-401f-db1a-65417d29cffa"
      },
      "execution_count": null,
      "outputs": [
        {
          "output_type": "execute_result",
          "data": {
            "text/plain": [
              "False"
            ]
          },
          "metadata": {},
          "execution_count": 77
        }
      ]
    },
    {
      "cell_type": "code",
      "source": [
        "S.issubset(S1)#boolean"
      ],
      "metadata": {
        "colab": {
          "base_uri": "https://localhost:8080/"
        },
        "id": "v3_NYaAlgdck",
        "outputId": "ced4e245-f5ae-4610-83df-ce1f5f93ab88"
      },
      "execution_count": null,
      "outputs": [
        {
          "output_type": "execute_result",
          "data": {
            "text/plain": [
              "True"
            ]
          },
          "metadata": {},
          "execution_count": 78
        }
      ]
    },
    {
      "cell_type": "code",
      "source": [
        "S.issuperset(S1)#boolean"
      ],
      "metadata": {
        "colab": {
          "base_uri": "https://localhost:8080/"
        },
        "id": "QxSSqCtngkTJ",
        "outputId": "ddd6509c-fd6f-4507-e393-7b88eac42fc7"
      },
      "execution_count": null,
      "outputs": [
        {
          "output_type": "execute_result",
          "data": {
            "text/plain": [
              "False"
            ]
          },
          "metadata": {},
          "execution_count": 79
        }
      ]
    },
    {
      "cell_type": "code",
      "source": [
        "S={1, 3, 5, 'b', 7, 9, 'a'}\n",
        "S1={1,10,11}\n",
        "S.symmetric_difference(S1)#Returns So+S1o"
      ],
      "metadata": {
        "colab": {
          "base_uri": "https://localhost:8080/"
        },
        "id": "XutbBVkXiLIU",
        "outputId": "aedf29c8-890b-406e-cf15-3d29973eb87d"
      },
      "execution_count": null,
      "outputs": [
        {
          "output_type": "execute_result",
          "data": {
            "text/plain": [
              "{10, 11, 3, 5, 7, 9, 'a', 'b'}"
            ]
          },
          "metadata": {},
          "execution_count": 95
        }
      ]
    },
    {
      "cell_type": "code",
      "source": [
        "S.symmetric_difference_update(S1) #updates set with So+S1o and returns nothing\n",
        "S"
      ],
      "metadata": {
        "colab": {
          "base_uri": "https://localhost:8080/"
        },
        "id": "psEJkt22jCD3",
        "outputId": "85eec093-7779-4796-e866-b86fbd2556e1"
      },
      "execution_count": null,
      "outputs": [
        {
          "output_type": "execute_result",
          "data": {
            "text/plain": [
              "{1, 3, 5, 7, 9, 'a', 'b'}"
            ]
          },
          "metadata": {},
          "execution_count": 97
        }
      ]
    },
    {
      "cell_type": "code",
      "source": [
        "S.union(S1)"
      ],
      "metadata": {
        "colab": {
          "base_uri": "https://localhost:8080/"
        },
        "id": "7aFs3GGCqq_c",
        "outputId": "62be2080-4d98-4c84-9016-3d3a3b59c045"
      },
      "execution_count": null,
      "outputs": [
        {
          "output_type": "execute_result",
          "data": {
            "text/plain": [
              "{1, 10, 11, 3, 5, 7, 9, 'a', 'b'}"
            ]
          },
          "metadata": {},
          "execution_count": 98
        }
      ]
    },
    {
      "cell_type": "code",
      "source": [
        "S.update({'a','e','i','o','u'})#updates and returns nothing\n",
        "S"
      ],
      "metadata": {
        "colab": {
          "base_uri": "https://localhost:8080/"
        },
        "id": "FwcWTbwNqv2R",
        "outputId": "94c693b7-ce8f-41c5-db1a-029ecbe77372"
      },
      "execution_count": null,
      "outputs": [
        {
          "output_type": "execute_result",
          "data": {
            "text/plain": [
              "{1, 3, 5, 7, 9, 'a', 'b', 'e', 'i', 'o', 'u'}"
            ]
          },
          "metadata": {},
          "execution_count": 100
        }
      ]
    },
    {
      "cell_type": "code",
      "source": [
        "#BUILTIN METHODS FOR DICTIONARY\n",
        "D={'1':'a','2':'b','3':'c','4':'d','5':'e'}\n",
        "D1=D.copy()"
      ],
      "metadata": {
        "id": "Tqrd-hmdLXbC"
      },
      "execution_count": null,
      "outputs": []
    },
    {
      "cell_type": "code",
      "source": [
        "D1.clear()\n",
        "D1"
      ],
      "metadata": {
        "colab": {
          "base_uri": "https://localhost:8080/"
        },
        "id": "uTMMNWJ9NZGT",
        "outputId": "f3696d83-8666-4c2d-a748-0258a0ba62d1"
      },
      "execution_count": null,
      "outputs": [
        {
          "output_type": "execute_result",
          "data": {
            "text/plain": [
              "{}"
            ]
          },
          "metadata": {},
          "execution_count": 9
        }
      ]
    },
    {
      "cell_type": "code",
      "source": [
        "D.get(1)#D['1']\n"
      ],
      "metadata": {
        "colab": {
          "base_uri": "https://localhost:8080/",
          "height": 36
        },
        "id": "APQMdl8NNlCc",
        "outputId": "b3fccea3-b5a8-414f-8b36-01db5e63698a"
      },
      "execution_count": null,
      "outputs": [
        {
          "output_type": "execute_result",
          "data": {
            "text/plain": [
              "'a'"
            ],
            "application/vnd.google.colaboratory.intrinsic+json": {
              "type": "string"
            }
          },
          "metadata": {},
          "execution_count": 15
        }
      ]
    },
    {
      "cell_type": "code",
      "source": [
        "#D.append() No append() as D is unordered\n",
        "D['6']='b' # if key '6' already exists, it updates the value.\n",
        "D"
      ],
      "metadata": {
        "colab": {
          "base_uri": "https://localhost:8080/"
        },
        "id": "akNqv1cBOCBd",
        "outputId": "d7c2444a-a5a8-46b7-cab0-8d580b2b9a1c"
      },
      "execution_count": null,
      "outputs": [
        {
          "output_type": "execute_result",
          "data": {
            "text/plain": [
              "{'1': 'a', '2': 'b', '3': 'c', '4': 'd', '5': 'e', '6': 'b'}"
            ]
          },
          "metadata": {},
          "execution_count": 20
        }
      ]
    },
    {
      "cell_type": "code",
      "source": [
        "del D['6']\n",
        "D"
      ],
      "metadata": {
        "colab": {
          "base_uri": "https://localhost:8080/"
        },
        "id": "4vn7X1OnO-qF",
        "outputId": "53fd93ab-af90-424c-fe56-07b9a787ebeb"
      },
      "execution_count": null,
      "outputs": [
        {
          "output_type": "execute_result",
          "data": {
            "text/plain": [
              "{'1': 'a', '2': 'b', '3': 'c', '4': 'd', '5': 'e'}"
            ]
          },
          "metadata": {},
          "execution_count": 21
        }
      ]
    },
    {
      "cell_type": "code",
      "source": [
        "D.update({'6':'b','7':'c'})\n",
        "D"
      ],
      "metadata": {
        "colab": {
          "base_uri": "https://localhost:8080/"
        },
        "id": "4OkNxlzRPGEd",
        "outputId": "76479b61-a6f3-4fbf-a739-8bcf8d5cec0a"
      },
      "execution_count": null,
      "outputs": [
        {
          "output_type": "execute_result",
          "data": {
            "text/plain": [
              "{'1': 'a', '2': 'b', '3': 'c', '4': 'd', '5': 'e', '6': 'b', '7': 'c'}"
            ]
          },
          "metadata": {},
          "execution_count": 23
        }
      ]
    },
    {
      "cell_type": "code",
      "source": [
        "D.keys()#list of keys"
      ],
      "metadata": {
        "colab": {
          "base_uri": "https://localhost:8080/"
        },
        "id": "N9D0JuClPpjs",
        "outputId": "10ab72dc-1298-4410-eedb-4362bd1ece88"
      },
      "execution_count": null,
      "outputs": [
        {
          "output_type": "execute_result",
          "data": {
            "text/plain": [
              "dict_keys(['1', '2', '3', '4', '5', '6', '7'])"
            ]
          },
          "metadata": {},
          "execution_count": 25
        }
      ]
    },
    {
      "cell_type": "code",
      "source": [
        "D.values()#list of values"
      ],
      "metadata": {
        "colab": {
          "base_uri": "https://localhost:8080/"
        },
        "id": "vlXw4rNDPiZ3",
        "outputId": "c414f5e9-b703-4561-b323-639b652866ee"
      },
      "execution_count": null,
      "outputs": [
        {
          "output_type": "execute_result",
          "data": {
            "text/plain": [
              "dict_values(['a', 'b', 'c', 'd', 'e', 'b', 'c'])"
            ]
          },
          "metadata": {},
          "execution_count": 24
        }
      ]
    },
    {
      "cell_type": "code",
      "source": [
        "my_dict = {'apple': 3, 'banana': 7, 'orange': 5}\n",
        "print(my_dict.items())# list of (key, value) tuples\n",
        "\n",
        "# Using items() to get key-value pairs\n",
        "for k, v in my_dict.items():\n",
        "    print(f\"Key: {k}, Value: {v}\")\n"
      ],
      "metadata": {
        "colab": {
          "base_uri": "https://localhost:8080/"
        },
        "id": "LEqCshnrTnXI",
        "outputId": "293bab2e-25f4-4938-e3cc-59b4202360d6"
      },
      "execution_count": null,
      "outputs": [
        {
          "output_type": "stream",
          "name": "stdout",
          "text": [
            "dict_items([('apple', 3), ('banana', 7), ('orange', 5)])\n",
            "Key: apple, Value: 3\n",
            "Key: banana, Value: 7\n",
            "Key: orange, Value: 5\n"
          ]
        }
      ]
    },
    {
      "cell_type": "code",
      "source": [
        "{k:v for k,v in my_dict.items()if k.startswith(('a' , 'e' ,'i' , 'o' , 'u'))}#dict comprehension"
      ],
      "metadata": {
        "colab": {
          "base_uri": "https://localhost:8080/"
        },
        "id": "M493_MGlwEw7",
        "outputId": "61fffd30-e6b7-4cc8-a75e-f5de86433556"
      },
      "execution_count": null,
      "outputs": [
        {
          "output_type": "execute_result",
          "data": {
            "text/plain": [
              "{'apple': 3, 'orange': 5}"
            ]
          },
          "metadata": {},
          "execution_count": 7
        }
      ]
    },
    {
      "cell_type": "code",
      "source": [
        "D={'1': 'a', '2': 'b', '3': 'c', '4': 'd', '5': 'e', '6': 'b'}\n",
        "print(D.pop('1'))# D['1'] but pots the ele too.\n",
        "# D.pop('7')#KeyError\n",
        "print(D)"
      ],
      "metadata": {
        "colab": {
          "base_uri": "https://localhost:8080/"
        },
        "id": "NXhIyuLMPzQd",
        "outputId": "126d5d8d-3a30-4711-b729-b7cb637fd0e0"
      },
      "execution_count": null,
      "outputs": [
        {
          "output_type": "stream",
          "name": "stdout",
          "text": [
            "a\n",
            "{'2': 'b', '3': 'c', '4': 'd', '5': 'e', '6': 'b'}\n"
          ]
        }
      ]
    },
    {
      "cell_type": "code",
      "source": [
        "D.popitem()#remove and return an arbitrary (key, value) pair as a tuple."
      ],
      "metadata": {
        "colab": {
          "base_uri": "https://localhost:8080/"
        },
        "id": "o_C-PayoRK8S",
        "outputId": "20e35902-1cd1-4465-b46d-9161ede4656e"
      },
      "execution_count": null,
      "outputs": [
        {
          "output_type": "execute_result",
          "data": {
            "text/plain": [
              "('6', 'b')"
            ]
          },
          "metadata": {},
          "execution_count": 41
        }
      ]
    },
    {
      "cell_type": "code",
      "source": [
        "L=['a','b','c']\n",
        "dict.fromkeys(L,1)#creates a new dictionary with keys from an iterable and assigns the default value to each key.\n",
        "dict.fromkeys(L)#None val is assigned to each key"
      ],
      "metadata": {
        "colab": {
          "base_uri": "https://localhost:8080/"
        },
        "id": "YEDD8znWR6w8",
        "outputId": "df659d29-6ab7-40aa-a32d-ce8afeaef707"
      },
      "execution_count": null,
      "outputs": [
        {
          "output_type": "execute_result",
          "data": {
            "text/plain": [
              "{'a': None, 'b': None, 'c': None}"
            ]
          },
          "metadata": {},
          "execution_count": 45
        }
      ]
    },
    {
      "cell_type": "code",
      "source": [
        "D={'a':1,'b':2}\n",
        "print(D.setdefault('c', 3)) # returns a value associated with a given key and updates the D.\n",
        "D\n",
        "#D.setdefault('b', 3)# If the key is present in the dictionary, it returns the original value."
      ],
      "metadata": {
        "colab": {
          "base_uri": "https://localhost:8080/"
        },
        "id": "ygdKdRlgTbfn",
        "outputId": "5aab06fb-27a6-4336-eeec-c5c60bbdaf5b"
      },
      "execution_count": null,
      "outputs": [
        {
          "output_type": "stream",
          "name": "stdout",
          "text": [
            "3\n"
          ]
        },
        {
          "output_type": "execute_result",
          "data": {
            "text/plain": [
              "{'a': 1, 'b': 2, 'c': 3}"
            ]
          },
          "metadata": {},
          "execution_count": 51
        }
      ]
    },
    {
      "cell_type": "code",
      "source": [
        "# POSITIVE AND NEGATIVE INDEXING IN L AND T(slicing list=creates a new copy but not in np)\n",
        "l=[0,1,2,3,4,5,6,7,8,9]\n",
        "print(l[::])\n",
        "print(l[:5:2])\n",
        "print(l[::-1])#default index\n",
        "print(l[-1:-11:-1])#default index\n",
        "print(l[-1:-(len(l)+1):-1])#default index\n",
        "print(l[-6::-1])\n",
        "print(l[-6:-8:-1])\n",
        "print(l[-len(l)])#accesses ele at -10 index\n"
      ],
      "metadata": {
        "colab": {
          "base_uri": "https://localhost:8080/"
        },
        "id": "YOCQe-4ezrda",
        "outputId": "e1356c4e-716b-40b6-e7ea-3337b077d5b5"
      },
      "execution_count": null,
      "outputs": [
        {
          "output_type": "stream",
          "name": "stdout",
          "text": [
            "[0, 1, 2, 3, 4, 5, 6, 7, 8, 9]\n",
            "[0, 2, 4]\n",
            "[9, 8, 7, 6, 5, 4, 3, 2, 1, 0]\n",
            "[9, 8, 7, 6, 5, 4, 3, 2, 1, 0]\n",
            "[9, 8, 7, 6, 5, 4, 3, 2, 1, 0]\n",
            "[4, 3, 2, 1, 0]\n",
            "[4, 3]\n",
            "0\n"
          ]
        }
      ]
    },
    {
      "cell_type": "code",
      "source": [
        "l=[0,1,2,3,4,5,6,7,8,9]\n",
        "# POSITIVE SLICING\n",
        "# 1. positive indexing\n",
        "print(l[1::2])\n",
        "# 2. negative indexing\n",
        "print(l[-6::2])\n",
        "\n",
        "# NEGATIVE SLICING\n",
        "# 1.negative indexing\n",
        "print(l[-1:-4:-1])\n",
        "# 2. positive indexing\n",
        "print(l[4:1:-1])# 5th to 3rd index in reverse\n",
        "print(l[:2:-1])# last to 4th index in reverse."
      ],
      "metadata": {
        "colab": {
          "base_uri": "https://localhost:8080/"
        },
        "id": "Q7_KtDXN9ojg",
        "outputId": "51df3169-1416-437f-ab59-a67652556691"
      },
      "execution_count": null,
      "outputs": [
        {
          "output_type": "stream",
          "name": "stdout",
          "text": [
            "[1, 3, 5, 7, 9]\n",
            "[4, 6, 8]\n",
            "[9, 8, 7]\n",
            "[4, 3, 2]\n",
            "[9, 8, 7, 6, 5, 4, 3]\n"
          ]
        }
      ]
    },
    {
      "cell_type": "code",
      "source": [
        "# RANDOM MODULE\n",
        "import random\n",
        "random_number = random.randint(1, 10)# returns random integer between a and b.\n",
        "print(random_number)"
      ],
      "metadata": {
        "colab": {
          "base_uri": "https://localhost:8080/"
        },
        "id": "R5QsE_69I--Y",
        "outputId": "c3094950-422c-419c-9abe-b862c5bde37f"
      },
      "execution_count": null,
      "outputs": [
        {
          "output_type": "stream",
          "name": "stdout",
          "text": [
            "7\n"
          ]
        }
      ]
    },
    {
      "cell_type": "code",
      "source": [
        "import random\n",
        "random_number = random.random()# returns random float between 0 & 1\n",
        "print(random_number)"
      ],
      "metadata": {
        "id": "qz_CQUpFJTPt"
      },
      "execution_count": null,
      "outputs": []
    },
    {
      "cell_type": "code",
      "source": [
        "import random\n",
        "random_float = random.uniform(1.5, 5.5)## returns random float between a & b\n",
        "print(random_float)"
      ],
      "metadata": {
        "id": "UG4j0w3kJ8VT"
      },
      "execution_count": null,
      "outputs": []
    },
    {
      "cell_type": "code",
      "source": [
        "import random\n",
        "my_list = [1, 2, 3, 4, 5]\n",
        "random_choice = random.choice(my_list)#returns random no from the list\n",
        "print(random_choice)"
      ],
      "metadata": {
        "id": "u8PfBfKCKICb"
      },
      "execution_count": null,
      "outputs": []
    },
    {
      "cell_type": "code",
      "source": [
        "import random\n",
        "my_list = [1, 2, 3, 4, 5]\n",
        "random.shuffle(my_list)# returns the randomly shuffled list.\n",
        "print(my_list)"
      ],
      "metadata": {
        "colab": {
          "base_uri": "https://localhost:8080/"
        },
        "id": "wxcCGrWoKeLE",
        "outputId": "3a975739-f4ef-4724-a521-805969215075"
      },
      "execution_count": null,
      "outputs": [
        {
          "output_type": "stream",
          "name": "stdout",
          "text": [
            "[4, 5, 1, 3, 2]\n"
          ]
        }
      ]
    },
    {
      "cell_type": "code",
      "source": [
        "import random\n",
        "my_list = [1, 2, 3, 4, 5]\n",
        "random_samples = random.sample(my_list, 3)#returns the random sample list with given len\n",
        "print(random_samples)"
      ],
      "metadata": {
        "colab": {
          "base_uri": "https://localhost:8080/"
        },
        "id": "dhYsxD6AK8gT",
        "outputId": "00f3a1ff-eddc-492a-9dd1-0726f2ff115c"
      },
      "execution_count": null,
      "outputs": [
        {
          "output_type": "stream",
          "name": "stdout",
          "text": [
            "[2, 4, 3]\n"
          ]
        }
      ]
    },
    {
      "cell_type": "code",
      "source": [
        "    # MATH MODULES\n",
        "    #math.constants\n",
        "import math\n",
        "print(math.inf)\n",
        "print(math.nan)\n",
        "print(math.pi)\n",
        "print(math.tau)\n",
        "print(math.e)\n",
        "print(math.sin(0))#accepts only radian values\n",
        "print(math.radians(90))\n",
        "print(math.exp(math.log(2)))\n",
        "print(math.ceil(10.1))\n",
        "print(math.floor(10.1))\n",
        "print(math.trunc(10.12))\n",
        "print(math.factorial(10))\n",
        "print(math.gcd(10,15))\n",
        "# Built-in Functions like abs(), min(), max(), round(), sum(), len(),\n",
        "# type(), int(), float(), str(), list(), tuple(), and dict()\n",
        "# are available without importing any module.\n",
        "\n"
      ],
      "metadata": {
        "colab": {
          "base_uri": "https://localhost:8080/"
        },
        "id": "sFkyOIUtLnHw",
        "outputId": "2030f335-8eb7-4ef4-8645-9c80a354a2db"
      },
      "execution_count": null,
      "outputs": [
        {
          "output_type": "stream",
          "name": "stdout",
          "text": [
            "inf\n",
            "nan\n",
            "3.141592653589793\n",
            "6.283185307179586\n",
            "2.718281828459045\n",
            "0.0\n",
            "1.5707963267948966\n",
            "2.0\n",
            "11\n",
            "10\n",
            "10\n",
            "3628800\n",
            "5\n"
          ]
        }
      ]
    },
    {
      "cell_type": "code",
      "source": [
        "#list() method: creates a new list from ite obj\n",
        "l=list()#creates an empty list\n",
        "l=[]#creates an empty list\n",
        "my_tuple = (1, 2, 3)\n",
        "list_from_tuple = list(my_tuple)\n",
        "print(list_from_tuple)\n",
        "\n",
        "my_string = \"hello\"\n",
        "list_from_string = list(my_string)\n",
        "print(list_from_string)\n",
        "\n",
        "my_dict = {'a': 1, 'b': 2}\n",
        "list_from_dict = list(my_dict)\n",
        "print(list_from_dict)  # Output: ['a', 'b']\n",
        "list_from_dict1 = list(my_dict.values())\n",
        "print(list_from_dict1)"
      ],
      "metadata": {
        "colab": {
          "base_uri": "https://localhost:8080/"
        },
        "id": "_RspJDQ1i1oh",
        "outputId": "92b5f4cf-76e9-4d85-d188-804520cd4e3a"
      },
      "execution_count": null,
      "outputs": [
        {
          "output_type": "stream",
          "name": "stdout",
          "text": [
            "[1, 2, 3]\n",
            "['h', 'e', 'l', 'l', 'o']\n",
            "['a', 'b']\n",
            "[1, 2]\n"
          ]
        }
      ]
    },
    {
      "cell_type": "code",
      "source": [
        "#zip(list1,list2,list3): gives a list of tuple combing multiple ite elementwise\n",
        "ite1 = [1, 2, 3]\n",
        "ite2 = ['a', 'b', 'c']\n",
        "print(list(zip(ite1, ite2)))"
      ],
      "metadata": {
        "colab": {
          "base_uri": "https://localhost:8080/"
        },
        "id": "sx9OJQiykdyq",
        "outputId": "5d6d26cc-1640-475b-effa-8fa8c0c9ed4b"
      },
      "execution_count": null,
      "outputs": [
        {
          "output_type": "stream",
          "name": "stdout",
          "text": [
            "[(1, 'a'), (2, 'b'), (3, 'c')]\n"
          ]
        }
      ]
    },
    {
      "cell_type": "code",
      "source": [
        "#dict() method: creates a new dict from other iterable obj\n",
        "my_dict = dict()# OR my_dict = {}\n",
        "# Creating a dictionary with list of key-value tuple\n",
        "new_dict = dict([('a', 1), ('b', 2), ('c', 3)])\n",
        "print(new_dict)\n"
      ],
      "metadata": {
        "colab": {
          "base_uri": "https://localhost:8080/"
        },
        "id": "2QZD_Owvls0K",
        "outputId": "95dc0cc8-d4dd-469b-848a-cfdfd50d148a"
      },
      "execution_count": null,
      "outputs": [
        {
          "output_type": "stream",
          "name": "stdout",
          "text": [
            "{'a': 1, 'b': 2, 'c': 3}\n"
          ]
        }
      ]
    },
    {
      "cell_type": "code",
      "source": [
        "keys = ['a', 'b', 'c']\n",
        "values = [1, 2, 3]\n",
        "\n",
        "# Creating a dictionary using dictionary comprehension\n",
        "my_dict = {k: v for k, v in zip(keys, values)}\n",
        "print(my_dict)\n"
      ],
      "metadata": {
        "colab": {
          "base_uri": "https://localhost:8080/"
        },
        "id": "lPZQj-EhneWk",
        "outputId": "a7eaddbe-21c2-49ed-b21a-20f1931eac36"
      },
      "execution_count": null,
      "outputs": [
        {
          "output_type": "stream",
          "name": "stdout",
          "text": [
            "{'a': 1, 'b': 2, 'c': 3}\n"
          ]
        }
      ]
    },
    {
      "cell_type": "code",
      "source": [
        "# Creating a dictionary using keyword arguments\n",
        "keyword_dict = dict(a=1, b=2, c=3)\n",
        "print(keyword_dict)  # Output: {'a': 1, 'b': 2, 'c': 3}"
      ],
      "metadata": {
        "colab": {
          "base_uri": "https://localhost:8080/"
        },
        "id": "LeCTEPYLmVWP",
        "outputId": "eb80651e-4413-490c-ab7a-2e48b3afacbb"
      },
      "execution_count": null,
      "outputs": [
        {
          "output_type": "stream",
          "name": "stdout",
          "text": [
            "{'a': 1, 'b': 2, 'c': 3}\n"
          ]
        }
      ]
    },
    {
      "cell_type": "code",
      "source": [
        "# Python operators: Arithmetic,Assignment,logical,Comparision Operator\n",
        "\n",
        "# Arithmetic Operator\n",
        "a=10\n",
        "b=3\n",
        "print(a+b)\n",
        "print(a-b)\n",
        "print(a*b)\n",
        "print(a/b)\n",
        "print(a//b)# floor division=quotient\n",
        "print(a%b)# modulus= remainder\n",
        "print(a**b)# exponential= power"
      ],
      "metadata": {
        "colab": {
          "base_uri": "https://localhost:8080/"
        },
        "id": "7eVRtpPXEJR6",
        "outputId": "bc78a414-7538-4ac2-8c1b-7187f53b38a9"
      },
      "execution_count": null,
      "outputs": [
        {
          "output_type": "stream",
          "name": "stdout",
          "text": [
            "13\n",
            "7\n",
            "30\n",
            "3.3333333333333335\n",
            "3\n",
            "1\n",
            "1000\n"
          ]
        }
      ]
    },
    {
      "cell_type": "code",
      "source": [
        "# Assignment Operator\n",
        "a=10\n",
        "b=2\n",
        "a+=b\n",
        "print(a)\n",
        "\n",
        "a=10\n",
        "b=2\n",
        "a-=b\n",
        "print(a)\n",
        "\n",
        "a=10\n",
        "b=2\n",
        "a*=b\n",
        "print(a)\n",
        "\n",
        "a=10\n",
        "b=2\n",
        "a/=b\n",
        "print(a)\n",
        "\n",
        "\n",
        "a=10\n",
        "b=2\n",
        "a%=b\n",
        "print(a)\n",
        "\n",
        "a=10\n",
        "b=2\n",
        "a//=b\n",
        "print(a)\n",
        "\n",
        "a=10\n",
        "b=2\n",
        "a**=b\n",
        "print(a)\n",
        "\n"
      ],
      "metadata": {
        "colab": {
          "base_uri": "https://localhost:8080/"
        },
        "id": "6G50GeoDHyde",
        "outputId": "ae3bb4e2-7cd2-4013-9318-772441c4c17d"
      },
      "execution_count": null,
      "outputs": [
        {
          "output_type": "stream",
          "name": "stdout",
          "text": [
            "12\n",
            "8\n",
            "20\n",
            "5.0\n",
            "0\n",
            "5\n",
            "100\n"
          ]
        }
      ]
    },
    {
      "cell_type": "code",
      "source": [
        "# BITWISE AND OPERATOR\n",
        "a=10 #1010\n",
        "b=2 #0010\n",
        "a &= b\n",
        "print(a)# 0010 in binary=2\n",
        "# 1&1=1\n",
        "# 1&0=0\n",
        "# 0&0=0"
      ],
      "metadata": {
        "colab": {
          "base_uri": "https://localhost:8080/"
        },
        "id": "JtWCE4sKpOx5",
        "outputId": "252d03df-15fe-4c6b-dda2-8006292664e1"
      },
      "execution_count": null,
      "outputs": [
        {
          "output_type": "stream",
          "name": "stdout",
          "text": [
            "2\n"
          ]
        }
      ]
    },
    {
      "cell_type": "code",
      "source": [
        "#BITWISE OR OPERATOR\n",
        "a=10\n",
        "b=2\n",
        "a|=b\n",
        "print(a)\n",
        "# 1|1=1\n",
        "# 1|0=1\n",
        "# 0|0=0"
      ],
      "metadata": {
        "colab": {
          "base_uri": "https://localhost:8080/"
        },
        "id": "9FyaPFPRq5E1",
        "outputId": "1379e410-c861-438c-a9ec-ceb125e6daa3"
      },
      "execution_count": null,
      "outputs": [
        {
          "output_type": "stream",
          "name": "stdout",
          "text": [
            "10\n"
          ]
        }
      ]
    },
    {
      "cell_type": "code",
      "source": [
        "#LEFT AND RIGHT SHIFTING OF BINARY\n",
        "#1010 << 2 means shifting 1010 two positions to the left: 101000\n",
        "#1010 >> 2 means shifting 1010 two positions to the right: 10\n",
        "a=1010\n",
        "b=2\n",
        "a>>=b\n",
        "print(a)"
      ],
      "metadata": {
        "colab": {
          "base_uri": "https://localhost:8080/"
        },
        "id": "fJq-j_tdrk2P",
        "outputId": "d413246f-5baa-40be-800d-57c83b51fd21"
      },
      "execution_count": null,
      "outputs": [
        {
          "output_type": "stream",
          "name": "stdout",
          "text": [
            "252\n"
          ]
        }
      ]
    },
    {
      "cell_type": "code",
      "source": [
        "#EXCLUSIVE OR OPERATION\n",
        "a=10\n",
        "b=2\n",
        "a^=b\n",
        "print(a)\n",
        "# 1^1=0\n",
        "# 0^0=0\n",
        "# 0^1=1"
      ],
      "metadata": {
        "colab": {
          "base_uri": "https://localhost:8080/"
        },
        "id": "GznXwp2nuWPK",
        "outputId": "b751e820-fa1c-4520-f47b-71661716ef46"
      },
      "execution_count": null,
      "outputs": [
        {
          "output_type": "stream",
          "name": "stdout",
          "text": [
            "8\n"
          ]
        }
      ]
    },
    {
      "cell_type": "code",
      "source": [
        "#COMPARISION OPERATOR\n",
        "a=10\n",
        "b=5\n",
        "print(a==b)"
      ],
      "metadata": {
        "colab": {
          "base_uri": "https://localhost:8080/"
        },
        "id": "TtEl3FynMBb0",
        "outputId": "c2a698c8-13c7-427f-9b80-ece7d03a9680"
      },
      "execution_count": null,
      "outputs": [
        {
          "output_type": "stream",
          "name": "stdout",
          "text": [
            "False\n"
          ]
        }
      ]
    },
    {
      "cell_type": "code",
      "source": [
        "a=10\n",
        "b=5\n",
        "print(a!=b)"
      ],
      "metadata": {
        "colab": {
          "base_uri": "https://localhost:8080/"
        },
        "id": "6B9ZDE3oMV20",
        "outputId": "0bdbbec6-8f40-4937-f6b4-d48f7c15e777"
      },
      "execution_count": null,
      "outputs": [
        {
          "output_type": "stream",
          "name": "stdout",
          "text": [
            "True\n"
          ]
        }
      ]
    },
    {
      "cell_type": "code",
      "source": [
        "a=10\n",
        "b=5\n",
        "print(a>b)"
      ],
      "metadata": {
        "colab": {
          "base_uri": "https://localhost:8080/"
        },
        "id": "2JB_BIk3MJbd",
        "outputId": "d9940531-a00b-4cb0-9980-af0133d10427"
      },
      "execution_count": null,
      "outputs": [
        {
          "output_type": "stream",
          "name": "stdout",
          "text": [
            "True\n"
          ]
        }
      ]
    },
    {
      "cell_type": "code",
      "source": [
        "a=10\n",
        "b=5\n",
        "print(a<b)"
      ],
      "metadata": {
        "colab": {
          "base_uri": "https://localhost:8080/"
        },
        "id": "ugDuSW1-MMrW",
        "outputId": "bd0ac705-6a82-4d18-a872-e242133b4647"
      },
      "execution_count": null,
      "outputs": [
        {
          "output_type": "stream",
          "name": "stdout",
          "text": [
            "False\n"
          ]
        }
      ]
    },
    {
      "cell_type": "code",
      "source": [
        "a=10\n",
        "b=5\n",
        "print(a<=b)"
      ],
      "metadata": {
        "colab": {
          "base_uri": "https://localhost:8080/"
        },
        "id": "zq1pQBvNMPBk",
        "outputId": "979c83b0-1f0b-4056-89e4-7f81fba38935"
      },
      "execution_count": null,
      "outputs": [
        {
          "output_type": "stream",
          "name": "stdout",
          "text": [
            "False\n"
          ]
        }
      ]
    },
    {
      "cell_type": "code",
      "source": [
        "a=10\n",
        "b=5\n",
        "print(a>=b)"
      ],
      "metadata": {
        "colab": {
          "base_uri": "https://localhost:8080/"
        },
        "id": "zOCAVazGMRNE",
        "outputId": "180a82dc-7771-4ed7-d52d-edda3fbbc3da"
      },
      "execution_count": null,
      "outputs": [
        {
          "output_type": "stream",
          "name": "stdout",
          "text": [
            "True\n"
          ]
        }
      ]
    },
    {
      "cell_type": "code",
      "source": [
        "a=5\n",
        "b=8\n",
        "c=10\n",
        "print(a<b and a<c)\n",
        "print(a<b and c<a)\n",
        "print(b<a and a<c)\n"
      ],
      "metadata": {
        "colab": {
          "base_uri": "https://localhost:8080/"
        },
        "id": "KrRf4T85Mhac",
        "outputId": "e1e4f7b6-7bd1-4f5e-a3e6-723dcb09601b"
      },
      "execution_count": null,
      "outputs": [
        {
          "output_type": "stream",
          "name": "stdout",
          "text": [
            "True\n",
            "False\n",
            "False\n"
          ]
        }
      ]
    },
    {
      "cell_type": "code",
      "source": [
        "a=5\n",
        "b=8\n",
        "c=10\n",
        "print(a<b or a<c)\n",
        "print(a<b or c<a)\n",
        "print(b<a or a<c)\n",
        "print(b<a or c<a)\n"
      ],
      "metadata": {
        "colab": {
          "base_uri": "https://localhost:8080/"
        },
        "id": "n_AbbBKgMt5_",
        "outputId": "cc34559b-911c-4b86-c55a-20e832331f59"
      },
      "execution_count": null,
      "outputs": [
        {
          "output_type": "stream",
          "name": "stdout",
          "text": [
            "True\n",
            "True\n",
            "True\n"
          ]
        }
      ]
    },
    {
      "cell_type": "code",
      "source": [
        "a=5\n",
        "b=8\n",
        "c=10\n",
        "print(not(a<b and a<c))\n"
      ],
      "metadata": {
        "colab": {
          "base_uri": "https://localhost:8080/"
        },
        "id": "N42QLboAMw4b",
        "outputId": "0b711769-f61a-4995-83a3-130bd8dc357d"
      },
      "execution_count": null,
      "outputs": [
        {
          "output_type": "stream",
          "name": "stdout",
          "text": [
            "False\n"
          ]
        }
      ]
    },
    {
      "cell_type": "code",
      "source": [
        "#IF-ELSE CONDITIONS\n",
        "a = 10\n",
        "b = 20\n",
        "\n",
        "if a > b: # False\n",
        "  print('a is greater than b')\n",
        "else:\n",
        "  print('a is not grater than b')"
      ],
      "metadata": {
        "id": "cEV85du7DOuX"
      },
      "execution_count": null,
      "outputs": []
    },
    {
      "cell_type": "code",
      "source": [
        "a = 10\n",
        "b = 20\n",
        "c = 30\n",
        "\n",
        "if (a < b) and (c < a):\n",
        "  print(\"condition is True\")\n",
        "else:\n",
        "  print('print condition is not true')"
      ],
      "metadata": {
        "colab": {
          "base_uri": "https://localhost:8080/"
        },
        "id": "K-grJenjDVn2",
        "outputId": "6accf530-b1e7-41b7-8c38-221135d1280b"
      },
      "execution_count": null,
      "outputs": [
        {
          "output_type": "stream",
          "name": "stdout",
          "text": [
            "condition is True\n"
          ]
        }
      ]
    },
    {
      "cell_type": "code",
      "source": [
        "a = 10\n",
        "b = 20\n",
        "c = 30\n",
        "\n",
        "if (a < b) or (b > c) and (a>c):\n",
        "  print(\"condition is True\")"
      ],
      "metadata": {
        "colab": {
          "base_uri": "https://localhost:8080/"
        },
        "id": "CKUB1FuVDY6C",
        "outputId": "e57245a1-3c05-4576-dcb7-fdebb656f77f"
      },
      "execution_count": null,
      "outputs": [
        {
          "output_type": "stream",
          "name": "stdout",
          "text": [
            "condition is True\n"
          ]
        }
      ]
    },
    {
      "cell_type": "code",
      "source": [
        "a = 10\n",
        "b = 20\n",
        "c = 30\n",
        "\n",
        "if (a < b) and ((b > c) and (a>c)):\n",
        "  print(\"condition is True\")\n",
        "else:\n",
        "  print('the above condition did not meet')"
      ],
      "metadata": {
        "colab": {
          "base_uri": "https://localhost:8080/"
        },
        "id": "qbggVkPhE9YN",
        "outputId": "ce312bde-9718-4033-902d-1d8d4d0b7f3d"
      },
      "execution_count": null,
      "outputs": [
        {
          "output_type": "stream",
          "name": "stdout",
          "text": [
            "the above condition did not meet\n"
          ]
        }
      ]
    },
    {
      "cell_type": "code",
      "source": [
        "a = 10\n",
        "b = 20\n",
        "c = 30\n",
        "\n",
        "if (a > b):\n",
        "  print('b>c')\n",
        "elif (a>c):\n",
        "  print('a>c')\n",
        "elif(b>c):\n",
        "  print('a>c')\n",
        "else:\n",
        "  print('none of the condition is true')\n"
      ],
      "metadata": {
        "colab": {
          "base_uri": "https://localhost:8080/"
        },
        "id": "Y03PtE0qGKEe",
        "outputId": "6569fd8c-a378-415a-cec2-b8fe2392202c"
      },
      "execution_count": null,
      "outputs": [
        {
          "output_type": "stream",
          "name": "stdout",
          "text": [
            "none of the condition is true\n"
          ]
        }
      ]
    },
    {
      "cell_type": "code",
      "source": [
        "age = 70\n",
        "if (age < 21):\n",
        "  print('you are too young to buy a beer')\n",
        "elif (age>=21)and (age<=60):\n",
        "  print('You are an adult, you can buy a beer')\n",
        "elif(age>60) and (age<+80):\n",
        "  print('you are ageing, limit the alcohol consumption!')\n",
        "else:\n",
        "  print('Please, dont drink!')\n",
        "print('This is ourside the loop.')\n"
      ],
      "metadata": {
        "colab": {
          "base_uri": "https://localhost:8080/"
        },
        "id": "OL8UJx5zHLDx",
        "outputId": "7e61013c-5258-4d16-c3fb-e8548ff8a1fe"
      },
      "execution_count": null,
      "outputs": [
        {
          "output_type": "stream",
          "name": "stdout",
          "text": [
            "you are ageing, limit the alcohol consumption!\n",
            "This is ourside the loop.\n"
          ]
        }
      ]
    },
    {
      "cell_type": "code",
      "source": [
        "#NESTED IF CONDITIOINS\n",
        "a = 65\n",
        "if a < 100:\n",
        "  print('a < 100')\n",
        "  if a < 90:\n",
        "    print('a < 90')\n",
        "    if a < 70:\n",
        "      print('a < 70')\n",
        "      if a < 60:\n",
        "        print('a < 60')\n",
        "      else:\n",
        "        print('a>=60')\n",
        "    else:\n",
        "      print('a>=70')\n",
        "  else:\n",
        "    print('a >=90')\n",
        "else:\n",
        "  print('a>= 100')"
      ],
      "metadata": {
        "colab": {
          "base_uri": "https://localhost:8080/"
        },
        "id": "4iLqTXxbIRRa",
        "outputId": "37857ec7-4a63-4e6a-e7c5-4ece93f6c762"
      },
      "execution_count": null,
      "outputs": [
        {
          "output_type": "stream",
          "name": "stdout",
          "text": [
            "a < 100\n",
            "a < 90\n",
            "a < 70\n",
            "a>=60\n"
          ]
        }
      ]
    },
    {
      "cell_type": "code",
      "source": [
        "a =90\n",
        "if a < 100:\n",
        "  print('a < 100')\n",
        "  if a < 85:\n",
        "    print('a < 85')\n",
        "    if a < 70:\n",
        "      print('a < 70')\n",
        "      if a < 55:\n",
        "        print('a < 55')\n",
        "      else:\n",
        "        print('else of a < 55')\n",
        "    else:\n",
        "      print('else of a < 70')\n",
        "  else:\n",
        "    print('else of a < 85')\n",
        "else:\n",
        "  print('else of a < 100')"
      ],
      "metadata": {
        "colab": {
          "base_uri": "https://localhost:8080/"
        },
        "id": "7KZ1WyllKdqc",
        "outputId": "306e0268-b034-4b63-d735-1dd42df50ed9"
      },
      "execution_count": null,
      "outputs": [
        {
          "output_type": "stream",
          "name": "stdout",
          "text": [
            "a < 100\n",
            "else of a < 85\n"
          ]
        }
      ]
    },
    {
      "cell_type": "code",
      "source": [
        "a = 50\n",
        "if a < 100:\n",
        "  print('a < 100')\n",
        "  if a < 85:\n",
        "    print('a < 85')\n",
        "    if a < 70:\n",
        "      print('a < 70')\n",
        "      if a < 55:\n",
        "        print('a < 55')\n",
        "      else:\n",
        "        print('else of a < 55')\n",
        "    else:\n",
        "      print('else of a < 70')\n",
        "  else:\n",
        "    print('else of a < 85')\n",
        "else:\n",
        "  print('else of a < 100')"
      ],
      "metadata": {
        "colab": {
          "base_uri": "https://localhost:8080/"
        },
        "id": "SonrsB1JKvSH",
        "outputId": "9d0b2ec5-6b07-46e2-e859-5a36bd4afd60"
      },
      "execution_count": null,
      "outputs": [
        {
          "output_type": "stream",
          "name": "stdout",
          "text": [
            "a < 100\n",
            "a < 85\n",
            "a < 70\n",
            "a < 55\n"
          ]
        }
      ]
    },
    {
      "cell_type": "code",
      "source": [
        "a = 100\n",
        "if a < 100:\n",
        "  print('a < 100')\n",
        "  if a < 85:\n",
        "    print('a < 85')\n",
        "    if a < 70:\n",
        "      print('a < 70')\n",
        "      if a < 55:\n",
        "        print('a < 55')\n",
        "      else:\n",
        "        print('else of a < 55')\n",
        "    else:\n",
        "      print('else of a < 70')\n",
        "  else:\n",
        "    print('else of a < 85')\n",
        "else:\n",
        "  print('else of a < 100')"
      ],
      "metadata": {
        "colab": {
          "base_uri": "https://localhost:8080/"
        },
        "id": "O_wKTYEhK3ck",
        "outputId": "3a0f4bb7-e812-44bc-e457-ef2c0ce039a5"
      },
      "execution_count": null,
      "outputs": [
        {
          "output_type": "stream",
          "name": "stdout",
          "text": [
            "else of a < 100\n"
          ]
        }
      ]
    },
    {
      "cell_type": "code",
      "source": [
        "#LOOP\n",
        "sum = 0\n",
        "for i in range(1, 101, 1):\n",
        "  sum += i\n",
        "print(sum)"
      ],
      "metadata": {
        "colab": {
          "base_uri": "https://localhost:8080/"
        },
        "id": "gEGHQuNOPM3m",
        "outputId": "b17f9f93-3559-491f-97d4-c26a374cb6b2"
      },
      "execution_count": null,
      "outputs": [
        {
          "output_type": "stream",
          "name": "stdout",
          "text": [
            "5050\n"
          ]
        }
      ]
    },
    {
      "cell_type": "code",
      "source": [
        "sum = 0\n",
        "for i in range(100, 0, -1):\n",
        "  sum += i\n",
        "print(sum)"
      ],
      "metadata": {
        "colab": {
          "base_uri": "https://localhost:8080/"
        },
        "id": "f1KCtDFMQj7J",
        "outputId": "9d5fc79e-d2c2-45d1-dcde-45ffdc1b61f0"
      },
      "execution_count": null,
      "outputs": [
        {
          "output_type": "stream",
          "name": "stdout",
          "text": [
            "5050\n"
          ]
        }
      ]
    },
    {
      "cell_type": "code",
      "source": [
        "i = 1\n",
        "sum = 0\n",
        "\n",
        "while i < 101:\n",
        "  sum += i\n",
        "  i += 1\n",
        "print (sum)"
      ],
      "metadata": {
        "colab": {
          "base_uri": "https://localhost:8080/"
        },
        "id": "VOdTHN7wO1Q1",
        "outputId": "fd244a16-6fb0-4a92-9c45-9a4d4183b059"
      },
      "execution_count": null,
      "outputs": [
        {
          "output_type": "stream",
          "name": "stdout",
          "text": [
            "5050\n"
          ]
        }
      ]
    },
    {
      "cell_type": "code",
      "source": [
        "i = 100\n",
        "sum = 0\n",
        "\n",
        "while i > 0:\n",
        "  sum += i\n",
        "  i -= 1\n",
        "print (sum)"
      ],
      "metadata": {
        "colab": {
          "base_uri": "https://localhost:8080/"
        },
        "id": "dOWYG2zTQd_g",
        "outputId": "8f849f04-af38-457d-e938-374f6d2cdbc0"
      },
      "execution_count": null,
      "outputs": [
        {
          "output_type": "stream",
          "name": "stdout",
          "text": [
            "5050\n"
          ]
        }
      ]
    },
    {
      "cell_type": "code",
      "source": [
        "for i in range(1, 11, 1):\n",
        "    if i%2==0:\n",
        "      print(i, 'is even number')\n",
        "    else:\n",
        "      print(i,\"is odd number\")\n"
      ],
      "metadata": {
        "colab": {
          "base_uri": "https://localhost:8080/"
        },
        "id": "mW-1-eFLUp2h",
        "outputId": "78d1260f-1a3f-4ee4-ce7c-2e8696828483"
      },
      "execution_count": null,
      "outputs": [
        {
          "output_type": "stream",
          "name": "stdout",
          "text": [
            "1 is odd number\n",
            "2 is even number\n",
            "3 is odd number\n",
            "4 is even number\n",
            "5 is odd number\n",
            "6 is even number\n",
            "7 is odd number\n",
            "8 is even number\n",
            "9 is odd number\n",
            "10 is even number\n"
          ]
        }
      ]
    },
    {
      "cell_type": "code",
      "source": [
        "sum=0\n",
        "for i in range(1, 11, 1):\n",
        "  sum+=i\n",
        "  print(sum)\n",
        "else:\n",
        "  print(\"we are in else part\")"
      ],
      "metadata": {
        "colab": {
          "base_uri": "https://localhost:8080/"
        },
        "id": "llL0-sdAWH7v",
        "outputId": "a2058c9c-c458-4fac-9fc3-0a1a182811fe"
      },
      "execution_count": null,
      "outputs": [
        {
          "output_type": "stream",
          "name": "stdout",
          "text": [
            "1\n",
            "3\n",
            "6\n",
            "10\n",
            "15\n",
            "21\n",
            "28\n",
            "36\n",
            "45\n",
            "55\n",
            "we are in else part\n"
          ]
        }
      ]
    },
    {
      "cell_type": "code",
      "source": [
        "i = 10\n",
        "sum = 0\n",
        "while i >5:\n",
        "  sum += i\n",
        "  print(sum)\n",
        "  i -= 1\n",
        "else:\n",
        "  print ('we are in else part')"
      ],
      "metadata": {
        "colab": {
          "base_uri": "https://localhost:8080/"
        },
        "id": "IZtIUemjBK-c",
        "outputId": "0099b50b-a0e5-4494-c789-3cd33b51db86"
      },
      "execution_count": null,
      "outputs": [
        {
          "output_type": "stream",
          "name": "stdout",
          "text": [
            "10\n",
            "19\n",
            "27\n",
            "34\n",
            "40\n",
            "we are in else part\n"
          ]
        }
      ]
    },
    {
      "cell_type": "code",
      "source": [
        "#Nested for loop\n",
        "for i in range(10):\n",
        "  for j in range(20):\n",
        "    print('*', end=' ')# inner loop prints 20 * on the same line with a space inbetween\n",
        "  print('')# adds new line as *s are printed on same line\n",
        "print('Nested for loop is done printing a rectangle')"
      ],
      "metadata": {
        "colab": {
          "base_uri": "https://localhost:8080/"
        },
        "id": "R66HzJAvGxDt",
        "outputId": "634b7ef0-7b87-4d8f-8424-60339b8d4f3d"
      },
      "execution_count": null,
      "outputs": [
        {
          "output_type": "stream",
          "name": "stdout",
          "text": [
            "* * * * * * * * * * * * * * * * * * * * \n",
            "* * * * * * * * * * * * * * * * * * * * \n",
            "* * * * * * * * * * * * * * * * * * * * \n",
            "* * * * * * * * * * * * * * * * * * * * \n",
            "* * * * * * * * * * * * * * * * * * * * \n",
            "* * * * * * * * * * * * * * * * * * * * \n",
            "* * * * * * * * * * * * * * * * * * * * \n",
            "* * * * * * * * * * * * * * * * * * * * \n",
            "* * * * * * * * * * * * * * * * * * * * \n",
            "* * * * * * * * * * * * * * * * * * * * \n"
          ]
        }
      ]
    },
    {
      "cell_type": "code",
      "source": [
        "#print triangle with 10 *\n",
        "for i in range(10):\n",
        "  for j in range(i+1):\n",
        "    print('*' ,end=' ' )\n",
        "  print('')\n",
        "print('Nested for loop is done printing a triangle')"
      ],
      "metadata": {
        "colab": {
          "base_uri": "https://localhost:8080/"
        },
        "id": "fVA8GHkyPcfB",
        "outputId": "4c0e216d-8716-4f71-8c95-30956a416270"
      },
      "execution_count": null,
      "outputs": [
        {
          "output_type": "stream",
          "name": "stdout",
          "text": [
            "* \n",
            "* * \n",
            "* * * \n",
            "* * * * \n",
            "* * * * * \n",
            "* * * * * * \n",
            "* * * * * * * \n",
            "* * * * * * * * \n",
            "* * * * * * * * * \n",
            "* * * * * * * * * * \n",
            "Nested for loop is done printing a triangle\n"
          ]
        }
      ]
    },
    {
      "cell_type": "code",
      "source": [
        "# print pyramid\n",
        "for i in range(10):\n",
        "  for j in range(10-i):\n",
        "    print('',end=' ' )# for i=0, it prints 10 ''\n",
        "\n",
        "  for k in range(i+1):# for i=0, it prints 1 '*'\n",
        "    print('*' ,end=' ' )\n",
        "  print('')\n",
        "print('Nested for loop is done printing a pyramid')"
      ],
      "metadata": {
        "colab": {
          "base_uri": "https://localhost:8080/"
        },
        "id": "evXCgr8pRoy6",
        "outputId": "c81932fc-bced-4e1c-a98c-0ff122005f84"
      },
      "execution_count": null,
      "outputs": [
        {
          "output_type": "stream",
          "name": "stdout",
          "text": [
            "          * \n",
            "         * * \n",
            "        * * * \n",
            "       * * * * \n",
            "      * * * * * \n",
            "     * * * * * * \n",
            "    * * * * * * * \n",
            "   * * * * * * * * \n",
            "  * * * * * * * * * \n",
            " * * * * * * * * * * \n",
            "Nested for loop is done printing a pyramid\n"
          ]
        }
      ]
    },
    {
      "cell_type": "code",
      "source": [
        "for i in range(10):\n",
        "    for k in range(i):\n",
        "        print('' ,end=' ' )\n",
        "    for j in range(10-i):\n",
        "     print('*',end=' ' )\n",
        "    print('')"
      ],
      "metadata": {
        "colab": {
          "base_uri": "https://localhost:8080/"
        },
        "id": "LHTlunjpYsnj",
        "outputId": "9c233a8d-c308-4cfa-c766-45369769e835"
      },
      "execution_count": null,
      "outputs": [
        {
          "output_type": "stream",
          "name": "stdout",
          "text": [
            "* * * * * * * * * * \n",
            " * * * * * * * * * \n",
            "  * * * * * * * * \n",
            "   * * * * * * * \n",
            "    * * * * * * \n",
            "     * * * * * \n",
            "      * * * * \n",
            "       * * * \n",
            "        * * \n",
            "         * \n"
          ]
        }
      ]
    },
    {
      "cell_type": "code",
      "source": [
        "i=0\n",
        "while i<10:\n",
        "  j=0\n",
        "  while j<20:\n",
        "    print('*', end=' ')# prints on the same line with a space\n",
        "    j+=1\n",
        "  print('')\n",
        "  i+=1\n",
        "\n"
      ],
      "metadata": {
        "colab": {
          "base_uri": "https://localhost:8080/"
        },
        "id": "k-Y9ipvqV-7Y",
        "outputId": "a60092cf-9235-4a6d-af15-82ecb1b88423"
      },
      "execution_count": null,
      "outputs": [
        {
          "output_type": "stream",
          "name": "stdout",
          "text": [
            "* * * * * * * * * * * * * * * * * * * * \n",
            "* * * * * * * * * * * * * * * * * * * * \n",
            "* * * * * * * * * * * * * * * * * * * * \n",
            "* * * * * * * * * * * * * * * * * * * * \n",
            "* * * * * * * * * * * * * * * * * * * * \n",
            "* * * * * * * * * * * * * * * * * * * * \n",
            "* * * * * * * * * * * * * * * * * * * * \n",
            "* * * * * * * * * * * * * * * * * * * * \n",
            "* * * * * * * * * * * * * * * * * * * * \n",
            "* * * * * * * * * * * * * * * * * * * * \n"
          ]
        }
      ]
    },
    {
      "cell_type": "code",
      "source": [
        "i=0\n",
        "while i<10:\n",
        "  j=0\n",
        "  while j<i+1:\n",
        "    print('*' ,end=' ' )\n",
        "    j+=1\n",
        "  i+=1\n",
        "  print('')\n"
      ],
      "metadata": {
        "colab": {
          "base_uri": "https://localhost:8080/"
        },
        "id": "C2ExnjAoYGex",
        "outputId": "76b562d2-b819-4a8c-b53b-873239412219"
      },
      "execution_count": null,
      "outputs": [
        {
          "output_type": "stream",
          "name": "stdout",
          "text": [
            "* \n",
            "* * \n",
            "* * * \n",
            "* * * * \n",
            "* * * * * \n",
            "* * * * * * \n",
            "* * * * * * * \n",
            "* * * * * * * * \n",
            "* * * * * * * * * \n",
            "* * * * * * * * * * \n"
          ]
        }
      ]
    },
    {
      "cell_type": "code",
      "source": [
        "i=0\n",
        "while i <10:\n",
        "  j=0\n",
        "  while j< 10-i:\n",
        "    print('',end=' ' )\n",
        "    j+=1\n",
        "  k=0\n",
        "  while k<i+1:\n",
        "    print('*' ,end=' ' )\n",
        "    k+=1\n",
        "  print('')\n",
        "  i+=1\n"
      ],
      "metadata": {
        "colab": {
          "base_uri": "https://localhost:8080/"
        },
        "id": "JJiFYddHYql1",
        "outputId": "16769666-583a-420a-ef4c-4f2f80e5a236"
      },
      "execution_count": null,
      "outputs": [
        {
          "output_type": "stream",
          "name": "stdout",
          "text": [
            "          * \n",
            "         * * \n",
            "        * * * \n",
            "       * * * * \n",
            "      * * * * * \n",
            "     * * * * * * \n",
            "    * * * * * * * \n",
            "   * * * * * * * * \n",
            "  * * * * * * * * * \n",
            " * * * * * * * * * * \n"
          ]
        }
      ]
    },
    {
      "cell_type": "code",
      "source": [
        "for i in range (0,10,1):\n",
        "    for j in range (0,10,1):\n",
        "        print(\"[\",i,'-',j,\"]\",end='')\n",
        "    print()\n"
      ],
      "metadata": {
        "colab": {
          "base_uri": "https://localhost:8080/"
        },
        "id": "bzZZrceHnhvf",
        "outputId": "fc81d88c-b2b9-411c-86a3-95eaaf062474"
      },
      "execution_count": null,
      "outputs": [
        {
          "output_type": "stream",
          "name": "stdout",
          "text": [
            "[ 0 - 0 ][ 0 - 1 ][ 0 - 2 ][ 0 - 3 ][ 0 - 4 ][ 0 - 5 ][ 0 - 6 ][ 0 - 7 ][ 0 - 8 ][ 0 - 9 ]\n",
            "[ 1 - 0 ][ 1 - 1 ][ 1 - 2 ][ 1 - 3 ][ 1 - 4 ][ 1 - 5 ][ 1 - 6 ][ 1 - 7 ][ 1 - 8 ][ 1 - 9 ]\n",
            "[ 2 - 0 ][ 2 - 1 ][ 2 - 2 ][ 2 - 3 ][ 2 - 4 ][ 2 - 5 ][ 2 - 6 ][ 2 - 7 ][ 2 - 8 ][ 2 - 9 ]\n",
            "[ 3 - 0 ][ 3 - 1 ][ 3 - 2 ][ 3 - 3 ][ 3 - 4 ][ 3 - 5 ][ 3 - 6 ][ 3 - 7 ][ 3 - 8 ][ 3 - 9 ]\n",
            "[ 4 - 0 ][ 4 - 1 ][ 4 - 2 ][ 4 - 3 ][ 4 - 4 ][ 4 - 5 ][ 4 - 6 ][ 4 - 7 ][ 4 - 8 ][ 4 - 9 ]\n",
            "[ 5 - 0 ][ 5 - 1 ][ 5 - 2 ][ 5 - 3 ][ 5 - 4 ][ 5 - 5 ][ 5 - 6 ][ 5 - 7 ][ 5 - 8 ][ 5 - 9 ]\n",
            "[ 6 - 0 ][ 6 - 1 ][ 6 - 2 ][ 6 - 3 ][ 6 - 4 ][ 6 - 5 ][ 6 - 6 ][ 6 - 7 ][ 6 - 8 ][ 6 - 9 ]\n",
            "[ 7 - 0 ][ 7 - 1 ][ 7 - 2 ][ 7 - 3 ][ 7 - 4 ][ 7 - 5 ][ 7 - 6 ][ 7 - 7 ][ 7 - 8 ][ 7 - 9 ]\n",
            "[ 8 - 0 ][ 8 - 1 ][ 8 - 2 ][ 8 - 3 ][ 8 - 4 ][ 8 - 5 ][ 8 - 6 ][ 8 - 7 ][ 8 - 8 ][ 8 - 9 ]\n",
            "[ 9 - 0 ][ 9 - 1 ][ 9 - 2 ][ 9 - 3 ][ 9 - 4 ][ 9 - 5 ][ 9 - 6 ][ 9 - 7 ][ 9 - 8 ][ 9 - 9 ]\n"
          ]
        }
      ]
    },
    {
      "cell_type": "code",
      "source": [
        "i=0\n",
        "while i<10:\n",
        "    j=0\n",
        "    while j<10:\n",
        "        print(\"[\",i,'-',j,\"]\",end='')\n",
        "        j+=1\n",
        "    print()\n",
        "    i+=1"
      ],
      "metadata": {
        "colab": {
          "base_uri": "https://localhost:8080/"
        },
        "id": "Bq918ukNoDSS",
        "outputId": "b0c48852-bd85-4684-d7c7-e90c13a56874"
      },
      "execution_count": null,
      "outputs": [
        {
          "output_type": "stream",
          "name": "stdout",
          "text": [
            "[ 0 - 0 ][ 0 - 1 ][ 0 - 2 ][ 0 - 3 ][ 0 - 4 ][ 0 - 5 ][ 0 - 6 ][ 0 - 7 ][ 0 - 8 ][ 0 - 9 ]\n",
            "[ 1 - 0 ][ 1 - 1 ][ 1 - 2 ][ 1 - 3 ][ 1 - 4 ][ 1 - 5 ][ 1 - 6 ][ 1 - 7 ][ 1 - 8 ][ 1 - 9 ]\n",
            "[ 2 - 0 ][ 2 - 1 ][ 2 - 2 ][ 2 - 3 ][ 2 - 4 ][ 2 - 5 ][ 2 - 6 ][ 2 - 7 ][ 2 - 8 ][ 2 - 9 ]\n",
            "[ 3 - 0 ][ 3 - 1 ][ 3 - 2 ][ 3 - 3 ][ 3 - 4 ][ 3 - 5 ][ 3 - 6 ][ 3 - 7 ][ 3 - 8 ][ 3 - 9 ]\n",
            "[ 4 - 0 ][ 4 - 1 ][ 4 - 2 ][ 4 - 3 ][ 4 - 4 ][ 4 - 5 ][ 4 - 6 ][ 4 - 7 ][ 4 - 8 ][ 4 - 9 ]\n",
            "[ 5 - 0 ][ 5 - 1 ][ 5 - 2 ][ 5 - 3 ][ 5 - 4 ][ 5 - 5 ][ 5 - 6 ][ 5 - 7 ][ 5 - 8 ][ 5 - 9 ]\n",
            "[ 6 - 0 ][ 6 - 1 ][ 6 - 2 ][ 6 - 3 ][ 6 - 4 ][ 6 - 5 ][ 6 - 6 ][ 6 - 7 ][ 6 - 8 ][ 6 - 9 ]\n",
            "[ 7 - 0 ][ 7 - 1 ][ 7 - 2 ][ 7 - 3 ][ 7 - 4 ][ 7 - 5 ][ 7 - 6 ][ 7 - 7 ][ 7 - 8 ][ 7 - 9 ]\n",
            "[ 8 - 0 ][ 8 - 1 ][ 8 - 2 ][ 8 - 3 ][ 8 - 4 ][ 8 - 5 ][ 8 - 6 ][ 8 - 7 ][ 8 - 8 ][ 8 - 9 ]\n",
            "[ 9 - 0 ][ 9 - 1 ][ 9 - 2 ][ 9 - 3 ][ 9 - 4 ][ 9 - 5 ][ 9 - 6 ][ 9 - 7 ][ 9 - 8 ][ 9 - 9 ]\n"
          ]
        }
      ]
    },
    {
      "cell_type": "code",
      "source": [
        "#PYTHON BUILT IN FUNCTIONS\n",
        "a=int(input('Enter your marks in Math: '))\n",
        "b=int(input('Enter your marks in Science: '))\n",
        "print(a+b)"
      ],
      "metadata": {
        "colab": {
          "base_uri": "https://localhost:8080/"
        },
        "id": "dxyckxJltA02",
        "outputId": "f95080b6-500b-47f3-fcca-6ac3f5e2afb9"
      },
      "execution_count": null,
      "outputs": [
        {
          "output_type": "stream",
          "name": "stdout",
          "text": [
            "Enter your marks in Math: 100\n",
            "Enter your marks in Science: 90\n",
            "190\n"
          ]
        }
      ]
    },
    {
      "cell_type": "code",
      "source": [
        "a=float(input('Enter your marks in Math: '))\n",
        "b=float(input('Enter your marks in Science: '))\n",
        "print(a+b)"
      ],
      "metadata": {
        "colab": {
          "base_uri": "https://localhost:8080/"
        },
        "id": "v3O8oUu6tS9-",
        "outputId": "55070b0b-1703-4967-f6e9-2d0d4cfddf82"
      },
      "execution_count": null,
      "outputs": [
        {
          "output_type": "stream",
          "name": "stdout",
          "text": [
            "Enter your marks in Math90\n",
            "Enter your marks in Science90\n",
            "180.0\n"
          ]
        }
      ]
    },
    {
      "cell_type": "code",
      "source": [
        "a=complex(input('Enter your marks in Math: '))\n",
        "b=complex(input('Enter your marks in Science: '))\n",
        "print(a+b)"
      ],
      "metadata": {
        "id": "EmiAFVMTtTq2",
        "colab": {
          "base_uri": "https://localhost:8080/"
        },
        "outputId": "39d4a8c3-4930-4a69-f9b1-bdc76f369799"
      },
      "execution_count": null,
      "outputs": [
        {
          "output_type": "stream",
          "name": "stdout",
          "text": [
            "Enter your marks in Math: 2j\n",
            "Enter your marks in Science: 3j\n",
            "5j\n"
          ]
        }
      ]
    },
    {
      "cell_type": "code",
      "source": [
        "a=str(200)\n",
        "print (a)"
      ],
      "metadata": {
        "colab": {
          "base_uri": "https://localhost:8080/"
        },
        "id": "IrJayT2bvjmk",
        "outputId": "ab5c48b8-3de1-4e0e-8d3f-ed6f0479b5e7"
      },
      "execution_count": null,
      "outputs": [
        {
          "output_type": "stream",
          "name": "stdout",
          "text": [
            "200\n"
          ]
        }
      ]
    },
    {
      "cell_type": "code",
      "source": [
        "str1='pushpa'\n",
        "print(list(str1))\n",
        "print(tuple(str1))\n",
        "print(set(str1))"
      ],
      "metadata": {
        "colab": {
          "base_uri": "https://localhost:8080/"
        },
        "id": "FB_2bn83wFRs",
        "outputId": "7641cf1e-e1c7-4a8c-c8c1-687eae082a29"
      },
      "execution_count": null,
      "outputs": [
        {
          "output_type": "stream",
          "name": "stdout",
          "text": [
            "['p', 'u', 's', 'h', 'p', 'a']\n",
            "('p', 'u', 's', 'h', 'p', 'a')\n",
            "{'p', 'u', 'a', 'h', 's'}\n"
          ]
        }
      ]
    },
    {
      "cell_type": "code",
      "source": [
        "list_tup1=[(1,'a'),(2,'b'),(3,'c')]\n",
        "print(dict(list_tup1))"
      ],
      "metadata": {
        "colab": {
          "base_uri": "https://localhost:8080/"
        },
        "id": "w51FdZ2twqQf",
        "outputId": "ce20d3e8-5b65-446d-c0d6-7fa045b3c1e4"
      },
      "execution_count": null,
      "outputs": [
        {
          "output_type": "stream",
          "name": "stdout",
          "text": [
            "{1: 'a', 2: 'b', 3: 'c'}\n"
          ]
        }
      ]
    },
    {
      "cell_type": "code",
      "source": [
        "list_list1=[[1,'a'],[2,'b'],[3,'c']]\n",
        "print(dict(list1))"
      ],
      "metadata": {
        "colab": {
          "base_uri": "https://localhost:8080/"
        },
        "id": "YqeU24buxzjF",
        "outputId": "cf5e38d4-fd56-4d1d-e04d-5a53056c3eab"
      },
      "execution_count": null,
      "outputs": [
        {
          "output_type": "stream",
          "name": "stdout",
          "text": [
            "{1: 'a', 2: 'b', 3: 'c'}\n"
          ]
        }
      ]
    },
    {
      "cell_type": "code",
      "source": [
        "tup_tup1=((1,'a'),(2,'b'),(3,'c'))\n",
        "print(dict(list_tup1))"
      ],
      "metadata": {
        "colab": {
          "base_uri": "https://localhost:8080/"
        },
        "id": "UNk6i-nhw-Z9",
        "outputId": "6e24228f-3d00-4f58-a75d-5ddce45aa637"
      },
      "execution_count": null,
      "outputs": [
        {
          "output_type": "stream",
          "name": "stdout",
          "text": [
            "{1: 'a', 2: 'b', 3: 'c'}\n"
          ]
        }
      ]
    },
    {
      "cell_type": "code",
      "source": [
        "tup_list1=([1,'a'],[2,'b'],[3,'c'])\n",
        "print(dict(tup_list1))"
      ],
      "metadata": {
        "colab": {
          "base_uri": "https://localhost:8080/"
        },
        "id": "Fn9EhiYOx7Bo",
        "outputId": "62e559db-79c0-4c7e-84ae-5f777203f4d9"
      },
      "execution_count": null,
      "outputs": [
        {
          "output_type": "stream",
          "name": "stdout",
          "text": [
            "{1: 'a', 2: 'b', 3: 'c'}\n"
          ]
        }
      ]
    },
    {
      "cell_type": "code",
      "source": [
        "# set_list1={[1,'a'],[2,'b'],[3,'c']}\n",
        "# print(dict(set_list1)) Gives error as  dictionary keys cannot be mutable but list are mutable"
      ],
      "metadata": {
        "id": "k0Urbp34yIz3"
      },
      "execution_count": null,
      "outputs": []
    },
    {
      "cell_type": "code",
      "source": [
        "set_tup1={(1,'a'),(2,'b'),(3,'c')}\n",
        "print(dict(set_tup1))"
      ],
      "metadata": {
        "colab": {
          "base_uri": "https://localhost:8080/"
        },
        "id": "pWuGHW0rxG1_",
        "outputId": "e22f04c4-63b4-4b6a-d2f8-f0183abf8e63"
      },
      "execution_count": null,
      "outputs": [
        {
          "output_type": "stream",
          "name": "stdout",
          "text": [
            "{2: 'b', 1: 'a', 3: 'c'}\n"
          ]
        }
      ]
    },
    {
      "cell_type": "code",
      "source": [
        "#NUMBER FORMAT\n",
        "# for i in range(0,100,1):\n",
        "#     print('Decimal: ',i)#base-10\n",
        "#     print('Binary: ',bin(i))# base-2\n",
        "#     print('Octa Decimal: ',oct(i))# base-8\n",
        "#     print('Hexa Decimal: ',hex(i))#base-16"
      ],
      "metadata": {
        "id": "EGGCNwAbw7-i"
      },
      "execution_count": null,
      "outputs": []
    },
    {
      "cell_type": "code",
      "source": [
        "list1=['a','b','c','d']#saves each ele in memory\n",
        "x=iter(list1)#doesnt save ele in memory.\n",
        "print(next(x))\n",
        "print(next(x))\n",
        "print(next(x))\n",
        "print(next(x))\n"
      ],
      "metadata": {
        "colab": {
          "base_uri": "https://localhost:8080/"
        },
        "id": "N04W96kt6SGh",
        "outputId": "64bff61f-969b-41ae-86d3-7c228fae8bc7"
      },
      "execution_count": null,
      "outputs": [
        {
          "output_type": "stream",
          "name": "stdout",
          "text": [
            "a\n",
            "b\n",
            "c\n",
            "d\n"
          ]
        }
      ]
    },
    {
      "cell_type": "code",
      "source": [
        "set1={'a','b','c','d'}\n",
        "it=iter(set1)\n",
        "print(next(it))\n",
        "print(next(it))\n",
        "print(next(it))\n",
        "print(next(it))"
      ],
      "metadata": {
        "colab": {
          "base_uri": "https://localhost:8080/"
        },
        "id": "TA03YnAx6_po",
        "outputId": "e7d23a75-39fd-400f-ef07-31a02be6ec3b"
      },
      "execution_count": null,
      "outputs": [
        {
          "output_type": "stream",
          "name": "stdout",
          "text": [
            "b\n",
            "c\n",
            "a\n",
            "d\n"
          ]
        }
      ]
    },
    {
      "cell_type": "code",
      "source": [
        "str1=\"pushpa\"\n",
        "it=iter(str1)\n",
        "print(next(it))\n",
        "print(next(it))\n",
        "print(next(it))\n",
        "print(next(it))"
      ],
      "metadata": {
        "colab": {
          "base_uri": "https://localhost:8080/"
        },
        "id": "SDVLtvQX7TU-",
        "outputId": "0e1d745e-fc48-4694-b727-e8e24eca5307"
      },
      "execution_count": null,
      "outputs": [
        {
          "output_type": "stream",
          "name": "stdout",
          "text": [
            "p\n",
            "u\n",
            "s\n",
            "h\n"
          ]
        }
      ]
    },
    {
      "cell_type": "code",
      "source": [
        "#Complete Built in functions\n",
        "print(abs(-2))"
      ],
      "metadata": {
        "colab": {
          "base_uri": "https://localhost:8080/"
        },
        "id": "dcnnkniP6mIF",
        "outputId": "2feb2c26-af3f-4706-d159-39665ed17449"
      },
      "execution_count": null,
      "outputs": [
        {
          "output_type": "stream",
          "name": "stdout",
          "text": [
            "2\n"
          ]
        }
      ]
    },
    {
      "cell_type": "code",
      "source": [
        "#all() Returns True if all elements are True or list is empty\n",
        "print(all([True,True,True]))\n"
      ],
      "metadata": {
        "colab": {
          "base_uri": "https://localhost:8080/"
        },
        "id": "0S_nIik9h0YG",
        "outputId": "291521cc-fcc7-4b7a-e1f2-5b487de5c060"
      },
      "execution_count": null,
      "outputs": [
        {
          "output_type": "stream",
          "name": "stdout",
          "text": [
            "True\n"
          ]
        }
      ]
    },
    {
      "cell_type": "code",
      "source": [
        "num=[1,2,3,4]\n",
        "all(i % 2 == 0 for i in num)"
      ],
      "metadata": {
        "colab": {
          "base_uri": "https://localhost:8080/"
        },
        "id": "vTk0yoiU7Ef1",
        "outputId": "1c59c926-9d7a-4b90-a96c-15fe7decc8a0"
      },
      "execution_count": null,
      "outputs": [
        {
          "output_type": "execute_result",
          "data": {
            "text/plain": [
              "False"
            ]
          },
          "metadata": {},
          "execution_count": 8
        }
      ]
    },
    {
      "cell_type": "code",
      "source": [
        "#any() Returns True if any elements are True or False if list is empty\n",
        "print(any([False,False,False]))\n"
      ],
      "metadata": {
        "colab": {
          "base_uri": "https://localhost:8080/"
        },
        "id": "0aOXS_52kZm0",
        "outputId": "0498ba6e-d401-4887-ef60-6f78821a3a92"
      },
      "execution_count": null,
      "outputs": [
        {
          "output_type": "stream",
          "name": "stdout",
          "text": [
            "False\n"
          ]
        }
      ]
    },
    {
      "cell_type": "code",
      "source": [
        "num=[1,2,3,4]\n",
        "any(i % 2 == 0 for i in num)"
      ],
      "metadata": {
        "colab": {
          "base_uri": "https://localhost:8080/"
        },
        "id": "ryuI-gqE7PtL",
        "outputId": "9a8a31ca-486b-4e5f-eb46-24940baaa674"
      },
      "execution_count": null,
      "outputs": [
        {
          "output_type": "execute_result",
          "data": {
            "text/plain": [
              "True"
            ]
          },
          "metadata": {},
          "execution_count": 11
        }
      ]
    },
    {
      "cell_type": "code",
      "source": [
        "# ASCII Characters:\n",
        "# Letters: A-Z, a-z\n",
        "# Numbers: 0-9\n",
        "# Punctuation: !@#$%^&*()_+-=[]{}|;':\",./<>?\n",
        "# ASCII characters\n",
        "ascii_str = 'Hello, this is an example with ASCII characters: !@#$%^&*()_+-=[]{}|;\\'\":,./<>?'\n",
        "print(ascii(ascii_str))# returns only the string containing a printable obj\n"
      ],
      "metadata": {
        "id": "td7n80VJlbCm"
      },
      "execution_count": null,
      "outputs": []
    },
    {
      "cell_type": "code",
      "source": [
        "# bin () converts and returns a binary no\n",
        "bin(5)"
      ],
      "metadata": {
        "colab": {
          "base_uri": "https://localhost:8080/",
          "height": 36
        },
        "id": "so_RcqmlLd7O",
        "outputId": "b2228e12-ad01-4e0d-ed47-7f5a7635b623"
      },
      "execution_count": null,
      "outputs": [
        {
          "output_type": "execute_result",
          "data": {
            "text/plain": [
              "'0b101'"
            ],
            "application/vnd.google.colaboratory.intrinsic+json": {
              "type": "string"
            }
          },
          "metadata": {},
          "execution_count": 1
        }
      ]
    },
    {
      "cell_type": "code",
      "source": [
        "#bool()\n",
        "# The bool() function evaluates different types of values and returns True for non-zero numerical values,\n",
        "#  non-empty sequences (like strings, lists, tuples), and any non-None object.\n",
        "#   It returns False for zero values, empty sequences, and None.\n",
        "bool(1)"
      ],
      "metadata": {
        "colab": {
          "base_uri": "https://localhost:8080/"
        },
        "id": "KrkZ19byL5-Z",
        "outputId": "476b6069-dd1c-45c4-c6b3-4878db7a70bb"
      },
      "execution_count": null,
      "outputs": [
        {
          "output_type": "execute_result",
          "data": {
            "text/plain": [
              "True"
            ]
          },
          "metadata": {},
          "execution_count": 2
        }
      ]
    },
    {
      "cell_type": "code",
      "source": [
        "#sets a breakpoint in your Python code for debugging purposes.\n",
        "def some_function():\n",
        "    x = 10\n",
        "    y = 20\n",
        "    z = x + y\n",
        "\n",
        "    # Set a breakpoint here\n",
        "    breakpoint()\n",
        "\n",
        "    print(z)\n",
        "\n",
        "some_function()\n"
      ],
      "metadata": {
        "colab": {
          "base_uri": "https://localhost:8080/"
        },
        "id": "29RsirZTMbRK",
        "outputId": "61d31f2b-0c82-40b0-fde1-9e3f0a2be79e"
      },
      "execution_count": null,
      "outputs": [
        {
          "output_type": "stream",
          "name": "stderr",
          "text": [
            "\n",
            "PYDEV DEBUGGER WARNING:\n",
            "sys.settrace() should not be used when the debugger is being used.\n",
            "This may cause the debugger to stop working correctly.\n",
            "If this is needed, please check: \n",
            "http://pydev.blogspot.com/2007/06/why-cant-pydev-debugger-work-with.html\n",
            "to see how to restore the debug tracing back correctly.\n",
            "Call Location:\n",
            "  File \"/usr/lib/python3.10/bdb.py\", line 336, in set_trace\n",
            "    sys.settrace(self.trace_dispatch)\n",
            "\n"
          ]
        },
        {
          "name": "stdout",
          "output_type": "stream",
          "text": [
            "> \u001b[0;32m<ipython-input-3-7da279b68f93>\u001b[0m(10)\u001b[0;36msome_function\u001b[0;34m()\u001b[0m\n",
            "\u001b[0;32m      8 \u001b[0;31m    \u001b[0mbreakpoint\u001b[0m\u001b[0;34m(\u001b[0m\u001b[0;34m)\u001b[0m\u001b[0;34m\u001b[0m\u001b[0;34m\u001b[0m\u001b[0m\n",
            "\u001b[0m\u001b[0;32m      9 \u001b[0;31m\u001b[0;34m\u001b[0m\u001b[0m\n",
            "\u001b[0m\u001b[0;32m---> 10 \u001b[0;31m    \u001b[0mprint\u001b[0m\u001b[0;34m(\u001b[0m\u001b[0mz\u001b[0m\u001b[0;34m)\u001b[0m\u001b[0;34m\u001b[0m\u001b[0;34m\u001b[0m\u001b[0m\n",
            "\u001b[0m\u001b[0;32m     11 \u001b[0;31m\u001b[0;34m\u001b[0m\u001b[0m\n",
            "\u001b[0m\u001b[0;32m     12 \u001b[0;31m\u001b[0msome_function\u001b[0m\u001b[0;34m(\u001b[0m\u001b[0;34m)\u001b[0m\u001b[0;34m\u001b[0m\u001b[0;34m\u001b[0m\u001b[0m\n",
            "\u001b[0m\n",
            "ipdb> a\n"
          ]
        },
        {
          "output_type": "stream",
          "name": "stderr",
          "text": [
            "\n",
            "PYDEV DEBUGGER WARNING:\n",
            "sys.settrace() should not be used when the debugger is being used.\n",
            "This may cause the debugger to stop working correctly.\n",
            "If this is needed, please check: \n",
            "http://pydev.blogspot.com/2007/06/why-cant-pydev-debugger-work-with.html\n",
            "to see how to restore the debug tracing back correctly.\n",
            "Call Location:\n",
            "  File \"/usr/lib/python3.10/bdb.py\", line 361, in set_quit\n",
            "    sys.settrace(None)\n",
            "\n",
            "\n",
            "PYDEV DEBUGGER WARNING:\n",
            "sys.settrace() should not be used when the debugger is being used.\n",
            "This may cause the debugger to stop working correctly.\n",
            "If this is needed, please check: \n",
            "http://pydev.blogspot.com/2007/06/why-cant-pydev-debugger-work-with.html\n",
            "to see how to restore the debug tracing back correctly.\n",
            "Call Location:\n",
            "  File \"/usr/local/lib/python3.10/dist-packages/IPython/core/debugger.py\", line 1075, in cmdloop\n",
            "    sys.settrace(None)\n",
            "\n"
          ]
        },
        {
          "output_type": "stream",
          "name": "stdout",
          "text": [
            "--KeyboardInterrupt--\n",
            "\n",
            "KeyboardInterrupt: Interrupted by user\n",
            "30\n"
          ]
        }
      ]
    },
    {
      "cell_type": "code",
      "source": [
        "#bytearray() -->creates byte arrays from different types of input data\n",
        "empty_bytearray = bytearray(10)\n",
        "print(empty_bytearray)\n",
        "integers = [65, 66, 67, 68]\n",
        "bytearray_from_list = bytearray(integers)\n",
        "print(bytearray_from_list)\n",
        "# This will raise a TypeError since bytes objects are immutable\n",
        "bytearray_from_list[0] = 69\n",
        "bytearray_from_list\n",
        "\n",
        "#Byte arrays are often used to handle binary data, such as reading\n",
        "# or writing binary files, network communication, or encoding/decoding data."
      ],
      "metadata": {
        "colab": {
          "base_uri": "https://localhost:8080/"
        },
        "id": "LCQN7HfgRCFe",
        "outputId": "16cf6a33-8651-4811-8264-6097e0fac97c"
      },
      "execution_count": null,
      "outputs": [
        {
          "output_type": "stream",
          "name": "stdout",
          "text": [
            "bytearray(b'\\x00\\x00\\x00\\x00\\x00\\x00\\x00\\x00\\x00\\x00')\n",
            "bytearray(b'ABCD')\n"
          ]
        },
        {
          "output_type": "execute_result",
          "data": {
            "text/plain": [
              "bytearray(b'EBCD')"
            ]
          },
          "metadata": {},
          "execution_count": 7
        }
      ]
    },
    {
      "cell_type": "code",
      "source": [
        "#byte() -->creates byte object from different types of input data\n",
        "empty_bytes = bytes(5)  # Create an empty bytes object of size 5\n",
        "print(empty_bytes)\n",
        "integers = [65, 66, 67, 68]\n",
        "bytes_from_list = bytes(integers)\n",
        "print(bytes_from_list)\n",
        "# cant update byte obj as its immutable\n",
        "\n"
      ],
      "metadata": {
        "colab": {
          "base_uri": "https://localhost:8080/"
        },
        "id": "G0_g33YQSD1N",
        "outputId": "eeae3f4b-f176-4e05-9197-8c5342ee216f"
      },
      "execution_count": null,
      "outputs": [
        {
          "output_type": "stream",
          "name": "stdout",
          "text": [
            "b'\\x00\\x00\\x00\\x00\\x00'\n",
            "b'ABCD'\n"
          ]
        }
      ]
    },
    {
      "cell_type": "code",
      "source": [
        "#callable()-->It returns True if the object appears callable (i.e.fun), and False otherwise.\n",
        "print(callable(len))\n",
        "callable(10)"
      ],
      "metadata": {
        "colab": {
          "base_uri": "https://localhost:8080/"
        },
        "id": "FGF20RsITh4m",
        "outputId": "b93d3673-0019-41b8-c1db-bf2e5459c83c"
      },
      "execution_count": null,
      "outputs": [
        {
          "output_type": "stream",
          "name": "stdout",
          "text": [
            "True\n"
          ]
        },
        {
          "output_type": "execute_result",
          "data": {
            "text/plain": [
              "False"
            ]
          },
          "metadata": {},
          "execution_count": 12
        }
      ]
    },
    {
      "cell_type": "code",
      "source": [
        "#chr()--> Unicode character for the specified Unicode code point\n",
        "chr(65)"
      ],
      "metadata": {
        "colab": {
          "base_uri": "https://localhost:8080/",
          "height": 36
        },
        "id": "qYStrZ9QUa-Y",
        "outputId": "33e9354a-fef4-4f97-f6e9-c1fa3fc830bf"
      },
      "execution_count": null,
      "outputs": [
        {
          "output_type": "execute_result",
          "data": {
            "text/plain": [
              "'A'"
            ],
            "application/vnd.google.colaboratory.intrinsic+json": {
              "type": "string"
            }
          },
          "metadata": {},
          "execution_count": 16
        }
      ]
    },
    {
      "cell_type": "code",
      "source": [
        "# @classmethod: It's primarily used  to define a class method within a class.\n",
        "# The method defined using @classmethod receives the cls as the first argument rather than an instance.\n",
        "# It can be called on the class itself, and it operates on the class and its attributes, not on instances\n",
        "class MyClass:\n",
        "    class_variable = 10\n",
        "\n",
        "    def __init__(self, value):\n",
        "        self.value = value\n",
        "\n",
        "    @classmethod\n",
        "    def show_class_variable(cls):\n",
        "        print(cls.class_variable)\n",
        "\n",
        "    @classmethod\n",
        "    def change_class_variable(cls, new_value):\n",
        "        cls.class_variable = new_value\n",
        "\n",
        "# Using class methods\n",
        "MyClass.show_class_variable()  # Output: 10\n",
        "\n",
        "MyClass.change_class_variable(20)\n",
        "MyClass.show_class_variable()  # Output: 20"
      ],
      "metadata": {
        "colab": {
          "base_uri": "https://localhost:8080/"
        },
        "id": "-U80nNVlfkqi",
        "outputId": "e0b3bcf2-245e-4543-d62a-5bae1ca1b2c2"
      },
      "execution_count": null,
      "outputs": [
        {
          "output_type": "stream",
          "name": "stdout",
          "text": [
            "10\n",
            "20\n"
          ]
        }
      ]
    },
    {
      "cell_type": "code",
      "source": [
        "#compile()-->execute Python code dynamically at runtime or when you need to work with Python code as a string.\n",
        "source_code = '''\n",
        "def greet(name):\n",
        "    return f\"Hello, {name}!\"\n",
        "\n",
        "result = greet(\"Alice\")\n",
        "print(result)\n",
        "'''\n",
        "\n",
        "compiled_code = compile(source_code, \"<string>\", \"exec\")\n",
        "\n",
        "# Execute the compiled code\n",
        "exec(compiled_code)\n",
        "\n",
        "# source: The Python source code as a string or AST object to be compiled.\n",
        "# filename: A string representing the file from which the code was read. If the code is entered interactively\n",
        "#      or doesn't originate from a file, you can use \" <string>\".\n",
        "# mode: Specifies the kind of code to be compiled. It can be one of the following strings: \"exec\", \"eval\", or \"single\".\n"
      ],
      "metadata": {
        "colab": {
          "base_uri": "https://localhost:8080/"
        },
        "id": "yJ1316_Sf0DM",
        "outputId": "8daaa625-cdbc-439e-e1b7-670a45ab8ed3"
      },
      "execution_count": null,
      "outputs": [
        {
          "output_type": "stream",
          "name": "stdout",
          "text": [
            "Hello, Alice!\n"
          ]
        }
      ]
    },
    {
      "cell_type": "code",
      "source": [
        "complex(3, 4)"
      ],
      "metadata": {
        "colab": {
          "base_uri": "https://localhost:8080/"
        },
        "id": "AiJy1j1qgedB",
        "outputId": "a9c17672-caad-4442-b51b-e46f9cb2efdd"
      },
      "execution_count": null,
      "outputs": [
        {
          "output_type": "execute_result",
          "data": {
            "text/plain": [
              "(3+4j)"
            ]
          },
          "metadata": {},
          "execution_count": 18
        }
      ]
    },
    {
      "cell_type": "code",
      "source": [
        "#delattr(object, attribute_name)\n",
        "class MyClass:\n",
        "    def __init__(self,w, x=0):\n",
        "        self.w=w\n",
        "        self.x = x\n",
        "        self.y = 10\n",
        "        self.z = 20\n",
        "\n",
        "    def add_attr(self):\n",
        "        return self.x + self.y + self.z\n",
        "\n",
        "obj1 = MyClass(2)\n",
        "obj1.add_attr()"
      ],
      "metadata": {
        "colab": {
          "base_uri": "https://localhost:8080/"
        },
        "id": "bBzZ5vzk-cbI",
        "outputId": "2bbf4ae4-b5a3-42a7-a2d5-5eb8aaefa302"
      },
      "execution_count": null,
      "outputs": [
        {
          "output_type": "execute_result",
          "data": {
            "text/plain": [
              "30"
            ]
          },
          "metadata": {},
          "execution_count": 22
        }
      ]
    },
    {
      "cell_type": "code",
      "source": [
        "obj2= MyClass(5)\n",
        "obj2.add_attr()"
      ],
      "metadata": {
        "colab": {
          "base_uri": "https://localhost:8080/"
        },
        "id": "uRHJRX8Z_i2u",
        "outputId": "d516eaf5-1649-4bf2-e34e-81e67141f91b"
      },
      "execution_count": null,
      "outputs": [
        {
          "output_type": "execute_result",
          "data": {
            "text/plain": [
              "30"
            ]
          },
          "metadata": {},
          "execution_count": 23
        }
      ]
    },
    {
      "cell_type": "code",
      "source": [
        "getattr(obj2, 'x')"
      ],
      "metadata": {
        "colab": {
          "base_uri": "https://localhost:8080/"
        },
        "id": "8_OaD4Ku_3ks",
        "outputId": "da3806b7-a750-41a7-9769-b7cd6f8dd089"
      },
      "execution_count": null,
      "outputs": [
        {
          "output_type": "execute_result",
          "data": {
            "text/plain": [
              "0"
            ]
          },
          "metadata": {},
          "execution_count": 24
        }
      ]
    },
    {
      "cell_type": "code",
      "source": [
        "# Deleting an attribute using delattr()\n",
        "delattr(obj1, 'y')"
      ],
      "metadata": {
        "id": "Iy19XFEoBIRt"
      },
      "execution_count": null,
      "outputs": []
    },
    {
      "cell_type": "code",
      "source": [
        "\n",
        "\n",
        "# Trying to access the deleted attribute (will raise AttributeError)\n",
        "# print(obj.y)\n",
        "\n",
        "# Creating an instance of MyClass\n",
        "myClass= MyClass(5)\n",
        "\n",
        "# Accessing and printing the attribute\n",
        "print(myClass.x)  # Output: 5\n",
        "\n",
        "# Deleting the attribute using delattr()\n",
        "# delattr(myClass, 'x')\n",
        "\n",
        "# Trying to access the deleted attribute (will raise AttributeError)\n",
        "# print(myClass.x)\n",
        "# Output (raises AttributeError): AttributeError: 'MyClass' object has no attribute 'x'\n"
      ],
      "metadata": {
        "id": "GaMhd0Vfg2eZ",
        "colab": {
          "base_uri": "https://localhost:8080/"
        },
        "outputId": "d7e5b0da-4b3a-48e4-fdf0-73b6197ce970"
      },
      "execution_count": null,
      "outputs": [
        {
          "output_type": "stream",
          "name": "stdout",
          "text": [
            "0\n"
          ]
        }
      ]
    },
    {
      "cell_type": "code",
      "source": [],
      "metadata": {
        "id": "1XmPTjgC9Hzs"
      },
      "execution_count": null,
      "outputs": []
    },
    {
      "cell_type": "code",
      "source": [
        "#dir([object])-->returns a list of valid attributes for the given object.\n",
        "class MyClass:\n",
        "    def __init__(self):\n",
        "        self.x = 10\n",
        "        self.y = 20\n",
        "\n",
        "    def method(self):\n",
        "        pass\n",
        "\n",
        "obj = MyClass()\n",
        "\n",
        "# Listing attributes of the object using dir()\n",
        "attributes = dir(obj)\n",
        "print(attributes)\n",
        "\n"
      ],
      "metadata": {
        "colab": {
          "base_uri": "https://localhost:8080/"
        },
        "id": "vNMEqUGqh17R",
        "outputId": "04eaa44a-9808-4764-8d4f-bc6c1b94046d"
      },
      "execution_count": null,
      "outputs": [
        {
          "output_type": "stream",
          "name": "stdout",
          "text": [
            "['__class__', '__delattr__', '__dict__', '__dir__', '__doc__', '__eq__', '__format__', '__ge__', '__getattribute__', '__gt__', '__hash__', '__init__', '__init_subclass__', '__le__', '__lt__', '__module__', '__ne__', '__new__', '__reduce__', '__reduce_ex__', '__repr__', '__setattr__', '__sizeof__', '__str__', '__subclasshook__', '__weakref__', 'method', 'x', 'y']\n"
          ]
        }
      ]
    },
    {
      "cell_type": "code",
      "source": [
        "#divmod()-->returns a tuple containing the quotient and remainder.\n",
        "divmod(20, 7)"
      ],
      "metadata": {
        "colab": {
          "base_uri": "https://localhost:8080/"
        },
        "id": "Rcq8LEH4iUO4",
        "outputId": "98abea70-2f19-42e0-8ed5-d803b3b23e1b"
      },
      "execution_count": null,
      "outputs": [
        {
          "output_type": "execute_result",
          "data": {
            "text/plain": [
              "(2, 6)"
            ]
          },
          "metadata": {},
          "execution_count": 20
        }
      ]
    },
    {
      "cell_type": "code",
      "source": [
        "#enumerate(my_list)--> access both the index and value of elements in an iterable object during iteration\n",
        "my_list = ['apple', 'banana', 'orange']\n",
        "for index, value in enumerate(my_list):\n",
        "    print(f\"Index: {index}, Value: {value}\")\n"
      ],
      "metadata": {
        "colab": {
          "base_uri": "https://localhost:8080/"
        },
        "id": "ydkGnqbqi8CN",
        "outputId": "db987012-723a-4cf0-aaca-83a34c85b09a"
      },
      "execution_count": null,
      "outputs": [
        {
          "output_type": "stream",
          "name": "stdout",
          "text": [
            "Index: 0, Value: apple\n",
            "Index: 1, Value: banana\n",
            "Index: 2, Value: orange\n"
          ]
        },
        {
          "output_type": "execute_result",
          "data": {
            "text/plain": [
              "<enumerate at 0x7ae179e84400>"
            ]
          },
          "metadata": {},
          "execution_count": 22
        }
      ]
    },
    {
      "cell_type": "code",
      "source": [
        "#eval()-->executes the code written in the string within the current scope.\n",
        "x = 10\n",
        "y = 20\n",
        "\n",
        "result = eval('x + y')\n",
        "print(result)  # Output: 30\n",
        "\n",
        "# Using globals and locals\n",
        "globals_dict = {'x': 5, 'y': 8}\n",
        "locals_dict = {}\n",
        "\n",
        "result = eval('x + y', globals_dict, locals_dict)\n",
        "print(result)  # Output: 13\n"
      ],
      "metadata": {
        "colab": {
          "base_uri": "https://localhost:8080/"
        },
        "id": "EUAy2m2Ujm2z",
        "outputId": "4aba1a6f-8ba2-46ca-db5e-21bc3bec7560"
      },
      "execution_count": null,
      "outputs": [
        {
          "output_type": "stream",
          "name": "stdout",
          "text": [
            "30\n",
            "13\n"
          ]
        }
      ]
    },
    {
      "cell_type": "code",
      "source": [
        "#filter(fun, iterable)-->It filters elements based on a specified function and returns an iterator of the elements that satisfy the condition.\n",
        "# Function to check if a number is even\n",
        "def is_even(num):\n",
        "    return num % 2 == 0\n",
        "\n",
        "# List of numbers\n",
        "numbers = [1, 2, 3, 4, 5, 6, 7, 8, 9, 10]\n",
        "\n",
        "# Filtering even numbers using filter()\n",
        "even_numbers = filter(is_even, numbers)\n",
        "\n",
        "print(list(even_numbers))  # Output: [2, 4, 6, 8, 10]\n"
      ],
      "metadata": {
        "colab": {
          "base_uri": "https://localhost:8080/"
        },
        "id": "wiu9CXy-moo1",
        "outputId": "1fc3d409-9421-472d-d707-163d3b07a9f6"
      },
      "execution_count": null,
      "outputs": [
        {
          "output_type": "stream",
          "name": "stdout",
          "text": [
            "[2, 4, 6, 8, 10]\n"
          ]
        }
      ]
    },
    {
      "cell_type": "code",
      "source": [
        "#frozenset(iterable)-->gives the immutable set\n",
        "# Creating a frozenset from a list\n",
        "my_list = [1, 2, 2, 3, 4, 4, 5]\n",
        "frozen = frozenset(my_list)\n",
        "\n",
        "print(frozen)\n",
        "\n",
        "# Operations on frozenset\n",
        "empty_frozen = frozenset()  # Creating an empty frozenset\n",
        "print(empty_frozen)  # Output: frozenset()\n",
        "\n",
        "# Trying to modify a frozenset (results in an AttributeError)\n",
        "# frozen.add(6)  # Raises AttributeError: 'frozenset' object has no attribute 'add'\n"
      ],
      "metadata": {
        "colab": {
          "base_uri": "https://localhost:8080/"
        },
        "id": "bQJaZsJbnKAz",
        "outputId": "7830c813-ae8d-4634-c440-18ec0554b7e1"
      },
      "execution_count": null,
      "outputs": [
        {
          "output_type": "stream",
          "name": "stdout",
          "text": [
            "frozenset({1, 2, 3, 4, 5})\n",
            "frozenset()\n"
          ]
        }
      ]
    },
    {
      "cell_type": "code",
      "source": [
        "# Using frozenset with dictionary\n",
        "data = {'key1': 100, 'key2': 200, 'key3': 300}\n",
        "frozen_keys = frozenset(data.keys())\n",
        "\n",
        "# Using frozen_keys in another set or dictionary\n",
        "other_set = {frozen_keys}\n",
        "print(other_set)  # Output: {frozenset({'key1', 'key2', 'key3'})}\n"
      ],
      "metadata": {
        "colab": {
          "base_uri": "https://localhost:8080/"
        },
        "id": "OIwVCuptoBrA",
        "outputId": "1651b0ff-8f9b-45e7-c280-f7ba2ef2e7f0"
      },
      "execution_count": null,
      "outputs": [
        {
          "output_type": "stream",
          "name": "stdout",
          "text": [
            "{frozenset({'key2', 'key3', 'key1'})}\n"
          ]
        }
      ]
    },
    {
      "cell_type": "code",
      "source": [
        "#getattr()-->obtains the value of a named attribute of an object.\n",
        "#hasattr()--> bool\n",
        "class Example:\n",
        "    attr_name = 42\n",
        "obj = Example()\n",
        "\n",
        "    # Using getattr to access the attribute 'attr' of the object 'obj'\n",
        "value = getattr(obj, 'attr_name')\n",
        "print(value)  # Output will be 42\n"
      ],
      "metadata": {
        "colab": {
          "base_uri": "https://localhost:8080/"
        },
        "id": "mW865JTY1z3G",
        "outputId": "d709c3a2-4770-4f1f-8975-2cc24b1fc7f3"
      },
      "execution_count": null,
      "outputs": [
        {
          "output_type": "stream",
          "name": "stdout",
          "text": [
            "42\n"
          ]
        }
      ]
    },
    {
      "cell_type": "code",
      "source": [
        "class Person:\n",
        "    def __init__(self, name, age):\n",
        "        self.name = name\n",
        "        self.age = age\n",
        "\n",
        "person = Person(\"Alice\", 30)\n",
        "\n",
        "# Dynamically accessing attributes based on user input\n",
        "attribute_to_get = input(\"Enter attribute (name or age): \")\n",
        "\n",
        "if hasattr(person, attribute_to_get):\n",
        "    value = getattr(person, attribute_to_get)\n",
        "    print(f\"The {attribute_to_get} is {value}\")\n",
        "else:\n",
        "    print(\"Attribute not found\")\n"
      ],
      "metadata": {
        "colab": {
          "base_uri": "https://localhost:8080/"
        },
        "id": "efhi5yQd9bMg",
        "outputId": "7b47dd67-1db6-41d0-db79-8e9eccceef55"
      },
      "execution_count": null,
      "outputs": [
        {
          "output_type": "stream",
          "name": "stdout",
          "text": [
            "Enter attribute (name or age): name\n",
            "The name is Alice\n"
          ]
        }
      ]
    },
    {
      "cell_type": "code",
      "source": [
        "#globals()--> returns a dictionary representing the current global symbol table.\n",
        "#locals()--> returns a dictionary representing the current local symbol table.\n",
        "global_var = 10\n",
        "def my_function():\n",
        "    local_var = 20\n",
        "    print(\"Global variables:\")\n",
        "    print(globals())  # Prints all global variables\n",
        "    print(\"\\nLocal variables:\")\n",
        "    print(locals())   # Prints all local variables\n",
        "\n",
        "my_function()\n",
        "print(locals())\n"
      ],
      "metadata": {
        "colab": {
          "base_uri": "https://localhost:8080/"
        },
        "id": "9vpod4O0-D_x",
        "outputId": "0ef001ae-7c94-464a-8698-cd0085ccc778"
      },
      "execution_count": null,
      "outputs": [
        {
          "output_type": "stream",
          "name": "stdout",
          "text": [
            "Global variables:\n",
            "{'__name__': '__main__', '__doc__': 'Automatically created module for IPython interactive environment', '__package__': None, '__loader__': None, '__spec__': None, '__builtin__': <module 'builtins' (built-in)>, '__builtins__': <module 'builtins' (built-in)>, '_ih': ['', \"#getattr()-->obtains the value of a named attribute of an object.\\nclass Example:\\n    attr_name = 42\\n\\n    obj = Example()\\n\\n    # Using getattr to access the attribute 'attr' of the object 'obj'\\n    value = getattr(obj, 'attr_name')\\n    print(value)  # Output will be 42\", \"#getattr()-->obtains the value of a named attribute of an object.\\nclass Example:\\n    attr_name = 42\\nobj = Example()\\n\\n    # Using getattr to access the attribute 'attr' of the object 'obj'\\nvalue = getattr(obj, 'attr_name')\\nprint(value)  # Output will be 42\", 'class Person:\\n    def __init__(self, name, age):\\n        self.name = name\\n        self.age = age\\n\\nperson = Person(\"Alice\", 30)\\n\\n# Dynamically accessing attributes based on user input\\nattribute_to_get = input(\"Enter attribute (name or age): \")\\n\\nif hasattr(person, attribute_to_get):\\n    value = getattr(person, attribute_to_get)\\n    print(f\"The {attribute_to_get} is {value}\")\\nelse:\\n    print(\"Attribute not found\")', 'class Person:\\n    def __init__(self, name, age):\\n        self.name = name\\n        self.age = age\\n\\nperson = Person(\"Alice\", 30)\\n\\n# Dynamically accessing attributes based on user input\\nattribute_to_get = input(\"Enter attribute (name or age): \")\\n\\nif hasattr(person, attribute_to_get):\\n    value = getattr(person, attribute_to_get)\\n    print(f\"The {attribute_to_get} is {value}\")\\nelse:\\n    print(\"Attribute not found\")', '#glocals()-->\\nglobal_var = 10\\n\\ndef my_function():\\n    local_var = 20\\n    print(\"Global variables:\")\\n    print(globals())  # Prints all global variables\\n    print(\"\\\\nLocal variables:\")\\n    print(locals())   # Prints all local variables\\n\\nmy_function()', \"#hash()-->returns the hash value of an object if it's hashable, meaning it can be converted into an integer.\\nprint(hash(42))          # Output: 42 (for integers, the hash is the value itself)\\nprint(hash('Hello'))     # Output: -9073001255818748550 (hash for the string 'Hello')\\nprint(hash((1, 2, 3)))   # Output: 2528502973977326415 (hash for the tuple (1, 2, 3))\", \"#hash()-->returns the hash value of an object if it's hashable, meaning it can be converted into an integer.\\nprint(hash(42))          # Output: 42 (for integers, the hash is the value itself)\\nprint(hash('Hello'))     # Output: -9073001255818748550 (hash for the string 'Hello')\\nprint(hash((1, 2, 3)))   # Output: 2528502973977326415 (hash for the tuple (1, 2, 3))\", \"#hash()-->returns the hash value of an object if it's hashable, meaning it can be converted into an integer.\\nprint(hash(42))          \\nprint(hash('Hello'))    \\nprint(hash((1, 2, 3)))  \\n\\n# This will raise a TypeError: unhashable type: 'list'\\nmy_list = [1, 2, 3]\\nprint(hash(my_list))\", \"#hash()-->returns the hash value of an object if it's hashable, meaning it can be converted into an integer.\\nprint(hash(42))          \\nprint(hash('Hello'))    \\nprint(hash((1, 2, 3)))  \\n\\n# print(hash([1, 2, 3])) TypeError: unhashable type: 'list'\", '#help()-->pass the name of a function, class, module, or any object to get information about it.\\nimport math\\nhelp(math)', '#help()-->pass the name of a function, class, module, or any object to get information about it.\\nimport math\\n#help(math)', '# id()--> returns a unique identifier (an integer) for an object\\nx = 42\\nprint(id(x))  # Output: An integer representing the memory address of the integer object 42', '#isinstance()-->checks if an object belongs to a certain class or type.\\nisinstance(12,int)', '#issubclass()--> checks if a class is a subclass of another class.\\nclass Parent:\\n    pass\\n\\nclass Child(Parent):\\n    pass\\n\\nprint(issubclass(Child, Parent))  # Output: True, as Child is a subclass of Parent', '#globals()--> returns a dictionary representing the current global symbol table.\\nglobal_var = 10\\ndef my_function():\\n    local_var = 20\\n    print(\"Global variables:\")\\n    print(globals())  # Prints all global variables\\n    print(\"\\\\nLocal variables:\")\\n    print(locals())   # Prints all local variables\\n\\nmy_function()\\nprint(locals())'], '_oh': {13: True}, '_dh': ['/content'], 'In': ['', \"#getattr()-->obtains the value of a named attribute of an object.\\nclass Example:\\n    attr_name = 42\\n\\n    obj = Example()\\n\\n    # Using getattr to access the attribute 'attr' of the object 'obj'\\n    value = getattr(obj, 'attr_name')\\n    print(value)  # Output will be 42\", \"#getattr()-->obtains the value of a named attribute of an object.\\nclass Example:\\n    attr_name = 42\\nobj = Example()\\n\\n    # Using getattr to access the attribute 'attr' of the object 'obj'\\nvalue = getattr(obj, 'attr_name')\\nprint(value)  # Output will be 42\", 'class Person:\\n    def __init__(self, name, age):\\n        self.name = name\\n        self.age = age\\n\\nperson = Person(\"Alice\", 30)\\n\\n# Dynamically accessing attributes based on user input\\nattribute_to_get = input(\"Enter attribute (name or age): \")\\n\\nif hasattr(person, attribute_to_get):\\n    value = getattr(person, attribute_to_get)\\n    print(f\"The {attribute_to_get} is {value}\")\\nelse:\\n    print(\"Attribute not found\")', 'class Person:\\n    def __init__(self, name, age):\\n        self.name = name\\n        self.age = age\\n\\nperson = Person(\"Alice\", 30)\\n\\n# Dynamically accessing attributes based on user input\\nattribute_to_get = input(\"Enter attribute (name or age): \")\\n\\nif hasattr(person, attribute_to_get):\\n    value = getattr(person, attribute_to_get)\\n    print(f\"The {attribute_to_get} is {value}\")\\nelse:\\n    print(\"Attribute not found\")', '#glocals()-->\\nglobal_var = 10\\n\\ndef my_function():\\n    local_var = 20\\n    print(\"Global variables:\")\\n    print(globals())  # Prints all global variables\\n    print(\"\\\\nLocal variables:\")\\n    print(locals())   # Prints all local variables\\n\\nmy_function()', \"#hash()-->returns the hash value of an object if it's hashable, meaning it can be converted into an integer.\\nprint(hash(42))          # Output: 42 (for integers, the hash is the value itself)\\nprint(hash('Hello'))     # Output: -9073001255818748550 (hash for the string 'Hello')\\nprint(hash((1, 2, 3)))   # Output: 2528502973977326415 (hash for the tuple (1, 2, 3))\", \"#hash()-->returns the hash value of an object if it's hashable, meaning it can be converted into an integer.\\nprint(hash(42))          # Output: 42 (for integers, the hash is the value itself)\\nprint(hash('Hello'))     # Output: -9073001255818748550 (hash for the string 'Hello')\\nprint(hash((1, 2, 3)))   # Output: 2528502973977326415 (hash for the tuple (1, 2, 3))\", \"#hash()-->returns the hash value of an object if it's hashable, meaning it can be converted into an integer.\\nprint(hash(42))          \\nprint(hash('Hello'))    \\nprint(hash((1, 2, 3)))  \\n\\n# This will raise a TypeError: unhashable type: 'list'\\nmy_list = [1, 2, 3]\\nprint(hash(my_list))\", \"#hash()-->returns the hash value of an object if it's hashable, meaning it can be converted into an integer.\\nprint(hash(42))          \\nprint(hash('Hello'))    \\nprint(hash((1, 2, 3)))  \\n\\n# print(hash([1, 2, 3])) TypeError: unhashable type: 'list'\", '#help()-->pass the name of a function, class, module, or any object to get information about it.\\nimport math\\nhelp(math)', '#help()-->pass the name of a function, class, module, or any object to get information about it.\\nimport math\\n#help(math)', '# id()--> returns a unique identifier (an integer) for an object\\nx = 42\\nprint(id(x))  # Output: An integer representing the memory address of the integer object 42', '#isinstance()-->checks if an object belongs to a certain class or type.\\nisinstance(12,int)', '#issubclass()--> checks if a class is a subclass of another class.\\nclass Parent:\\n    pass\\n\\nclass Child(Parent):\\n    pass\\n\\nprint(issubclass(Child, Parent))  # Output: True, as Child is a subclass of Parent', '#globals()--> returns a dictionary representing the current global symbol table.\\nglobal_var = 10\\ndef my_function():\\n    local_var = 20\\n    print(\"Global variables:\")\\n    print(globals())  # Prints all global variables\\n    print(\"\\\\nLocal variables:\")\\n    print(locals())   # Prints all local variables\\n\\nmy_function()\\nprint(locals())'], 'Out': {13: True}, 'get_ipython': <bound method InteractiveShell.get_ipython of <google.colab._shell.Shell object at 0x78130a2e63e0>>, 'exit': <IPython.core.autocall.ZMQExitAutocall object at 0x78130a2e6dd0>, 'quit': <IPython.core.autocall.ZMQExitAutocall object at 0x78130a2e6dd0>, '_': True, '__': '', '___': '', '_i': '#issubclass()--> checks if a class is a subclass of another class.\\nclass Parent:\\n    pass\\n\\nclass Child(Parent):\\n    pass\\n\\nprint(issubclass(Child, Parent))  # Output: True, as Child is a subclass of Parent', '_ii': '#isinstance()-->checks if an object belongs to a certain class or type.\\nisinstance(12,int)', '_iii': '# id()--> returns a unique identifier (an integer) for an object\\nx = 42\\nprint(id(x))  # Output: An integer representing the memory address of the integer object 42', '_i1': \"#getattr()-->obtains the value of a named attribute of an object.\\nclass Example:\\n    attr_name = 42\\n\\n    obj = Example()\\n\\n    # Using getattr to access the attribute 'attr' of the object 'obj'\\n    value = getattr(obj, 'attr_name')\\n    print(value)  # Output will be 42\", '_i2': \"#getattr()-->obtains the value of a named attribute of an object.\\nclass Example:\\n    attr_name = 42\\nobj = Example()\\n\\n    # Using getattr to access the attribute 'attr' of the object 'obj'\\nvalue = getattr(obj, 'attr_name')\\nprint(value)  # Output will be 42\", 'Example': <class '__main__.Example'>, 'obj': <__main__.Example object at 0x7812ef348910>, 'value': 'Alice', '_i3': 'class Person:\\n    def __init__(self, name, age):\\n        self.name = name\\n        self.age = age\\n\\nperson = Person(\"Alice\", 30)\\n\\n# Dynamically accessing attributes based on user input\\nattribute_to_get = input(\"Enter attribute (name or age): \")\\n\\nif hasattr(person, attribute_to_get):\\n    value = getattr(person, attribute_to_get)\\n    print(f\"The {attribute_to_get} is {value}\")\\nelse:\\n    print(\"Attribute not found\")', 'Person': <class '__main__.Person'>, 'person': <__main__.Person object at 0x7812ef34a260>, 'attribute_to_get': 'name', '_i4': 'class Person:\\n    def __init__(self, name, age):\\n        self.name = name\\n        self.age = age\\n\\nperson = Person(\"Alice\", 30)\\n\\n# Dynamically accessing attributes based on user input\\nattribute_to_get = input(\"Enter attribute (name or age): \")\\n\\nif hasattr(person, attribute_to_get):\\n    value = getattr(person, attribute_to_get)\\n    print(f\"The {attribute_to_get} is {value}\")\\nelse:\\n    print(\"Attribute not found\")', '_i5': '#glocals()-->\\nglobal_var = 10\\n\\ndef my_function():\\n    local_var = 20\\n    print(\"Global variables:\")\\n    print(globals())  # Prints all global variables\\n    print(\"\\\\nLocal variables:\")\\n    print(locals())   # Prints all local variables\\n\\nmy_function()', 'global_var': 10, 'my_function': <function my_function at 0x7812ceb3ca60>, '_i6': \"#hash()-->returns the hash value of an object if it's hashable, meaning it can be converted into an integer.\\nprint(hash(42))          # Output: 42 (for integers, the hash is the value itself)\\nprint(hash('Hello'))     # Output: -9073001255818748550 (hash for the string 'Hello')\\nprint(hash((1, 2, 3)))   # Output: 2528502973977326415 (hash for the tuple (1, 2, 3))\", '_i7': \"#hash()-->returns the hash value of an object if it's hashable, meaning it can be converted into an integer.\\nprint(hash(42))          # Output: 42 (for integers, the hash is the value itself)\\nprint(hash('Hello'))     # Output: -9073001255818748550 (hash for the string 'Hello')\\nprint(hash((1, 2, 3)))   # Output: 2528502973977326415 (hash for the tuple (1, 2, 3))\", '_i8': \"#hash()-->returns the hash value of an object if it's hashable, meaning it can be converted into an integer.\\nprint(hash(42))          \\nprint(hash('Hello'))    \\nprint(hash((1, 2, 3)))  \\n\\n# This will raise a TypeError: unhashable type: 'list'\\nmy_list = [1, 2, 3]\\nprint(hash(my_list))\", 'my_list': [1, 2, 3], '_i9': \"#hash()-->returns the hash value of an object if it's hashable, meaning it can be converted into an integer.\\nprint(hash(42))          \\nprint(hash('Hello'))    \\nprint(hash((1, 2, 3)))  \\n\\n# print(hash([1, 2, 3])) TypeError: unhashable type: 'list'\", '_i10': '#help()-->pass the name of a function, class, module, or any object to get information about it.\\nimport math\\nhelp(math)', 'math': <module 'math' (built-in)>, '_i11': '#help()-->pass the name of a function, class, module, or any object to get information about it.\\nimport math\\n#help(math)', '_i12': '# id()--> returns a unique identifier (an integer) for an object\\nx = 42\\nprint(id(x))  # Output: An integer representing the memory address of the integer object 42', 'x': 42, '_i13': '#isinstance()-->checks if an object belongs to a certain class or type.\\nisinstance(12,int)', '_13': True, '_i14': '#issubclass()--> checks if a class is a subclass of another class.\\nclass Parent:\\n    pass\\n\\nclass Child(Parent):\\n    pass\\n\\nprint(issubclass(Child, Parent))  # Output: True, as Child is a subclass of Parent', 'Parent': <class '__main__.Parent'>, 'Child': <class '__main__.Child'>, '_i15': '#globals()--> returns a dictionary representing the current global symbol table.\\nglobal_var = 10\\ndef my_function():\\n    local_var = 20\\n    print(\"Global variables:\")\\n    print(globals())  # Prints all global variables\\n    print(\"\\\\nLocal variables:\")\\n    print(locals())   # Prints all local variables\\n\\nmy_function()\\nprint(locals())'}\n",
            "\n",
            "Local variables:\n",
            "{'local_var': 20}\n",
            "{'__name__': '__main__', '__doc__': 'Automatically created module for IPython interactive environment', '__package__': None, '__loader__': None, '__spec__': None, '__builtin__': <module 'builtins' (built-in)>, '__builtins__': <module 'builtins' (built-in)>, '_ih': ['', \"#getattr()-->obtains the value of a named attribute of an object.\\nclass Example:\\n    attr_name = 42\\n\\n    obj = Example()\\n\\n    # Using getattr to access the attribute 'attr' of the object 'obj'\\n    value = getattr(obj, 'attr_name')\\n    print(value)  # Output will be 42\", \"#getattr()-->obtains the value of a named attribute of an object.\\nclass Example:\\n    attr_name = 42\\nobj = Example()\\n\\n    # Using getattr to access the attribute 'attr' of the object 'obj'\\nvalue = getattr(obj, 'attr_name')\\nprint(value)  # Output will be 42\", 'class Person:\\n    def __init__(self, name, age):\\n        self.name = name\\n        self.age = age\\n\\nperson = Person(\"Alice\", 30)\\n\\n# Dynamically accessing attributes based on user input\\nattribute_to_get = input(\"Enter attribute (name or age): \")\\n\\nif hasattr(person, attribute_to_get):\\n    value = getattr(person, attribute_to_get)\\n    print(f\"The {attribute_to_get} is {value}\")\\nelse:\\n    print(\"Attribute not found\")', 'class Person:\\n    def __init__(self, name, age):\\n        self.name = name\\n        self.age = age\\n\\nperson = Person(\"Alice\", 30)\\n\\n# Dynamically accessing attributes based on user input\\nattribute_to_get = input(\"Enter attribute (name or age): \")\\n\\nif hasattr(person, attribute_to_get):\\n    value = getattr(person, attribute_to_get)\\n    print(f\"The {attribute_to_get} is {value}\")\\nelse:\\n    print(\"Attribute not found\")', '#glocals()-->\\nglobal_var = 10\\n\\ndef my_function():\\n    local_var = 20\\n    print(\"Global variables:\")\\n    print(globals())  # Prints all global variables\\n    print(\"\\\\nLocal variables:\")\\n    print(locals())   # Prints all local variables\\n\\nmy_function()', \"#hash()-->returns the hash value of an object if it's hashable, meaning it can be converted into an integer.\\nprint(hash(42))          # Output: 42 (for integers, the hash is the value itself)\\nprint(hash('Hello'))     # Output: -9073001255818748550 (hash for the string 'Hello')\\nprint(hash((1, 2, 3)))   # Output: 2528502973977326415 (hash for the tuple (1, 2, 3))\", \"#hash()-->returns the hash value of an object if it's hashable, meaning it can be converted into an integer.\\nprint(hash(42))          # Output: 42 (for integers, the hash is the value itself)\\nprint(hash('Hello'))     # Output: -9073001255818748550 (hash for the string 'Hello')\\nprint(hash((1, 2, 3)))   # Output: 2528502973977326415 (hash for the tuple (1, 2, 3))\", \"#hash()-->returns the hash value of an object if it's hashable, meaning it can be converted into an integer.\\nprint(hash(42))          \\nprint(hash('Hello'))    \\nprint(hash((1, 2, 3)))  \\n\\n# This will raise a TypeError: unhashable type: 'list'\\nmy_list = [1, 2, 3]\\nprint(hash(my_list))\", \"#hash()-->returns the hash value of an object if it's hashable, meaning it can be converted into an integer.\\nprint(hash(42))          \\nprint(hash('Hello'))    \\nprint(hash((1, 2, 3)))  \\n\\n# print(hash([1, 2, 3])) TypeError: unhashable type: 'list'\", '#help()-->pass the name of a function, class, module, or any object to get information about it.\\nimport math\\nhelp(math)', '#help()-->pass the name of a function, class, module, or any object to get information about it.\\nimport math\\n#help(math)', '# id()--> returns a unique identifier (an integer) for an object\\nx = 42\\nprint(id(x))  # Output: An integer representing the memory address of the integer object 42', '#isinstance()-->checks if an object belongs to a certain class or type.\\nisinstance(12,int)', '#issubclass()--> checks if a class is a subclass of another class.\\nclass Parent:\\n    pass\\n\\nclass Child(Parent):\\n    pass\\n\\nprint(issubclass(Child, Parent))  # Output: True, as Child is a subclass of Parent', '#globals()--> returns a dictionary representing the current global symbol table.\\nglobal_var = 10\\ndef my_function():\\n    local_var = 20\\n    print(\"Global variables:\")\\n    print(globals())  # Prints all global variables\\n    print(\"\\\\nLocal variables:\")\\n    print(locals())   # Prints all local variables\\n\\nmy_function()\\nprint(locals())'], '_oh': {13: True}, '_dh': ['/content'], 'In': ['', \"#getattr()-->obtains the value of a named attribute of an object.\\nclass Example:\\n    attr_name = 42\\n\\n    obj = Example()\\n\\n    # Using getattr to access the attribute 'attr' of the object 'obj'\\n    value = getattr(obj, 'attr_name')\\n    print(value)  # Output will be 42\", \"#getattr()-->obtains the value of a named attribute of an object.\\nclass Example:\\n    attr_name = 42\\nobj = Example()\\n\\n    # Using getattr to access the attribute 'attr' of the object 'obj'\\nvalue = getattr(obj, 'attr_name')\\nprint(value)  # Output will be 42\", 'class Person:\\n    def __init__(self, name, age):\\n        self.name = name\\n        self.age = age\\n\\nperson = Person(\"Alice\", 30)\\n\\n# Dynamically accessing attributes based on user input\\nattribute_to_get = input(\"Enter attribute (name or age): \")\\n\\nif hasattr(person, attribute_to_get):\\n    value = getattr(person, attribute_to_get)\\n    print(f\"The {attribute_to_get} is {value}\")\\nelse:\\n    print(\"Attribute not found\")', 'class Person:\\n    def __init__(self, name, age):\\n        self.name = name\\n        self.age = age\\n\\nperson = Person(\"Alice\", 30)\\n\\n# Dynamically accessing attributes based on user input\\nattribute_to_get = input(\"Enter attribute (name or age): \")\\n\\nif hasattr(person, attribute_to_get):\\n    value = getattr(person, attribute_to_get)\\n    print(f\"The {attribute_to_get} is {value}\")\\nelse:\\n    print(\"Attribute not found\")', '#glocals()-->\\nglobal_var = 10\\n\\ndef my_function():\\n    local_var = 20\\n    print(\"Global variables:\")\\n    print(globals())  # Prints all global variables\\n    print(\"\\\\nLocal variables:\")\\n    print(locals())   # Prints all local variables\\n\\nmy_function()', \"#hash()-->returns the hash value of an object if it's hashable, meaning it can be converted into an integer.\\nprint(hash(42))          # Output: 42 (for integers, the hash is the value itself)\\nprint(hash('Hello'))     # Output: -9073001255818748550 (hash for the string 'Hello')\\nprint(hash((1, 2, 3)))   # Output: 2528502973977326415 (hash for the tuple (1, 2, 3))\", \"#hash()-->returns the hash value of an object if it's hashable, meaning it can be converted into an integer.\\nprint(hash(42))          # Output: 42 (for integers, the hash is the value itself)\\nprint(hash('Hello'))     # Output: -9073001255818748550 (hash for the string 'Hello')\\nprint(hash((1, 2, 3)))   # Output: 2528502973977326415 (hash for the tuple (1, 2, 3))\", \"#hash()-->returns the hash value of an object if it's hashable, meaning it can be converted into an integer.\\nprint(hash(42))          \\nprint(hash('Hello'))    \\nprint(hash((1, 2, 3)))  \\n\\n# This will raise a TypeError: unhashable type: 'list'\\nmy_list = [1, 2, 3]\\nprint(hash(my_list))\", \"#hash()-->returns the hash value of an object if it's hashable, meaning it can be converted into an integer.\\nprint(hash(42))          \\nprint(hash('Hello'))    \\nprint(hash((1, 2, 3)))  \\n\\n# print(hash([1, 2, 3])) TypeError: unhashable type: 'list'\", '#help()-->pass the name of a function, class, module, or any object to get information about it.\\nimport math\\nhelp(math)', '#help()-->pass the name of a function, class, module, or any object to get information about it.\\nimport math\\n#help(math)', '# id()--> returns a unique identifier (an integer) for an object\\nx = 42\\nprint(id(x))  # Output: An integer representing the memory address of the integer object 42', '#isinstance()-->checks if an object belongs to a certain class or type.\\nisinstance(12,int)', '#issubclass()--> checks if a class is a subclass of another class.\\nclass Parent:\\n    pass\\n\\nclass Child(Parent):\\n    pass\\n\\nprint(issubclass(Child, Parent))  # Output: True, as Child is a subclass of Parent', '#globals()--> returns a dictionary representing the current global symbol table.\\nglobal_var = 10\\ndef my_function():\\n    local_var = 20\\n    print(\"Global variables:\")\\n    print(globals())  # Prints all global variables\\n    print(\"\\\\nLocal variables:\")\\n    print(locals())   # Prints all local variables\\n\\nmy_function()\\nprint(locals())'], 'Out': {13: True}, 'get_ipython': <bound method InteractiveShell.get_ipython of <google.colab._shell.Shell object at 0x78130a2e63e0>>, 'exit': <IPython.core.autocall.ZMQExitAutocall object at 0x78130a2e6dd0>, 'quit': <IPython.core.autocall.ZMQExitAutocall object at 0x78130a2e6dd0>, '_': True, '__': '', '___': '', '_i': '#issubclass()--> checks if a class is a subclass of another class.\\nclass Parent:\\n    pass\\n\\nclass Child(Parent):\\n    pass\\n\\nprint(issubclass(Child, Parent))  # Output: True, as Child is a subclass of Parent', '_ii': '#isinstance()-->checks if an object belongs to a certain class or type.\\nisinstance(12,int)', '_iii': '# id()--> returns a unique identifier (an integer) for an object\\nx = 42\\nprint(id(x))  # Output: An integer representing the memory address of the integer object 42', '_i1': \"#getattr()-->obtains the value of a named attribute of an object.\\nclass Example:\\n    attr_name = 42\\n\\n    obj = Example()\\n\\n    # Using getattr to access the attribute 'attr' of the object 'obj'\\n    value = getattr(obj, 'attr_name')\\n    print(value)  # Output will be 42\", '_i2': \"#getattr()-->obtains the value of a named attribute of an object.\\nclass Example:\\n    attr_name = 42\\nobj = Example()\\n\\n    # Using getattr to access the attribute 'attr' of the object 'obj'\\nvalue = getattr(obj, 'attr_name')\\nprint(value)  # Output will be 42\", 'Example': <class '__main__.Example'>, 'obj': <__main__.Example object at 0x7812ef348910>, 'value': 'Alice', '_i3': 'class Person:\\n    def __init__(self, name, age):\\n        self.name = name\\n        self.age = age\\n\\nperson = Person(\"Alice\", 30)\\n\\n# Dynamically accessing attributes based on user input\\nattribute_to_get = input(\"Enter attribute (name or age): \")\\n\\nif hasattr(person, attribute_to_get):\\n    value = getattr(person, attribute_to_get)\\n    print(f\"The {attribute_to_get} is {value}\")\\nelse:\\n    print(\"Attribute not found\")', 'Person': <class '__main__.Person'>, 'person': <__main__.Person object at 0x7812ef34a260>, 'attribute_to_get': 'name', '_i4': 'class Person:\\n    def __init__(self, name, age):\\n        self.name = name\\n        self.age = age\\n\\nperson = Person(\"Alice\", 30)\\n\\n# Dynamically accessing attributes based on user input\\nattribute_to_get = input(\"Enter attribute (name or age): \")\\n\\nif hasattr(person, attribute_to_get):\\n    value = getattr(person, attribute_to_get)\\n    print(f\"The {attribute_to_get} is {value}\")\\nelse:\\n    print(\"Attribute not found\")', '_i5': '#glocals()-->\\nglobal_var = 10\\n\\ndef my_function():\\n    local_var = 20\\n    print(\"Global variables:\")\\n    print(globals())  # Prints all global variables\\n    print(\"\\\\nLocal variables:\")\\n    print(locals())   # Prints all local variables\\n\\nmy_function()', 'global_var': 10, 'my_function': <function my_function at 0x7812ceb3ca60>, '_i6': \"#hash()-->returns the hash value of an object if it's hashable, meaning it can be converted into an integer.\\nprint(hash(42))          # Output: 42 (for integers, the hash is the value itself)\\nprint(hash('Hello'))     # Output: -9073001255818748550 (hash for the string 'Hello')\\nprint(hash((1, 2, 3)))   # Output: 2528502973977326415 (hash for the tuple (1, 2, 3))\", '_i7': \"#hash()-->returns the hash value of an object if it's hashable, meaning it can be converted into an integer.\\nprint(hash(42))          # Output: 42 (for integers, the hash is the value itself)\\nprint(hash('Hello'))     # Output: -9073001255818748550 (hash for the string 'Hello')\\nprint(hash((1, 2, 3)))   # Output: 2528502973977326415 (hash for the tuple (1, 2, 3))\", '_i8': \"#hash()-->returns the hash value of an object if it's hashable, meaning it can be converted into an integer.\\nprint(hash(42))          \\nprint(hash('Hello'))    \\nprint(hash((1, 2, 3)))  \\n\\n# This will raise a TypeError: unhashable type: 'list'\\nmy_list = [1, 2, 3]\\nprint(hash(my_list))\", 'my_list': [1, 2, 3], '_i9': \"#hash()-->returns the hash value of an object if it's hashable, meaning it can be converted into an integer.\\nprint(hash(42))          \\nprint(hash('Hello'))    \\nprint(hash((1, 2, 3)))  \\n\\n# print(hash([1, 2, 3])) TypeError: unhashable type: 'list'\", '_i10': '#help()-->pass the name of a function, class, module, or any object to get information about it.\\nimport math\\nhelp(math)', 'math': <module 'math' (built-in)>, '_i11': '#help()-->pass the name of a function, class, module, or any object to get information about it.\\nimport math\\n#help(math)', '_i12': '# id()--> returns a unique identifier (an integer) for an object\\nx = 42\\nprint(id(x))  # Output: An integer representing the memory address of the integer object 42', 'x': 42, '_i13': '#isinstance()-->checks if an object belongs to a certain class or type.\\nisinstance(12,int)', '_13': True, '_i14': '#issubclass()--> checks if a class is a subclass of another class.\\nclass Parent:\\n    pass\\n\\nclass Child(Parent):\\n    pass\\n\\nprint(issubclass(Child, Parent))  # Output: True, as Child is a subclass of Parent', 'Parent': <class '__main__.Parent'>, 'Child': <class '__main__.Child'>, '_i15': '#globals()--> returns a dictionary representing the current global symbol table.\\nglobal_var = 10\\ndef my_function():\\n    local_var = 20\\n    print(\"Global variables:\")\\n    print(globals())  # Prints all global variables\\n    print(\"\\\\nLocal variables:\")\\n    print(locals())   # Prints all local variables\\n\\nmy_function()\\nprint(locals())'}\n"
          ]
        }
      ]
    },
    {
      "cell_type": "code",
      "source": [
        "#hash()-->returns the hash value of an object if it's hashable, meaning it can be converted into an integer.\n",
        "print(hash(42))\n",
        "print(hash('Hello'))\n",
        "print(hash((1, 2, 3)))\n",
        "\n",
        "# print(hash([1, 2, 3])) TypeError: unhashable type: 'list'\n",
        "\n"
      ],
      "metadata": {
        "colab": {
          "base_uri": "https://localhost:8080/"
        },
        "id": "APdY9hlS_rd7",
        "outputId": "b55d12ad-b4bf-444a-d504-7c3d15140fc2"
      },
      "execution_count": null,
      "outputs": [
        {
          "output_type": "stream",
          "name": "stdout",
          "text": [
            "42\n",
            "-918179944284408595\n",
            "529344067295497451\n"
          ]
        }
      ]
    },
    {
      "cell_type": "code",
      "source": [
        "#help()-->pass the name of a function, class, module, or any object to get information about it.\n",
        "import math\n",
        "#help(math)"
      ],
      "metadata": {
        "id": "nyBTmlRwGFVR"
      },
      "execution_count": null,
      "outputs": []
    },
    {
      "cell_type": "code",
      "source": [
        "# id()--> returns a unique identifier (an integer) for an object\n",
        "x = 42\n",
        "print(id(x))  # Output: An integer representing the memory address of the integer object 42\n"
      ],
      "metadata": {
        "colab": {
          "base_uri": "https://localhost:8080/"
        },
        "id": "hyjUAWrBGdMp",
        "outputId": "241dff56-51cd-4e36-aa07-3a4149552e8f"
      },
      "execution_count": null,
      "outputs": [
        {
          "output_type": "stream",
          "name": "stdout",
          "text": [
            "132023213229584\n"
          ]
        }
      ]
    },
    {
      "cell_type": "code",
      "source": [
        "#isinstance()-->checks if an object belongs to a certain class or type.\n",
        "isinstance(12,int)"
      ],
      "metadata": {
        "colab": {
          "base_uri": "https://localhost:8080/"
        },
        "id": "O5RooCx-G9gv",
        "outputId": "0624fa32-c28d-43fa-d9ad-bd73d36ff08f"
      },
      "execution_count": null,
      "outputs": [
        {
          "output_type": "execute_result",
          "data": {
            "text/plain": [
              "True"
            ]
          },
          "metadata": {},
          "execution_count": 13
        }
      ]
    },
    {
      "cell_type": "code",
      "source": [
        "#issubclass()--> checks if a class is a subclass of another class.\n",
        "class Parent:\n",
        "    pass\n",
        "\n",
        "class Child(Parent):\n",
        "    pass\n",
        "\n",
        "print(issubclass(Child, Parent))  # Output: True, as Child is a subclass of Parent\n"
      ],
      "metadata": {
        "colab": {
          "base_uri": "https://localhost:8080/"
        },
        "id": "qM97U9aMHN0N",
        "outputId": "ea33e078-8495-4a1e-ce4f-4f09d09b2520"
      },
      "execution_count": null,
      "outputs": [
        {
          "output_type": "stream",
          "name": "stdout",
          "text": [
            "True\n"
          ]
        }
      ]
    },
    {
      "cell_type": "code",
      "source": [
        "#map()-->map() applies a function to each item of an iterable and returns an iterator containing the results.\n",
        "# Doubling each element in a list using map()\n",
        "nums = [1, 2, 3, 4, 5]\n",
        "doubled_nums = map(lambda x: x * 2, nums)\n",
        "print(list(doubled_nums))  # Output: [2, 4, 6, 8, 10]\n",
        "\n",
        "# User-defined function\n",
        "def square_number(x):\n",
        "    return x ** 2\n",
        "\n",
        "# Applying the function to a list using map()\n",
        "num1 = [1, 2, 3, 4, 5]\n",
        "squared_numbers = list(map(square_number, num1))\n",
        "print(squared_numbers)  # Output: [1, 4, 9, 16, 25]\n",
        "\n"
      ],
      "metadata": {
        "colab": {
          "base_uri": "https://localhost:8080/"
        },
        "id": "zOYzUDjVKPM_",
        "outputId": "efb2a361-5b9e-4bda-f4e7-828c1c112532"
      },
      "execution_count": null,
      "outputs": [
        {
          "output_type": "stream",
          "name": "stdout",
          "text": [
            "[2, 4, 6, 8, 10]\n",
            "[1, 4, 9, 16, 25]\n"
          ]
        }
      ]
    },
    {
      "cell_type": "code",
      "source": [
        "#man()-->finds max of iterables, args and key args. same with min()\n",
        "print(max([1,2,3,4,5]))\n",
        "print(max(1, 2))\n",
        "print(max([\"apple\", \"banana\", \"orange\", \"kiwi\"], key=len))"
      ],
      "metadata": {
        "colab": {
          "base_uri": "https://localhost:8080/"
        },
        "id": "CewtktRabAHj",
        "outputId": "8864ef37-e79d-46d2-8044-1477a799a1d0"
      },
      "execution_count": null,
      "outputs": [
        {
          "output_type": "stream",
          "name": "stdout",
          "text": [
            "5\n",
            "2\n",
            "banana\n"
          ]
        }
      ]
    },
    {
      "cell_type": "code",
      "source": [
        "# memoryview()-->  provides a memory view object that exposes an underlying array's buffer interface.\n",
        "# It allows Python code to access the internal data of an object that supports the buffer protocol without making a copy.\n",
        "#slicing and copy() make new copy\n",
        "\n",
        "data = b'Hello, World!' # byte obj\n",
        "mem_view = memoryview(data) # memoryview obj\n",
        "\n",
        "# Accessing the elements in the memoryview obj\n",
        "print(mem_view[0])  # Output: 72 (the ASCII value of 'H')\n",
        "print(mem_view[1])  # Output: 101 (the ASCII value of 'e')\n"
      ],
      "metadata": {
        "id": "IHYqwqtEcQoc"
      },
      "execution_count": null,
      "outputs": []
    },
    {
      "cell_type": "code",
      "source": [
        "# In Python, certain data types and objects do not allow direct access to their internal data without creating copies.\n",
        "# When direct access is not supported, attempting to interact with the internal memory directly would result in the creation\n",
        "# of a new copy of the data.For instance, some objects like strings, tuples, and other immutable data types in Python do not\n",
        "# support the buffer protocol. If you try to access their internal memory using a mechanism like memoryview, Python will not\n",
        "#  allow direct access; instead, it will create a copy of the data that you can then manipulate."
      ],
      "metadata": {
        "id": "H10naIdzf4_H"
      },
      "execution_count": null,
      "outputs": []
    },
    {
      "cell_type": "code",
      "source": [
        "# The buffer protocol in Python is a mechanism that defines a standard way for objects to expose their\n",
        "#  internal data buffers to other Python objects. It enables efficient sharing and manipulation of data\n",
        "#   between objects without unnecessary data copying.\n",
        "\n",
        "# Objects that support the buffer protocol provide a standardized interface to access their internal memory\n",
        "#  buffers, allowing other objects or APIs to interact with the data directly. This protocol is crucial for\n",
        "#   scenarios where direct access to memory is required, especially when dealing with large datasets or when\n",
        "#  performance is critical."
      ],
      "metadata": {
        "id": "6MuRXn_ygkuY"
      },
      "execution_count": null,
      "outputs": []
    },
    {
      "cell_type": "code",
      "source": [
        "#object()--> returns a new featureless object. It's at the top of the Python object hierarchy and parent class for all subclasses.\n",
        "class MyClass(object):  # The same as class MyClass:\n",
        "    pass\n",
        "\n",
        "# Using MyClass\n",
        "obj = MyClass()\n"
      ],
      "metadata": {
        "id": "Je3RJk8Qjk9Y"
      },
      "execution_count": null,
      "outputs": []
    },
    {
      "cell_type": "markdown",
      "source": [
        "# **Pandas**"
      ],
      "metadata": {
        "id": "DgrzYhcwBxq2"
      }
    },
    {
      "cell_type": "code",
      "source": [
        "#open()-->  opens files for handling file operations(read, write and append).\n",
        "# Opening a file in read mode\n",
        "import pandas as pd\n",
        "path = '/content/drive/MyDrive/Dataset/data1.csv'\n",
        "f=pd.read_csv(path)\n",
        "f.head(5)\n"
      ],
      "metadata": {
        "colab": {
          "base_uri": "https://localhost:8080/",
          "height": 206
        },
        "id": "hld107sck1Lz",
        "outputId": "fb0abf3b-b0b3-480a-ec6c-3802f3184bc8"
      },
      "execution_count": null,
      "outputs": [
        {
          "output_type": "execute_result",
          "data": {
            "text/plain": [
              "   id  Name  Age Sec\n",
              "0   1   Ram   25   M\n",
              "1   2   Sam   23   M\n",
              "2   3    Jo   24   M\n",
              "3   4    Li   34   M\n",
              "4   5  Hari   35   M"
            ],
            "text/html": [
              "\n",
              "  <div id=\"df-9999e77c-8d0a-43e6-a55b-7c1797eb44c6\" class=\"colab-df-container\">\n",
              "    <div>\n",
              "<style scoped>\n",
              "    .dataframe tbody tr th:only-of-type {\n",
              "        vertical-align: middle;\n",
              "    }\n",
              "\n",
              "    .dataframe tbody tr th {\n",
              "        vertical-align: top;\n",
              "    }\n",
              "\n",
              "    .dataframe thead th {\n",
              "        text-align: right;\n",
              "    }\n",
              "</style>\n",
              "<table border=\"1\" class=\"dataframe\">\n",
              "  <thead>\n",
              "    <tr style=\"text-align: right;\">\n",
              "      <th></th>\n",
              "      <th>id</th>\n",
              "      <th>Name</th>\n",
              "      <th>Age</th>\n",
              "      <th>Sec</th>\n",
              "    </tr>\n",
              "  </thead>\n",
              "  <tbody>\n",
              "    <tr>\n",
              "      <th>0</th>\n",
              "      <td>1</td>\n",
              "      <td>Ram</td>\n",
              "      <td>25</td>\n",
              "      <td>M</td>\n",
              "    </tr>\n",
              "    <tr>\n",
              "      <th>1</th>\n",
              "      <td>2</td>\n",
              "      <td>Sam</td>\n",
              "      <td>23</td>\n",
              "      <td>M</td>\n",
              "    </tr>\n",
              "    <tr>\n",
              "      <th>2</th>\n",
              "      <td>3</td>\n",
              "      <td>Jo</td>\n",
              "      <td>24</td>\n",
              "      <td>M</td>\n",
              "    </tr>\n",
              "    <tr>\n",
              "      <th>3</th>\n",
              "      <td>4</td>\n",
              "      <td>Li</td>\n",
              "      <td>34</td>\n",
              "      <td>M</td>\n",
              "    </tr>\n",
              "    <tr>\n",
              "      <th>4</th>\n",
              "      <td>5</td>\n",
              "      <td>Hari</td>\n",
              "      <td>35</td>\n",
              "      <td>M</td>\n",
              "    </tr>\n",
              "  </tbody>\n",
              "</table>\n",
              "</div>\n",
              "    <div class=\"colab-df-buttons\">\n",
              "\n",
              "  <div class=\"colab-df-container\">\n",
              "    <button class=\"colab-df-convert\" onclick=\"convertToInteractive('df-9999e77c-8d0a-43e6-a55b-7c1797eb44c6')\"\n",
              "            title=\"Convert this dataframe to an interactive table.\"\n",
              "            style=\"display:none;\">\n",
              "\n",
              "  <svg xmlns=\"http://www.w3.org/2000/svg\" height=\"24px\" viewBox=\"0 -960 960 960\">\n",
              "    <path d=\"M120-120v-720h720v720H120Zm60-500h600v-160H180v160Zm220 220h160v-160H400v160Zm0 220h160v-160H400v160ZM180-400h160v-160H180v160Zm440 0h160v-160H620v160ZM180-180h160v-160H180v160Zm440 0h160v-160H620v160Z\"/>\n",
              "  </svg>\n",
              "    </button>\n",
              "\n",
              "  <style>\n",
              "    .colab-df-container {\n",
              "      display:flex;\n",
              "      gap: 12px;\n",
              "    }\n",
              "\n",
              "    .colab-df-convert {\n",
              "      background-color: #E8F0FE;\n",
              "      border: none;\n",
              "      border-radius: 50%;\n",
              "      cursor: pointer;\n",
              "      display: none;\n",
              "      fill: #1967D2;\n",
              "      height: 32px;\n",
              "      padding: 0 0 0 0;\n",
              "      width: 32px;\n",
              "    }\n",
              "\n",
              "    .colab-df-convert:hover {\n",
              "      background-color: #E2EBFA;\n",
              "      box-shadow: 0px 1px 2px rgba(60, 64, 67, 0.3), 0px 1px 3px 1px rgba(60, 64, 67, 0.15);\n",
              "      fill: #174EA6;\n",
              "    }\n",
              "\n",
              "    .colab-df-buttons div {\n",
              "      margin-bottom: 4px;\n",
              "    }\n",
              "\n",
              "    [theme=dark] .colab-df-convert {\n",
              "      background-color: #3B4455;\n",
              "      fill: #D2E3FC;\n",
              "    }\n",
              "\n",
              "    [theme=dark] .colab-df-convert:hover {\n",
              "      background-color: #434B5C;\n",
              "      box-shadow: 0px 1px 3px 1px rgba(0, 0, 0, 0.15);\n",
              "      filter: drop-shadow(0px 1px 2px rgba(0, 0, 0, 0.3));\n",
              "      fill: #FFFFFF;\n",
              "    }\n",
              "  </style>\n",
              "\n",
              "    <script>\n",
              "      const buttonEl =\n",
              "        document.querySelector('#df-9999e77c-8d0a-43e6-a55b-7c1797eb44c6 button.colab-df-convert');\n",
              "      buttonEl.style.display =\n",
              "        google.colab.kernel.accessAllowed ? 'block' : 'none';\n",
              "\n",
              "      async function convertToInteractive(key) {\n",
              "        const element = document.querySelector('#df-9999e77c-8d0a-43e6-a55b-7c1797eb44c6');\n",
              "        const dataTable =\n",
              "          await google.colab.kernel.invokeFunction('convertToInteractive',\n",
              "                                                    [key], {});\n",
              "        if (!dataTable) return;\n",
              "\n",
              "        const docLinkHtml = 'Like what you see? Visit the ' +\n",
              "          '<a target=\"_blank\" href=https://colab.research.google.com/notebooks/data_table.ipynb>data table notebook</a>'\n",
              "          + ' to learn more about interactive tables.';\n",
              "        element.innerHTML = '';\n",
              "        dataTable['output_type'] = 'display_data';\n",
              "        await google.colab.output.renderOutput(dataTable, element);\n",
              "        const docLink = document.createElement('div');\n",
              "        docLink.innerHTML = docLinkHtml;\n",
              "        element.appendChild(docLink);\n",
              "      }\n",
              "    </script>\n",
              "  </div>\n",
              "\n",
              "\n",
              "<div id=\"df-9cf62f5d-5bde-4885-a39c-47de53fafe43\">\n",
              "  <button class=\"colab-df-quickchart\" onclick=\"quickchart('df-9cf62f5d-5bde-4885-a39c-47de53fafe43')\"\n",
              "            title=\"Suggest charts\"\n",
              "            style=\"display:none;\">\n",
              "\n",
              "<svg xmlns=\"http://www.w3.org/2000/svg\" height=\"24px\"viewBox=\"0 0 24 24\"\n",
              "     width=\"24px\">\n",
              "    <g>\n",
              "        <path d=\"M19 3H5c-1.1 0-2 .9-2 2v14c0 1.1.9 2 2 2h14c1.1 0 2-.9 2-2V5c0-1.1-.9-2-2-2zM9 17H7v-7h2v7zm4 0h-2V7h2v10zm4 0h-2v-4h2v4z\"/>\n",
              "    </g>\n",
              "</svg>\n",
              "  </button>\n",
              "\n",
              "<style>\n",
              "  .colab-df-quickchart {\n",
              "      --bg-color: #E8F0FE;\n",
              "      --fill-color: #1967D2;\n",
              "      --hover-bg-color: #E2EBFA;\n",
              "      --hover-fill-color: #174EA6;\n",
              "      --disabled-fill-color: #AAA;\n",
              "      --disabled-bg-color: #DDD;\n",
              "  }\n",
              "\n",
              "  [theme=dark] .colab-df-quickchart {\n",
              "      --bg-color: #3B4455;\n",
              "      --fill-color: #D2E3FC;\n",
              "      --hover-bg-color: #434B5C;\n",
              "      --hover-fill-color: #FFFFFF;\n",
              "      --disabled-bg-color: #3B4455;\n",
              "      --disabled-fill-color: #666;\n",
              "  }\n",
              "\n",
              "  .colab-df-quickchart {\n",
              "    background-color: var(--bg-color);\n",
              "    border: none;\n",
              "    border-radius: 50%;\n",
              "    cursor: pointer;\n",
              "    display: none;\n",
              "    fill: var(--fill-color);\n",
              "    height: 32px;\n",
              "    padding: 0;\n",
              "    width: 32px;\n",
              "  }\n",
              "\n",
              "  .colab-df-quickchart:hover {\n",
              "    background-color: var(--hover-bg-color);\n",
              "    box-shadow: 0 1px 2px rgba(60, 64, 67, 0.3), 0 1px 3px 1px rgba(60, 64, 67, 0.15);\n",
              "    fill: var(--button-hover-fill-color);\n",
              "  }\n",
              "\n",
              "  .colab-df-quickchart-complete:disabled,\n",
              "  .colab-df-quickchart-complete:disabled:hover {\n",
              "    background-color: var(--disabled-bg-color);\n",
              "    fill: var(--disabled-fill-color);\n",
              "    box-shadow: none;\n",
              "  }\n",
              "\n",
              "  .colab-df-spinner {\n",
              "    border: 2px solid var(--fill-color);\n",
              "    border-color: transparent;\n",
              "    border-bottom-color: var(--fill-color);\n",
              "    animation:\n",
              "      spin 1s steps(1) infinite;\n",
              "  }\n",
              "\n",
              "  @keyframes spin {\n",
              "    0% {\n",
              "      border-color: transparent;\n",
              "      border-bottom-color: var(--fill-color);\n",
              "      border-left-color: var(--fill-color);\n",
              "    }\n",
              "    20% {\n",
              "      border-color: transparent;\n",
              "      border-left-color: var(--fill-color);\n",
              "      border-top-color: var(--fill-color);\n",
              "    }\n",
              "    30% {\n",
              "      border-color: transparent;\n",
              "      border-left-color: var(--fill-color);\n",
              "      border-top-color: var(--fill-color);\n",
              "      border-right-color: var(--fill-color);\n",
              "    }\n",
              "    40% {\n",
              "      border-color: transparent;\n",
              "      border-right-color: var(--fill-color);\n",
              "      border-top-color: var(--fill-color);\n",
              "    }\n",
              "    60% {\n",
              "      border-color: transparent;\n",
              "      border-right-color: var(--fill-color);\n",
              "    }\n",
              "    80% {\n",
              "      border-color: transparent;\n",
              "      border-right-color: var(--fill-color);\n",
              "      border-bottom-color: var(--fill-color);\n",
              "    }\n",
              "    90% {\n",
              "      border-color: transparent;\n",
              "      border-bottom-color: var(--fill-color);\n",
              "    }\n",
              "  }\n",
              "</style>\n",
              "\n",
              "  <script>\n",
              "    async function quickchart(key) {\n",
              "      const quickchartButtonEl =\n",
              "        document.querySelector('#' + key + ' button');\n",
              "      quickchartButtonEl.disabled = true;  // To prevent multiple clicks.\n",
              "      quickchartButtonEl.classList.add('colab-df-spinner');\n",
              "      try {\n",
              "        const charts = await google.colab.kernel.invokeFunction(\n",
              "            'suggestCharts', [key], {});\n",
              "      } catch (error) {\n",
              "        console.error('Error during call to suggestCharts:', error);\n",
              "      }\n",
              "      quickchartButtonEl.classList.remove('colab-df-spinner');\n",
              "      quickchartButtonEl.classList.add('colab-df-quickchart-complete');\n",
              "    }\n",
              "    (() => {\n",
              "      let quickchartButtonEl =\n",
              "        document.querySelector('#df-9cf62f5d-5bde-4885-a39c-47de53fafe43 button');\n",
              "      quickchartButtonEl.style.display =\n",
              "        google.colab.kernel.accessAllowed ? 'block' : 'none';\n",
              "    })();\n",
              "  </script>\n",
              "</div>\n",
              "\n",
              "    </div>\n",
              "  </div>\n"
            ]
          },
          "metadata": {},
          "execution_count": 23
        }
      ]
    },
    {
      "cell_type": "code",
      "source": [
        "file_path='/content/drive/MyDrive/Dataset/dsinput.txt'\n",
        "with open(file_path,'w') as f:\n",
        "    #print(f.read())\n",
        "    f.write(\"This line is appended from python\")\n"
      ],
      "metadata": {
        "id": "ZpV8mE92vSxy"
      },
      "execution_count": null,
      "outputs": []
    },
    {
      "cell_type": "code",
      "source": [
        "file_path='/content/drive/MyDrive/Dataset/dsinput.txt'\n",
        "with open(file_path,'r') as f1:\n",
        "    print(f1.read())\n"
      ],
      "metadata": {
        "colab": {
          "base_uri": "https://localhost:8080/"
        },
        "id": "3KELvSjNy9F_",
        "outputId": "490cd8eb-e70b-4e2f-d419-f6f7532f9d16"
      },
      "execution_count": null,
      "outputs": [
        {
          "output_type": "stream",
          "name": "stdout",
          "text": [
            "This line is appended from python\n"
          ]
        }
      ]
    },
    {
      "cell_type": "code",
      "source": [
        "#ord()-->ord('A') returns the ordinal value or Unicode code point of A\n",
        "ord('A')"
      ],
      "metadata": {
        "colab": {
          "base_uri": "https://localhost:8080/"
        },
        "id": "gGXuzsR1xeR9",
        "outputId": "06a4c606-880d-44fe-ad27-7963da5800e6"
      },
      "execution_count": null,
      "outputs": [
        {
          "output_type": "execute_result",
          "data": {
            "text/plain": [
              "65"
            ]
          },
          "metadata": {},
          "execution_count": 4
        }
      ]
    },
    {
      "cell_type": "code",
      "source": [
        "#pow()-->exponential\n",
        "print(pow(2, 3))\n",
        "print(pow(2, 3, 5))  # Calculates (2 ** 3) % 5"
      ],
      "metadata": {
        "colab": {
          "base_uri": "https://localhost:8080/"
        },
        "id": "kgbYMFwa14fl",
        "outputId": "a0bb5550-75be-4020-a3ad-90413d1d6241"
      },
      "execution_count": null,
      "outputs": [
        {
          "output_type": "stream",
          "name": "stdout",
          "text": [
            "8\n",
            "3\n"
          ]
        }
      ]
    },
    {
      "cell_type": "code",
      "source": [
        "#property()-->Properties are a way to control the access, modification, and\n",
        "# deletion of attributes in a class, enabling more controlled behavior than using simple attribute access.Used in getter and setter\n",
        "class MyClass:\n",
        "    def __init__(self):\n",
        "        self._x = None\n",
        "\n",
        "    def get_x(self):\n",
        "        return self._x\n",
        "\n",
        "    def set_x(self, value):\n",
        "        self._x = value\n",
        "\n",
        "    x = property(get_x, set_x)\n",
        "\n"
      ],
      "metadata": {
        "id": "-rwC8EBG256J"
      },
      "execution_count": null,
      "outputs": []
    },
    {
      "cell_type": "code",
      "source": [
        "# property with decorator\n",
        "class MyClass:\n",
        "    def __init__(self):\n",
        "        self._x = None\n",
        "\n",
        "    @property\n",
        "    def x(self):\n",
        "        return self._x\n",
        "\n",
        "    @x.setter\n",
        "    def x(self, value):\n",
        "        self._x = value\n",
        "\n"
      ],
      "metadata": {
        "id": "fFSbu6F53eIQ"
      },
      "execution_count": null,
      "outputs": []
    },
    {
      "cell_type": "code",
      "source": [
        "# Getter and Setter in Py\n",
        "class MyClass:\n",
        "    def __init__(self):\n",
        "        self._x = None\n",
        "\n",
        "    # Getter method for the property\n",
        "    @property\n",
        "    def x(self):\n",
        "        return self._x\n",
        "\n",
        "    # Setter method for the property\n",
        "    @x.setter\n",
        "    def x(self, value):\n",
        "        if value < 0:\n",
        "            raise ValueError(\"Value must be positive.\")\n",
        "        self._x = value\n",
        "\n",
        "# Creating an instance of the class\n",
        "obj = MyClass()\n",
        "\n",
        "# Setting the property using the setter method\n",
        "obj.x = 10\n",
        "print(obj.x)  # Output: 10\n",
        "\n",
        "# Trying to set an invalid value (less than 0)\n",
        "try:\n",
        "    obj.x = -5  # This will raise a ValueError\n",
        "except ValueError as e:\n",
        "    print(e)\n"
      ],
      "metadata": {
        "colab": {
          "base_uri": "https://localhost:8080/"
        },
        "id": "pHO37xs_FkMv",
        "outputId": "da382795-67d4-40ec-cd68-ded0370506f6"
      },
      "execution_count": null,
      "outputs": [
        {
          "output_type": "stream",
          "name": "stdout",
          "text": [
            "10\n",
            "Value must be positive.\n"
          ]
        }
      ]
    },
    {
      "cell_type": "code",
      "source": [
        "#repr()-->  used to obtain the string representation of an object for debugging purpose.\n",
        "x = 10\n",
        "r=repr(x)\n",
        "print(r) # string '10'\n",
        "print(eval(r)) # int 10\n",
        "\n",
        "y = [1, 2, 3]\n",
        "print(repr(y))  # Output: '[1, 2, 3]'\n"
      ],
      "metadata": {
        "colab": {
          "base_uri": "https://localhost:8080/"
        },
        "id": "p4yiCR_s4U3d",
        "outputId": "fd35226d-7c11-4096-977c-b4cd7cfa1c74"
      },
      "execution_count": null,
      "outputs": [
        {
          "output_type": "stream",
          "name": "stdout",
          "text": [
            "10\n",
            "10\n",
            "[1, 2, 3]\n"
          ]
        }
      ]
    },
    {
      "cell_type": "code",
      "source": [
        "#reversed()--> returns a reverse iterator\n",
        "print(list(reversed([1,2,3,4,5])))\n",
        "print(''.join(reversed('pushpa')))\n",
        "print(tuple(reversed('pushpa')))\n"
      ],
      "metadata": {
        "colab": {
          "base_uri": "https://localhost:8080/"
        },
        "id": "3ZvOi80B-yQc",
        "outputId": "06400002-d2e7-46cf-9a3d-5c91e6cfd1d1"
      },
      "execution_count": null,
      "outputs": [
        {
          "output_type": "stream",
          "name": "stdout",
          "text": [
            "[5, 4, 3, 2, 1]\n",
            "aphsup\n",
            "('a', 'p', 'h', 's', 'u', 'p')\n"
          ]
        }
      ]
    },
    {
      "cell_type": "code",
      "source": [
        "#setattr()-->  sets the value of an attribute on an object.\n",
        "class Person:\n",
        "    pass\n",
        "\n",
        "obj = Person()\n",
        "\n",
        "# Setting attributes using setattr()\n",
        "setattr(obj, 'name', 'Pushpa')\n",
        "setattr(obj, 'age', 33)\n",
        "\n",
        "# Accessing the attributes\n",
        "print(obj.name)\n",
        "print(obj.age)\n"
      ],
      "metadata": {
        "colab": {
          "base_uri": "https://localhost:8080/"
        },
        "id": "V2dxdeptODn2",
        "outputId": "ccf8711d-6be5-45c6-99c0-898651838332"
      },
      "execution_count": null,
      "outputs": [
        {
          "output_type": "stream",
          "name": "stdout",
          "text": [
            "Pushpa\n",
            "33\n"
          ]
        }
      ]
    },
    {
      "cell_type": "code",
      "source": [
        "#slice()-->does slicing\n",
        "my_list = [1, 2, 3, 4, 5]\n",
        "\n",
        "# Using slice() to create a slice object\n",
        "my_slice = slice(2, 4)  # Creates a slice object from index 2 to index 4 (exclusive)\n",
        "\n",
        "# Using the slice object to extract elements from the list\n",
        "result = my_list[my_slice]\n",
        "print(result)  # Output: [3, 4]\n"
      ],
      "metadata": {
        "id": "cdoIsz65Sga0"
      },
      "execution_count": null,
      "outputs": []
    },
    {
      "cell_type": "code",
      "source": [
        "#sorted()-->  sorts the iterable obj keeping the original obj unchanged.\n",
        "print(sorted([1,3,2,5,4]))\n",
        "sorted('pushpa', reverse=True)"
      ],
      "metadata": {
        "colab": {
          "base_uri": "https://localhost:8080/"
        },
        "id": "UBGXNkQ7hiWi",
        "outputId": "0f4c05a5-d94f-40dd-a6cb-f27f8583b3fc"
      },
      "execution_count": null,
      "outputs": [
        {
          "output_type": "stream",
          "name": "stdout",
          "text": [
            "[1, 2, 3, 4, 5]\n"
          ]
        },
        {
          "output_type": "execute_result",
          "data": {
            "text/plain": [
              "['u', 's', 'p', 'p', 'h', 'a']"
            ]
          },
          "metadata": {},
          "execution_count": 29
        }
      ]
    },
    {
      "cell_type": "code",
      "source": [
        "#staticmethod() -->returns a static method from a function defined within a class.\n",
        "class MyClass:\n",
        "    @staticmethod\n",
        "    def static_method():\n",
        "        return \"This is a static method.\"\n",
        "\n",
        "# Calling the static method without an instance of the class\n",
        "MyClass.static_method()"
      ],
      "metadata": {
        "colab": {
          "base_uri": "https://localhost:8080/",
          "height": 36
        },
        "id": "B-JOyyJ3zB9v",
        "outputId": "926a9605-2b61-4ade-9c9a-79a1954a29dd"
      },
      "execution_count": null,
      "outputs": [
        {
          "output_type": "execute_result",
          "data": {
            "text/plain": [
              "'This is a static method.'"
            ],
            "application/vnd.google.colaboratory.intrinsic+json": {
              "type": "string"
            }
          },
          "metadata": {},
          "execution_count": 31
        }
      ]
    },
    {
      "cell_type": "code",
      "source": [
        "class MyClass:\n",
        "    def __init__(self, value):\n",
        "        self.value = value\n",
        "\n",
        "    def instance_method(self):\n",
        "        return f\"This is an instance method. Value: {self.value}\"\n",
        "\n",
        "# Creating an instance of the class\n",
        "obj = MyClass(10)\n",
        "\n",
        "# Calling an instance method using the instance\n",
        "obj.instance_method()"
      ],
      "metadata": {
        "colab": {
          "base_uri": "https://localhost:8080/",
          "height": 36
        },
        "id": "Pn0pNaUkzfd1",
        "outputId": "06bd94eb-289c-4c78-b41e-e68e285d5408"
      },
      "execution_count": null,
      "outputs": [
        {
          "output_type": "execute_result",
          "data": {
            "text/plain": [
              "'This is an instance method. Value: 10'"
            ],
            "application/vnd.google.colaboratory.intrinsic+json": {
              "type": "string"
            }
          },
          "metadata": {},
          "execution_count": 32
        }
      ]
    },
    {
      "cell_type": "code",
      "source": [
        "#str()\n",
        "name = 'John'\n",
        "age = 30\n",
        "info = 'Name: ' + name + ', Age: ' + str(age)\n",
        "print(info)  # Output: 'Name: John, Age: 30'\n"
      ],
      "metadata": {
        "colab": {
          "base_uri": "https://localhost:8080/"
        },
        "id": "qRapPzHo0q7Q",
        "outputId": "069bbebf-da5a-44e0-8605-496901086861"
      },
      "execution_count": null,
      "outputs": [
        {
          "output_type": "stream",
          "name": "stdout",
          "text": [
            "Name: John, Age: 30\n"
          ]
        }
      ]
    },
    {
      "cell_type": "code",
      "source": [
        "#sum()--> sums the elements of iterable obj\n",
        "my_list = [1, 2, 3, 4, 5]\n",
        "total = sum(my_list)\n",
        "print(total)\n"
      ],
      "metadata": {
        "colab": {
          "base_uri": "https://localhost:8080/"
        },
        "id": "-85b4iyG05GG",
        "outputId": "7b6aab3b-d218-41ca-bc67-953b066dc007"
      },
      "execution_count": null,
      "outputs": [
        {
          "output_type": "stream",
          "name": "stdout",
          "text": [
            "15\n"
          ]
        }
      ]
    },
    {
      "cell_type": "code",
      "source": [
        "#super()-->allows you to call methods from a parent class in a subclass.\n",
        "class ParentClass:\n",
        "    def __init__(self, value):\n",
        "        self.value = value\n",
        "    def show_value(self):\n",
        "        print(f\"Value from ParentClass: {self.value}\")\n",
        "\n",
        "class ChildClass(ParentClass):\n",
        "    def __init__(self, value, extra):\n",
        "        super().__init__(value)\n",
        "        self.extra = extra\n",
        "    def show_value(self):\n",
        "        super().show_value()  # Calling the show_value method from the ParentClass\n",
        "        print(f\"Extra value: {self.extra}\")\n",
        "\n",
        "# Creating an instance of the ChildClass\n",
        "child_obj = ChildClass(10, \"Extra Info\")\n",
        "# Calling methods from the ChildClass\n",
        "child_obj.show_value()\n"
      ],
      "metadata": {
        "colab": {
          "base_uri": "https://localhost:8080/"
        },
        "id": "1sPZfCIF1joc",
        "outputId": "5f4ca2ec-2d7e-4f83-c22e-91702f13a0db"
      },
      "execution_count": null,
      "outputs": [
        {
          "output_type": "stream",
          "name": "stdout",
          "text": [
            "Value from ParentClass: 10\n",
            "Extra value: Extra Info\n"
          ]
        }
      ]
    },
    {
      "cell_type": "code",
      "source": [
        "#vars() -->returns the __dict__ attribute of an object\n",
        "class MyClass:\n",
        "    def __init__(self, x, y):\n",
        "        self.x = x\n",
        "        self.y = y\n",
        "\n",
        "obj = MyClass(5, 10)\n",
        "\n",
        "# Retrieving the attributes of the object using vars()\n",
        "obj_attributes = vars(obj)\n",
        "print(obj_attributes)  # Output: {'x': 5, 'y': 10}\n"
      ],
      "metadata": {
        "colab": {
          "base_uri": "https://localhost:8080/"
        },
        "id": "72LGIN2G2uVV",
        "outputId": "73529f5a-2ca3-4bc4-bf3c-e61f96eafad7"
      },
      "execution_count": null,
      "outputs": [
        {
          "output_type": "stream",
          "name": "stdout",
          "text": [
            "{'x': 5, 'y': 10}\n"
          ]
        }
      ]
    },
    {
      "cell_type": "code",
      "source": [
        "# __import__()-->allows dynamic module import based on strings or variables.\n",
        "module_name = 'math'\n",
        "math_module = __import__(module_name)\n",
        "\n",
        "# Accessing attributes/functions from the imported module\n",
        "print(math_module.sqrt(16))\n"
      ],
      "metadata": {
        "colab": {
          "base_uri": "https://localhost:8080/"
        },
        "id": "VC44j8_f3Iry",
        "outputId": "f750d39c-0a6d-422e-91c5-87a79a0a452e"
      },
      "execution_count": null,
      "outputs": [
        {
          "output_type": "stream",
          "name": "stdout",
          "text": [
            "4.0\n"
          ]
        }
      ]
    },
    {
      "cell_type": "code",
      "source": [
        "import os\n",
        "print(os.getcwd())"
      ],
      "metadata": {
        "colab": {
          "base_uri": "https://localhost:8080/"
        },
        "id": "keFparmLnjdM",
        "outputId": "d36595c0-eb27-4dcc-f16e-751f11bfa1d6"
      },
      "execution_count": null,
      "outputs": [
        {
          "output_type": "stream",
          "name": "stdout",
          "text": [
            "/content\n"
          ]
        }
      ]
    },
    {
      "cell_type": "code",
      "source": [
        "#PY USER DEFINED FUNCTION\n",
        "def calc(a,b,c):\n",
        "    result=c*(a + b)-a*b/c\n",
        "    return result\n",
        "calc(5,2,2)"
      ],
      "metadata": {
        "colab": {
          "base_uri": "https://localhost:8080/"
        },
        "id": "1In4al-YtML_",
        "outputId": "2c4cab06-22f4-4290-f818-8bb8248665c1"
      },
      "execution_count": null,
      "outputs": [
        {
          "output_type": "execute_result",
          "data": {
            "text/plain": [
              "9.0"
            ]
          },
          "metadata": {},
          "execution_count": 27
        }
      ]
    },
    {
      "cell_type": "code",
      "source": [
        "def calc1(a,b,c):\n",
        "    r1=(a+b+c)\n",
        "    r2=(a-b-b)\n",
        "    r3=(a*b*c)\n",
        "    r4=(a/b/c)\n",
        "    return {'r1':r1,'r2':r2,'r3':r3,'r4':r4}\n",
        "calc1(5,3,2)"
      ],
      "metadata": {
        "colab": {
          "base_uri": "https://localhost:8080/"
        },
        "id": "14GChwWuwc6p",
        "outputId": "788a5087-831c-4eff-e061-a4e66bb9f5ae"
      },
      "execution_count": null,
      "outputs": [
        {
          "output_type": "execute_result",
          "data": {
            "text/plain": [
              "{'r1': 10, 'r2': -1, 'r3': 30, 'r4': 0.8333333333333334}"
            ]
          },
          "metadata": {},
          "execution_count": 34
        }
      ]
    },
    {
      "cell_type": "code",
      "source": [
        "def draw_rectangle(w,l):\n",
        "    for i in range(w):\n",
        "        for j in range(l):\n",
        "            print('*', end=' ')\n",
        "        print('')\n",
        "draw_rectangle(5,10)\n",
        "\n"
      ],
      "metadata": {
        "colab": {
          "base_uri": "https://localhost:8080/"
        },
        "id": "MGX4E3Vszdce",
        "outputId": "15a87530-1698-4f02-ce79-e69d8b76f92a"
      },
      "execution_count": null,
      "outputs": [
        {
          "output_type": "stream",
          "name": "stdout",
          "text": [
            "* * * * * * * * * * \n",
            "* * * * * * * * * * \n",
            "* * * * * * * * * * \n",
            "* * * * * * * * * * \n",
            "* * * * * * * * * * \n"
          ]
        }
      ]
    },
    {
      "cell_type": "code",
      "source": [
        "def draw_triangle(l):\n",
        "    for i in range(l):\n",
        "        for j in range(i):\n",
        "            print('*', end=' ')\n",
        "        print('')\n",
        "draw_triangle(10)"
      ],
      "metadata": {
        "colab": {
          "base_uri": "https://localhost:8080/"
        },
        "id": "BovBFRV41Hul",
        "outputId": "09228320-f4eb-4b87-eb16-3696811b6b1c"
      },
      "execution_count": null,
      "outputs": [
        {
          "output_type": "stream",
          "name": "stdout",
          "text": [
            "\n",
            "* \n",
            "* * \n",
            "* * * \n",
            "* * * * \n",
            "* * * * * \n",
            "* * * * * * \n",
            "* * * * * * * \n",
            "* * * * * * * * \n",
            "* * * * * * * * * \n"
          ]
        }
      ]
    },
    {
      "cell_type": "code",
      "source": [
        "def draw_pyramid(l):\n",
        "    for i in range(10):\n",
        "        for j in range(10-i):\n",
        "            print('',end=' ' )# for i=0, it prints 10 ''\n",
        "        k=0\n",
        "        for k in range(i+1):# for i=0, it prints 1 '*'\n",
        "            print('*' ,end=' ' )\n",
        "        print('')\n",
        "draw_pyramid(10)"
      ],
      "metadata": {
        "colab": {
          "base_uri": "https://localhost:8080/"
        },
        "id": "FPbSNNJv2EdP",
        "outputId": "d2cc24b5-6c3d-44b2-9ae3-0ec7e18f32d8"
      },
      "execution_count": null,
      "outputs": [
        {
          "output_type": "stream",
          "name": "stdout",
          "text": [
            "          * \n",
            "         * * \n",
            "        * * * \n",
            "       * * * * \n",
            "      * * * * * \n",
            "     * * * * * * \n",
            "    * * * * * * * \n",
            "   * * * * * * * * \n",
            "  * * * * * * * * * \n",
            " * * * * * * * * * * \n"
          ]
        }
      ]
    },
    {
      "cell_type": "code",
      "source": [
        "def odd_even(a):\n",
        "    if a%2==0:\n",
        "        print('The number',a,'is even')\n",
        "    else:\n",
        "        print('The number', a, 'is odd')\n",
        "odd_even(10)"
      ],
      "metadata": {
        "colab": {
          "base_uri": "https://localhost:8080/"
        },
        "id": "ZhvXWB0w4B3w",
        "outputId": "2eb0a920-dcf9-4f8e-d885-707348cd4597"
      },
      "execution_count": null,
      "outputs": [
        {
          "output_type": "stream",
          "name": "stdout",
          "text": [
            "The number 10 is even\n"
          ]
        }
      ]
    },
    {
      "cell_type": "code",
      "source": [
        "def eval_grade(n):\n",
        "    if n>=85:\n",
        "        print('You passed with First Class Distinction.')\n",
        "    elif n>=60:\n",
        "        print('You passed with First Class.')\n",
        "    elif n>=40:\n",
        "        print('You passed with Second Class.')\n",
        "    elif n>=35:\n",
        "        print('You passed with Third Class.')\n",
        "    else:\n",
        "        print('Sorry! You failed. Better luck next time!!')\n",
        "eval_grade(87)\n"
      ],
      "metadata": {
        "colab": {
          "base_uri": "https://localhost:8080/"
        },
        "id": "N3ch0q3o4ezU",
        "outputId": "5abeda0c-e59b-41e2-82aa-c495160a10dd"
      },
      "execution_count": null,
      "outputs": [
        {
          "output_type": "stream",
          "name": "stdout",
          "text": [
            "You passed with First Class Distinction.\n"
          ]
        }
      ]
    },
    {
      "cell_type": "code",
      "source": [
        "def eval_student(p):\n",
        "    d1={'Aam': 56, 'Bam': 67, 'Cam': 78, 'Dam': 89, 'Eam': 90, 'Fam': 91, 'Gam': 34, 'Ham': 32, 'Iam': 33, 'Jam': 54, 'Kam':57}\n",
        "    for k in d1:\n",
        "        if p==k:\n",
        "            print(k,'has got',d1[k],'percentage')\n",
        "        else:\n",
        "            break\n",
        "eval_student('Aam')"
      ],
      "metadata": {
        "colab": {
          "base_uri": "https://localhost:8080/"
        },
        "id": "305_kzdT-MZJ",
        "outputId": "b3ce994e-4af4-4642-a210-1b528737d4d9"
      },
      "execution_count": null,
      "outputs": [
        {
          "output_type": "stream",
          "name": "stdout",
          "text": [
            "Aam has got 56 percentage\n"
          ]
        }
      ]
    },
    {
      "cell_type": "code",
      "source": [
        "def eval_student(k):\n",
        "    d1={'Aam': 56, 'Bam': 67, 'Cam': 78, 'Dam': 89, 'Eam': 90, 'Fam': 91, 'Gam': 34, 'Ham': 32, 'Iam': 33, 'Jam': 54, 'Kam':57}\n",
        "    for k in d1:\n",
        "        if k==d1[k]:\n",
        "            if d1[k]>=85:\n",
        "                print('You passed with First Class Distinction.')\n",
        "            elif d1[k]>=60:\n",
        "                print('You passed with First Class.')\n",
        "            elif d1[k]>=40:\n",
        "                print('You passed with Second Class.')\n",
        "            elif d1[k]>=35:\n",
        "                print('You passed with Third Class.')\n",
        "            else:\n",
        "                print('Sorry! You failed. Better luck next time!!')\n",
        "        else:\n",
        "            break\n",
        "eval_student('Aam')\n"
      ],
      "metadata": {
        "id": "X41JqdvOAi-o"
      },
      "execution_count": null,
      "outputs": []
    },
    {
      "cell_type": "code",
      "source": [
        "def any_arg(*args):\n",
        "    return args\n",
        "any_arg(10)\n",
        "any_arg(10,20)\n",
        "any_arg(10,20,30)\n",
        "any_arg(10,20,30,40)\n"
      ],
      "metadata": {
        "colab": {
          "base_uri": "https://localhost:8080/"
        },
        "id": "5lUwzeI3B4ca",
        "outputId": "8afb9bd4-263f-4693-9ba4-f8379e9f8fbd"
      },
      "execution_count": null,
      "outputs": [
        {
          "output_type": "execute_result",
          "data": {
            "text/plain": [
              "(10, 20, 30, 40)"
            ]
          },
          "metadata": {},
          "execution_count": 54
        }
      ]
    },
    {
      "cell_type": "code",
      "source": [
        "def any_name(*names):\n",
        "    return names\n",
        "print('Pushpa')\n",
        "print('Pushpa','Rosie')\n",
        "print('Pushpa','Rosie','Madan')\n",
        "print('Pushpa','Rosie','Madan','Dhana',\"Deepa\")"
      ],
      "metadata": {
        "colab": {
          "base_uri": "https://localhost:8080/"
        },
        "id": "KhnA-ijfCkbb",
        "outputId": "480ce13e-51a6-4c45-a520-8d4ff779d6b2"
      },
      "execution_count": null,
      "outputs": [
        {
          "output_type": "stream",
          "name": "stdout",
          "text": [
            "Pushpa\n",
            "Pushpa Rosie\n",
            "Pushpa Rosie Madan\n",
            "Pushpa Rosie Madan Dhana Deepa\n"
          ]
        }
      ]
    },
    {
      "cell_type": "code",
      "source": [
        "def my_args1(*pushpa):\n",
        "    return pushpa\n",
        "my_args1(12,-45.56,12+23j,True,False,'Python',[1,2,3],(12,23,34),{1,2,3,4},{'a':'apple','b':'ball','c':'cat'})"
      ],
      "metadata": {
        "colab": {
          "base_uri": "https://localhost:8080/"
        },
        "id": "LgjSKs7P4uFc",
        "outputId": "be06fadc-2269-4633-dfa0-3bb5265f2cf2"
      },
      "execution_count": null,
      "outputs": [
        {
          "output_type": "execute_result",
          "data": {
            "text/plain": [
              "(12,\n",
              " -45.56,\n",
              " (12+23j),\n",
              " True,\n",
              " False,\n",
              " 'Python',\n",
              " [1, 2, 3],\n",
              " (12, 23, 34),\n",
              " {1, 2, 3, 4},\n",
              " {'a': 'apple', 'b': 'ball', 'c': 'cat'})"
            ]
          },
          "metadata": {},
          "execution_count": 34
        }
      ]
    },
    {
      "cell_type": "code",
      "source": [
        "def any_kwarg(**kwargs):\n",
        "    return kwargs\n",
        "print(any_kwarg(fname='Pushpa', mname='', lname='Shrestha'))\n",
        "print(any_kwarg(Aam=56, Bam=67, Cam=78, Dam=89, Eam=90, Fam=91, Gam=34, Ham=32, Iam=33, Jam=54, Kam=57))\n",
        "\n"
      ],
      "metadata": {
        "colab": {
          "base_uri": "https://localhost:8080/"
        },
        "id": "9chorMCIE4Gg",
        "outputId": "92593b33-6e5d-4b6d-9946-927f80a413fc"
      },
      "execution_count": null,
      "outputs": [
        {
          "output_type": "stream",
          "name": "stdout",
          "text": [
            "{'fname': 'Pushpa', 'mname': '', 'lname': 'Shrestha'}\n",
            "{'Aam': 56, 'Bam': 67, 'Cam': 78, 'Dam': 89, 'Eam': 90, 'Fam': 91, 'Gam': 34, 'Ham': 32, 'Iam': 33, 'Jam': 54, 'Kam': 57}\n"
          ]
        }
      ]
    },
    {
      "cell_type": "code",
      "source": [
        "def any_kwarg1(**kwargs):\n",
        "    return kwargs\n",
        "print(any_kwarg1(fname='Pushpa', mname='None', lname='Shrestha',age='30',sex='male'))\n",
        "print(any_kwarg1(a=50, b=60, c=70, d=80, e=90, f=00, g=10, h=20, i=30, j=40, k=50))"
      ],
      "metadata": {
        "colab": {
          "base_uri": "https://localhost:8080/"
        },
        "id": "Nz-wwpOl7Kah",
        "outputId": "1b99fe3c-2ad9-407a-ad80-242dc1784c0f"
      },
      "execution_count": null,
      "outputs": [
        {
          "output_type": "stream",
          "name": "stdout",
          "text": [
            "{'fname': 'Pushpa', 'mname': 'None', 'lname': 'Shrestha', 'age': '30', 'sex': 'male'}\n",
            "{'a': 50, 'b': 60, 'c': 70, 'd': 80, 'e': 90, 'f': 0, 'g': 10, 'h': 20, 'i': 30, 'j': 40, 'k': 50}\n"
          ]
        }
      ]
    },
    {
      "cell_type": "code",
      "source": [
        "def my_new_arg_func(apple, banana, cherries, *animals, **kwargs):\n",
        "    return apple, banana, cherries, animals, kwargs\n",
        "my_new_arg_func('greenapple','yellowbanana','redcherries','app','bat','cat','dog', a= 12,\n",
        "b= -23,\n",
        "c= 34.45,\n",
        "d= -45.56,\n",
        "e= (12+23j),\n",
        "f= (-32-43j),\n",
        "g= True,\n",
        "h= False,\n",
        "i= 'Python',\n",
        "j= 'programming')\n",
        "\n"
      ],
      "metadata": {
        "colab": {
          "base_uri": "https://localhost:8080/"
        },
        "id": "RVZ8GgE49eX8",
        "outputId": "99092fa7-1cff-4743-99f4-83ef31b03c9e"
      },
      "execution_count": null,
      "outputs": [
        {
          "output_type": "execute_result",
          "data": {
            "text/plain": [
              "('greenapple',\n",
              " 'yellowbanana',\n",
              " 'redcherries',\n",
              " ('app', 'bat', 'cat', 'dog'),\n",
              " {'a': 12,\n",
              "  'b': -23,\n",
              "  'c': 34.45,\n",
              "  'd': -45.56,\n",
              "  'e': (12+23j),\n",
              "  'f': (-32-43j),\n",
              "  'g': True,\n",
              "  'h': False,\n",
              "  'i': 'Python',\n",
              "  'j': 'programming'})"
            ]
          },
          "metadata": {},
          "execution_count": 48
        }
      ]
    },
    {
      "cell_type": "code",
      "source": [
        "def my_new_arg_func(apple,  *dates, banana, cherries, **kiwis):\n",
        "    return apple, banana, cherries, dates, kiwis\n",
        "my_new_arg_func('greenapple','apple','ball','cat','dog','yellowbanana','redcherries', a= 12,\n",
        "b= -23,\n",
        "c= 34.45,\n",
        "d= -45.56,\n",
        "e= (12+23j),\n",
        "f= (-32-43j),\n",
        "g= True,\n",
        "h= False,\n",
        "i= 'Python',\n",
        "j= 'programming')"
      ],
      "metadata": {
        "colab": {
          "base_uri": "https://localhost:8080/",
          "height": 251
        },
        "id": "U1EXEej8BsxC",
        "outputId": "b9d04578-3abc-45c0-e2ff-ba553fdf71e2"
      },
      "execution_count": null,
      "outputs": [
        {
          "output_type": "error",
          "ename": "TypeError",
          "evalue": "ignored",
          "traceback": [
            "\u001b[0;31m---------------------------------------------------------------------------\u001b[0m",
            "\u001b[0;31mTypeError\u001b[0m                                 Traceback (most recent call last)",
            "\u001b[0;32m<ipython-input-46-167f4eed2bbe>\u001b[0m in \u001b[0;36m<cell line: 3>\u001b[0;34m()\u001b[0m\n\u001b[1;32m      1\u001b[0m \u001b[0;32mdef\u001b[0m \u001b[0mmy_new_arg_func\u001b[0m\u001b[0;34m(\u001b[0m\u001b[0mapple\u001b[0m\u001b[0;34m,\u001b[0m  \u001b[0;34m*\u001b[0m\u001b[0mdates\u001b[0m\u001b[0;34m,\u001b[0m\u001b[0mbanana\u001b[0m\u001b[0;34m,\u001b[0m \u001b[0mcherries\u001b[0m\u001b[0;34m,\u001b[0m \u001b[0;34m**\u001b[0m\u001b[0mkiwis\u001b[0m\u001b[0;34m)\u001b[0m\u001b[0;34m:\u001b[0m\u001b[0;34m\u001b[0m\u001b[0;34m\u001b[0m\u001b[0m\n\u001b[1;32m      2\u001b[0m     \u001b[0;32mreturn\u001b[0m \u001b[0mapple\u001b[0m\u001b[0;34m,\u001b[0m \u001b[0mbanana\u001b[0m\u001b[0;34m,\u001b[0m \u001b[0mcherries\u001b[0m\u001b[0;34m,\u001b[0m \u001b[0mdates\u001b[0m\u001b[0;34m,\u001b[0m \u001b[0mkiwis\u001b[0m\u001b[0;34m\u001b[0m\u001b[0;34m\u001b[0m\u001b[0m\n\u001b[0;32m----> 3\u001b[0;31m my_new_arg_func('greenapple','apple','ball','cat','dog','yellowbanana','redcherries', a= 12,\n\u001b[0m\u001b[1;32m      4\u001b[0m \u001b[0mb\u001b[0m\u001b[0;34m=\u001b[0m \u001b[0;34m-\u001b[0m\u001b[0;36m23\u001b[0m\u001b[0;34m,\u001b[0m\u001b[0;34m\u001b[0m\u001b[0;34m\u001b[0m\u001b[0m\n\u001b[1;32m      5\u001b[0m \u001b[0mc\u001b[0m\u001b[0;34m=\u001b[0m \u001b[0;36m34.45\u001b[0m\u001b[0;34m,\u001b[0m\u001b[0;34m\u001b[0m\u001b[0;34m\u001b[0m\u001b[0m\n",
            "\u001b[0;31mTypeError\u001b[0m: my_new_arg_func() missing 2 required keyword-only arguments: 'banana' and 'cherries'"
          ]
        }
      ]
    },
    {
      "cell_type": "code",
      "source": [
        "def my_new_arg_func(**kiwis, apple,banana, cherries  *dates):\n",
        "    return apple, banana, cherries, dates, kiwis\n",
        "my_new_arg_func(a= 12,\n",
        "b= -23,\n",
        "c= 34.45,\n",
        "d= -45.56,\n",
        "e= (12+23j),\n",
        "f= (-32-43j),\n",
        "g= True,\n",
        "h= False,\n",
        "i= 'Python',\n",
        "j= 'programming',\n",
        "'greenapple','yellowbanana','redcherries''apple','ball','cat','dog', )"
      ],
      "metadata": {
        "id": "LC5SkQNpCD_1"
      },
      "execution_count": null,
      "outputs": []
    },
    {
      "cell_type": "code",
      "source": [
        "l=lambda x : x+10\n",
        "print(l(10))"
      ],
      "metadata": {
        "colab": {
          "base_uri": "https://localhost:8080/"
        },
        "id": "AGOyJVk3OL-B",
        "outputId": "3445f87f-214b-4c26-abaf-14a824e16667"
      },
      "execution_count": null,
      "outputs": [
        {
          "output_type": "stream",
          "name": "stdout",
          "text": [
            "20\n"
          ]
        }
      ]
    },
    {
      "cell_type": "code",
      "source": [
        "l=lambda x,y : x+y\n",
        "print(l(10,5))"
      ],
      "metadata": {
        "colab": {
          "base_uri": "https://localhost:8080/"
        },
        "id": "7gZj833rOYau",
        "outputId": "e3517282-7bb2-449b-f740-7700c83795fc"
      },
      "execution_count": null,
      "outputs": [
        {
          "output_type": "stream",
          "name": "stdout",
          "text": [
            "15\n"
          ]
        }
      ]
    },
    {
      "cell_type": "code",
      "source": [
        "l=lambda x,y,z : x+y-z\n",
        "print(l(10,15,5))"
      ],
      "metadata": {
        "colab": {
          "base_uri": "https://localhost:8080/"
        },
        "id": "A_zpelqIOZJe",
        "outputId": "a0d2b91d-29c9-45ba-fef8-2f6a376648e2"
      },
      "execution_count": null,
      "outputs": [
        {
          "output_type": "stream",
          "name": "stdout",
          "text": [
            "20\n"
          ]
        }
      ]
    },
    {
      "cell_type": "code",
      "source": [
        "l=lambda w,x,y,z : x+y-w*z/x\n",
        "print(l(5,10,15,20))"
      ],
      "metadata": {
        "colab": {
          "base_uri": "https://localhost:8080/"
        },
        "id": "joEGMSxVOZmP",
        "outputId": "2f3696ed-de16-45f2-babb-640e36a2867f"
      },
      "execution_count": null,
      "outputs": [
        {
          "output_type": "stream",
          "name": "stdout",
          "text": [
            "15.0\n"
          ]
        }
      ]
    },
    {
      "cell_type": "code",
      "source": [
        "nums = [1, 2, 3, 4, 5]\n",
        "doubled_nums = map(lambda x: x * 2, nums)\n",
        "print(list(doubled_nums))"
      ],
      "metadata": {
        "colab": {
          "base_uri": "https://localhost:8080/"
        },
        "id": "LocGOpxeQKxb",
        "outputId": "6df8ba9e-79d9-47a0-eb09-c5fc73294efb"
      },
      "execution_count": null,
      "outputs": [
        {
          "output_type": "stream",
          "name": "stdout",
          "text": [
            "[2, 4, 6, 8, 10]\n"
          ]
        }
      ]
    },
    {
      "cell_type": "code",
      "source": [
        "num = [1, 2, 3, 4, 5, 6, 7, 8, 9, 10]\n",
        "\n",
        "# Filtering even numbers using filter()\n",
        "even_numbers = filter(lambda x: x % 2 == 0, nums)\n",
        "\n",
        "print(list(even_numbers))\n",
        "print(even_numbers)"
      ],
      "metadata": {
        "colab": {
          "base_uri": "https://localhost:8080/"
        },
        "id": "2bJ7McHbQZdh",
        "outputId": "c865d16f-6b11-4f3f-ec70-274a938c99c8"
      },
      "execution_count": null,
      "outputs": [
        {
          "output_type": "stream",
          "name": "stdout",
          "text": [
            "[2, 4]\n",
            "<filter object at 0x7f67ad84b400>\n"
          ]
        }
      ]
    },
    {
      "cell_type": "code",
      "source": [
        "# Types of Exception-->Syntax, logical & runtime exception\n",
        "num = [1, 2, 3, 4, 5, 6, 7, 8, 9, 10]\n",
        "num[11]#IndexError=-->run time error"
      ],
      "metadata": {
        "colab": {
          "base_uri": "https://localhost:8080/",
          "height": 197
        },
        "id": "AOSV_5SY8g8u",
        "outputId": "643cecdf-1c2f-456d-8d7d-7b0cd8f515fb"
      },
      "execution_count": null,
      "outputs": [
        {
          "output_type": "error",
          "ename": "IndexError",
          "evalue": "ignored",
          "traceback": [
            "\u001b[0;31m---------------------------------------------------------------------------\u001b[0m",
            "\u001b[0;31mIndexError\u001b[0m                                Traceback (most recent call last)",
            "\u001b[0;32m<ipython-input-1-3905027d0c68>\u001b[0m in \u001b[0;36m<cell line: 2>\u001b[0;34m()\u001b[0m\n\u001b[1;32m      1\u001b[0m \u001b[0mnum\u001b[0m \u001b[0;34m=\u001b[0m \u001b[0;34m[\u001b[0m\u001b[0;36m1\u001b[0m\u001b[0;34m,\u001b[0m \u001b[0;36m2\u001b[0m\u001b[0;34m,\u001b[0m \u001b[0;36m3\u001b[0m\u001b[0;34m,\u001b[0m \u001b[0;36m4\u001b[0m\u001b[0;34m,\u001b[0m \u001b[0;36m5\u001b[0m\u001b[0;34m,\u001b[0m \u001b[0;36m6\u001b[0m\u001b[0;34m,\u001b[0m \u001b[0;36m7\u001b[0m\u001b[0;34m,\u001b[0m \u001b[0;36m8\u001b[0m\u001b[0;34m,\u001b[0m \u001b[0;36m9\u001b[0m\u001b[0;34m,\u001b[0m \u001b[0;36m10\u001b[0m\u001b[0;34m]\u001b[0m\u001b[0;34m\u001b[0m\u001b[0;34m\u001b[0m\u001b[0m\n\u001b[0;32m----> 2\u001b[0;31m \u001b[0mnum\u001b[0m\u001b[0;34m[\u001b[0m\u001b[0;36m11\u001b[0m\u001b[0;34m]\u001b[0m\u001b[0;34m\u001b[0m\u001b[0;34m\u001b[0m\u001b[0m\n\u001b[0m",
            "\u001b[0;31mIndexError\u001b[0m: list index out of range"
          ]
        }
      ]
    },
    {
      "cell_type": "code",
      "source": [
        "try:\n",
        "    num = [1, 2, 3, 4, 5, 6, 7, 8, 9, 10]\n",
        "    num[11]\n",
        "except IndexError as ie:\n",
        "    print('index error occured:',ie)\n",
        "print('We handled the exception.')"
      ],
      "metadata": {
        "colab": {
          "base_uri": "https://localhost:8080/"
        },
        "id": "9J6Cl3dwCaH9",
        "outputId": "e4dedd3d-b202-4595-ce39-25cb01e6be66"
      },
      "execution_count": null,
      "outputs": [
        {
          "output_type": "stream",
          "name": "stdout",
          "text": [
            "index error occured: list index out of range\n",
            "We handled the exception.\n"
          ]
        }
      ]
    },
    {
      "cell_type": "code",
      "source": [
        "from logging import exception\n",
        "try:\n",
        "    t=(1,2,3)\n",
        "    t.append(4)\n",
        "except Exception as e:\n",
        "    print('exception occured:',e)\n",
        "print('We handled the exception.')"
      ],
      "metadata": {
        "colab": {
          "base_uri": "https://localhost:8080/"
        },
        "id": "ZYNIUd15Cy1E",
        "outputId": "f410c07f-3d34-44d1-d09a-429f9e627a84"
      },
      "execution_count": null,
      "outputs": [
        {
          "output_type": "stream",
          "name": "stdout",
          "text": [
            "exception occured: 'tuple' object has no attribute 'append'\n",
            "We handled the exception.\n"
          ]
        }
      ]
    },
    {
      "cell_type": "code",
      "source": [
        "\n",
        "def sum1(a, b):\n",
        "    try:\n",
        "        c = 2\n",
        "        r= (a + b) ** 2\n",
        "    except Exception as e:\n",
        "        print('Exception occurred:', e)\n",
        "    else:\n",
        "        print('The sum is calculated without an exception and sum is:',r)\n",
        "        # This 'else' block will execute only if no exception occurred\n",
        "    finally:\n",
        "        print('This is programmed by Pushpa.')\n",
        "\n",
        "sum1(2, 3)"
      ],
      "metadata": {
        "colab": {
          "base_uri": "https://localhost:8080/"
        },
        "id": "udL--Hn-DlTY",
        "outputId": "40ff5ae6-5b73-433a-99ed-4ded0288119e"
      },
      "execution_count": null,
      "outputs": [
        {
          "output_type": "stream",
          "name": "stdout",
          "text": [
            "The sum is calculated without an exception and sum is: 25\n",
            "This is programmed by Pushpa.\n"
          ]
        }
      ]
    },
    {
      "cell_type": "markdown",
      "source": [
        "### **Object oriented programming**\n",
        "Obj is instance(like copies-with its own unique attributes and methods) of a class"
      ],
      "metadata": {
        "id": "gs_v6fexxeZT"
      }
    },
    {
      "cell_type": "code",
      "source": [
        "a=10\n",
        "print(type(a))"
      ],
      "metadata": {
        "colab": {
          "base_uri": "https://localhost:8080/"
        },
        "id": "MNl4UAGZxvWE",
        "outputId": "33b07c84-ac17-40fd-fdc2-761f873a7f1e"
      },
      "execution_count": null,
      "outputs": [
        {
          "output_type": "stream",
          "name": "stdout",
          "text": [
            "<class 'int'>\n"
          ]
        }
      ]
    },
    {
      "cell_type": "code",
      "source": [
        "name='Pushpa'\n",
        "print(type(name))"
      ],
      "metadata": {
        "colab": {
          "base_uri": "https://localhost:8080/"
        },
        "id": "BOR8c4LU1uMB",
        "outputId": "28ad3131-3083-4989-a9bb-10615afc725f"
      },
      "execution_count": null,
      "outputs": [
        {
          "output_type": "stream",
          "name": "stdout",
          "text": [
            "<class 'str'>\n"
          ]
        }
      ]
    },
    {
      "cell_type": "code",
      "source": [
        "l=[1,2]\n",
        "print(type(l))"
      ],
      "metadata": {
        "colab": {
          "base_uri": "https://localhost:8080/"
        },
        "id": "JtllK6qU11xf",
        "outputId": "4f4bd619-0e66-4295-93e5-d84185d170f8"
      },
      "execution_count": null,
      "outputs": [
        {
          "output_type": "stream",
          "name": "stdout",
          "text": [
            "<class 'list'>\n"
          ]
        }
      ]
    },
    {
      "cell_type": "code",
      "source": [
        "class Car:\n",
        "    def __init__(self, value):\n",
        "        self.value = value\n",
        "obj1=Car('red')\n",
        "obj2=Car('blue')\n",
        "print(obj.value)\n",
        "print(type(obj1))\n",
        "print(type(obj2))"
      ],
      "metadata": {
        "colab": {
          "base_uri": "https://localhost:8080/"
        },
        "id": "KFnOVImx2Z7b",
        "outputId": "544d48e1-188f-4be7-d904-cc7818c8aa52"
      },
      "execution_count": null,
      "outputs": [
        {
          "output_type": "stream",
          "name": "stdout",
          "text": [
            "red\n",
            "<class '__main__.Car'>\n",
            "<class '__main__.Car'>\n"
          ]
        }
      ]
    },
    {
      "cell_type": "code",
      "source": [
        "class Car:\n",
        "    pass\n",
        "\n",
        "obj1=Car()\n",
        "obj2=Car()\n",
        "obj3=Car()\n",
        "obj4=Car()\n",
        "\n",
        "print(type(obj1))\n",
        "print(type(obj2))\n",
        "print(type(obj3))\n",
        "print(type(obj4))"
      ],
      "metadata": {
        "colab": {
          "base_uri": "https://localhost:8080/"
        },
        "id": "dQqEx2gz4n3L",
        "outputId": "cb82f7b9-77c9-40bc-ecb0-69862445b195"
      },
      "execution_count": null,
      "outputs": [
        {
          "output_type": "stream",
          "name": "stdout",
          "text": [
            "<class '__main__.Car'>\n",
            "<class '__main__.Car'>\n",
            "<class '__main__.Car'>\n",
            "<class '__main__.Car'>\n"
          ]
        }
      ]
    },
    {
      "cell_type": "code",
      "source": [
        "class student:\n",
        "    def __init__(self, stu_name, stu_lname, stu_age, stu_gender, stu_mobile, stu_email):\n",
        "        self.student_fname = stu_name\n",
        "        self.student_lname = stu_lname\n",
        "        self.student_age = stu_age\n",
        "        self.student_gender = stu_gender\n",
        "        self.student_mobile = stu_mobile\n",
        "        self.student_email = stu_email\n",
        "obj1=student('Pushpa','Shrestha',33,'M',9849234567,'pushpa123@gmail.com')\n"
      ],
      "metadata": {
        "id": "2tZ3rOM8Avte"
      },
      "execution_count": null,
      "outputs": []
    },
    {
      "cell_type": "code",
      "source": [
        "class Car:\n",
        "    owner='Pushpa Shrestha'\n",
        "    make='Toyota'\n",
        "    model='Camry'\n",
        "    color='blck'\n",
        "    transmission='automatic'\n",
        "    price=30000\n",
        "    def is_hunk(self):\n",
        "        return \"The car hunks\"\n",
        "obj=Car()\n",
        "print('The car owner is:', obj.owner)\n",
        "print('The car color is:', obj.color,'and make is:',obj.make)\n",
        "print('The car price is:', obj.price)\n",
        "print('The car transmission is:', obj.transmission)\n",
        "obj.is_hunk()"
      ],
      "metadata": {
        "colab": {
          "base_uri": "https://localhost:8080/",
          "height": 107
        },
        "id": "o2U3UjzO5qVV",
        "outputId": "9bbea2fa-bd44-4f3f-f696-6cfb7eca3c95"
      },
      "execution_count": null,
      "outputs": [
        {
          "output_type": "stream",
          "name": "stdout",
          "text": [
            "The car owner is: Pushpa Shrestha\n",
            "The car color is: blck and make is: Toyota\n",
            "The car price is: 30000\n",
            "The car transmission is: automatic\n"
          ]
        },
        {
          "output_type": "execute_result",
          "data": {
            "text/plain": [
              "'The car hunks'"
            ],
            "application/vnd.google.colaboratory.intrinsic+json": {
              "type": "string"
            }
          },
          "metadata": {},
          "execution_count": 24
        }
      ]
    },
    {
      "cell_type": "code",
      "source": [
        "class Car:\n",
        "    def __init__(self, owner, make, model, color, transmission, price):\n",
        "        self.owner = owner\n",
        "        self.make = make\n",
        "        self.model = model\n",
        "        self.color = color\n",
        "        self.transmission = transmission\n",
        "        self.price = price\n",
        "\n",
        "    def car_details(self):\n",
        "        return f\"The car owner is {self.owner}, make is {self.make}, model is {self.model}, color is {self.color}, transmission is {self.transmission}, and price is {self.price}\"\n",
        "obj=Car('Pushpa','Toyota','Camry','Silver','Automatic',25000)\n",
        "obj.car_details()"
      ],
      "metadata": {
        "colab": {
          "base_uri": "https://localhost:8080/",
          "height": 53
        },
        "id": "WstFGSt3B6yT",
        "outputId": "326c590d-3e8a-410b-acb2-da00c8322982"
      },
      "execution_count": null,
      "outputs": [
        {
          "output_type": "execute_result",
          "data": {
            "text/plain": [
              "'The car owner is Pushpa, make is Toyota, model is Camry, color is Silver, transmission is Automatic, and price is 25000'"
            ],
            "application/vnd.google.colaboratory.intrinsic+json": {
              "type": "string"
            }
          },
          "metadata": {},
          "execution_count": 9
        }
      ]
    },
    {
      "cell_type": "code",
      "source": [
        "#Inheritence:inherits attributes and methods from parents\n",
        "class great_grand_parent:\n",
        "    pass\n",
        "class grand_parent(great_grand_parent):\n",
        "    pass\n",
        "class parent(grand_parent):\n",
        "    pass\n",
        "class kid(parent):\n",
        "    pass\n"
      ],
      "metadata": {
        "id": "2-Vnm0E4GSUx"
      },
      "execution_count": null,
      "outputs": []
    },
    {
      "cell_type": "code",
      "source": [
        "# Diamond Inheritance\n",
        "\n",
        "class A:\n",
        "    def show(self):\n",
        "        print(\"Class A\")\n",
        "\n",
        "class B(A):\n",
        "    def show(self):\n",
        "        print(\"Class B\")\n",
        "\n",
        "class C(A):\n",
        "    def show(self):\n",
        "        print(\"Class C\")\n",
        "\n",
        "class D(B, C):\n",
        "    pass\n",
        "\n",
        "obj = D()\n",
        "obj.show()  # Output: Class B according to MRO=method resulution order"
      ],
      "metadata": {
        "id": "yrfH5IBMYehj"
      },
      "execution_count": null,
      "outputs": []
    },
    {
      "cell_type": "code",
      "source": [
        "class ToyotaCar:\n",
        "    def __init__(self, make, model, year):\n",
        "        self.make = make\n",
        "        self.model = model\n",
        "        self.year = year\n",
        "\n",
        "    def hunk(self):\n",
        "        return \"Beep Beep!\"\n",
        "\n",
        "class Corolla(ToyotaCar):\n",
        "    def __init__(self, make, year, color, model=\"Corolla\"):\n",
        "        super().__init__(make, model, year)\n",
        "        self.color = color\n",
        "\n",
        "    def safety_features(self):\n",
        "        return \"Advanced safety features included\"\n",
        "\n",
        "class Camry(Corolla):\n",
        "    def __init__(self, make, year, color, model=\"Camry\"):\n",
        "        super().__init__(make, model, year)\n",
        "        self.color = color\n",
        "\n",
        "    def luxury_features(self):\n",
        "        return \"Added luxury features for a comfortable ride\"\n",
        "\n",
        "class Prius(Camry):\n",
        "    def __init__(self, make, year, color, model=\"Prius\"):\n",
        "        super().__init__(make, model, year)\n",
        "        self.color = color\n",
        "\n",
        "    def eco_friendly(self):\n",
        "        return \"Eco-friendly features for fuel efficiency\"\n",
        "\n",
        "obj_prius = Prius(\"Toyota\", 2023, \"Blue\")\n",
        "print(obj_prius.hunk())\n",
        "print(obj_prius.luxury_features())\n"
      ],
      "metadata": {
        "colab": {
          "base_uri": "https://localhost:8080/"
        },
        "id": "MKWkJ-JyJi6H",
        "outputId": "d34ce386-0994-4e94-cff8-6314f525376b"
      },
      "execution_count": null,
      "outputs": [
        {
          "output_type": "stream",
          "name": "stdout",
          "text": [
            "Beep Beep!\n",
            "Added luxury features for a comfortable ride\n"
          ]
        }
      ]
    },
    {
      "cell_type": "code",
      "source": [
        "class Computer:\n",
        "    def __init__(self, ram,processor,hard_disk):\n",
        "        self.ram = ram\n",
        "        self.processor=processor\n",
        "        self.hard_disk=hard_disk\n",
        "    def disply(self):\n",
        "        print('ram is:',self.ram,'processor is:',self.processor, 'and hard disk is:',self.hard_disk)\n",
        "\n",
        "class Laptop(Computer):\n",
        "    pass\n",
        "\n",
        "\n",
        "\n",
        "obj_laptop = Laptop('32gb','i7','300gb')\n",
        "obj_laptop.disply()"
      ],
      "metadata": {
        "colab": {
          "base_uri": "https://localhost:8080/"
        },
        "id": "19G2UzzBF1PU",
        "outputId": "bc195103-d26c-4d92-b43e-a5de76eec3f4"
      },
      "execution_count": null,
      "outputs": [
        {
          "output_type": "stream",
          "name": "stdout",
          "text": [
            "ram is: 32gb processor is: i7 and hard disk is: 300gb\n"
          ]
        }
      ]
    },
    {
      "cell_type": "code",
      "source": [
        "class Computer1:\n",
        "    def __init__(self, ram,processor,hard_disk):\n",
        "        self.ram = ram\n",
        "        self.processor=processor\n",
        "        self.hard_disk=hard_disk\n",
        "    def disply1(self):\n",
        "        print('ram is:',self.ram,'processor is:',self.processor, 'and hard disk is:',self.hard_disk)\n",
        "\n",
        "class Laptop1(Computer1):\n",
        "    def __init__(self, ram,processor,hard_disk):\n",
        "        Computer1. __init__(self, ram,processor,hard_disk)\n",
        "\n",
        "obj_lap=Laptop1('32gb','i8','200gb')\n",
        "obj_lap.disply1()"
      ],
      "metadata": {
        "colab": {
          "base_uri": "https://localhost:8080/"
        },
        "id": "R1NEIps6Ip9i",
        "outputId": "6d2fa272-ad1d-41c8-b759-7520f49abbdf"
      },
      "execution_count": null,
      "outputs": [
        {
          "output_type": "stream",
          "name": "stdout",
          "text": [
            "ram is: 32gb processor is: i8 and hard disk is: 200gb\n"
          ]
        }
      ]
    },
    {
      "cell_type": "code",
      "source": [
        "class Computer2:\n",
        "    def __init__(self, ram,processor,hard_disk):\n",
        "        self.ram = ram\n",
        "        self.processor=processor\n",
        "        self.hard_disk=hard_disk\n",
        "    def disply2(self):\n",
        "        print('ram is:',self.ram,'processor is:',self.processor, 'and hard disk is:',self.hard_disk)\n",
        "\n",
        "class Laptop2(Computer2):\n",
        "    def __init__(self, ram,processor,hard_disk):\n",
        "        super(). __init__(ram,processor,hard_disk)\n",
        "obj_lap2=Laptop2('16gb','i7','250gb')\n",
        "obj_lap2.ram='8gb'\n",
        "obj_lap2.disply2()"
      ],
      "metadata": {
        "colab": {
          "base_uri": "https://localhost:8080/"
        },
        "id": "KVk89Bc9Lcz4",
        "outputId": "d1a0726e-ed5d-43e8-9376-6dd84f1ea8c6"
      },
      "execution_count": null,
      "outputs": [
        {
          "output_type": "stream",
          "name": "stdout",
          "text": [
            "ram is: 8gb processor is: i7 and hard disk is: 250gb\n"
          ]
        }
      ]
    },
    {
      "cell_type": "code",
      "source": [
        "class Computer3:\n",
        "    def __init__(self, ram,processor,hard_disk):\n",
        "        self.ram = ram\n",
        "        self.processor=processor\n",
        "        self.hard_disk=hard_disk\n",
        "    def disply3(self):\n",
        "        print('ram is:',self.ram,'processor is:',self.processor, 'hard disk is:',self.hard_disk)\n",
        "\n",
        "class Laptop3(Computer3):\n",
        "    def __init__(self, ram,processor,hard_disk,convertible):\n",
        "        super(). __init__(ram,processor,hard_disk)\n",
        "        self.convertible=convertible\n",
        "    def disply4(self):\n",
        "            print('Is it convertible:',self.convertible)\n",
        "obj_lap3=Laptop3('16gb','i7','250gb',True)\n",
        "obj_lap3.ram='8gb'\n",
        "obj_lap3.disply3()\n",
        "obj_lap3.disply4()"
      ],
      "metadata": {
        "colab": {
          "base_uri": "https://localhost:8080/"
        },
        "id": "ROijkJ6hP25M",
        "outputId": "46a6a909-7d31-4a47-b5ce-df20130b78d3"
      },
      "execution_count": null,
      "outputs": [
        {
          "output_type": "stream",
          "name": "stdout",
          "text": [
            "ram is: 8gb processor is: i7 hard disk is: 250gb\n",
            "Is it convertible: True\n"
          ]
        }
      ]
    },
    {
      "cell_type": "code",
      "source": [
        "# polymorphism: diff classes can share a common method\n",
        "class car:\n",
        "    def __init__(self, brand, model):\n",
        "        self.brand = brand\n",
        "        self.model = model\n",
        "\n",
        "    def move(self):\n",
        "        print('Drive!!')\n",
        "\n",
        "\n",
        "class boat:\n",
        "    def __init__(self, brand, model):\n",
        "        self.brand = brand\n",
        "        self.model = model\n",
        "\n",
        "    def move(self):\n",
        "        print('Sail!!')\n",
        "\n",
        "\n",
        "class plane:\n",
        "    def __init__(self, brand, model):\n",
        "        self.brand = brand\n",
        "        self.model = model\n",
        "\n",
        "    def move(self):\n",
        "        print('Fly!!')"
      ],
      "metadata": {
        "id": "bieBI4gbQk6N"
      },
      "execution_count": null,
      "outputs": []
    },
    {
      "cell_type": "code",
      "source": [
        "obj_car1 = car('Honda', '2022')\n",
        "obj_boat1 = boat('Yamaha', '2023')\n",
        "obj_plane1 = plane('Suzi', '2021')"
      ],
      "metadata": {
        "id": "l238-3CVQn5n"
      },
      "execution_count": null,
      "outputs": []
    },
    {
      "cell_type": "code",
      "source": [
        "for i in (obj_car1, obj_boat1, obj_plane1):\n",
        "    i.move()"
      ],
      "metadata": {
        "colab": {
          "base_uri": "https://localhost:8080/"
        },
        "id": "fQQsb6BOQqox",
        "outputId": "61c3b741-dcaa-4940-e524-2f6921fed806"
      },
      "execution_count": null,
      "outputs": [
        {
          "output_type": "stream",
          "name": "stdout",
          "text": [
            "Drive!!\n",
            "Sail!!\n",
            "Fly!!\n"
          ]
        }
      ]
    },
    {
      "cell_type": "code",
      "source": [
        "class macbook:\n",
        "    def __init__(self, ram, display, hard_disk):\n",
        "        self.ram = ram\n",
        "        self.display = display\n",
        "        self.hard_disk=hard_disk\n",
        "\n",
        "    def display_info(self):\n",
        "        print('This', self.__class__.__name__, 'device has',self.ram,'gb of ram, ',self.display,'inches of display and ',self.hard_disk,'gb of hard-disk' )\n",
        "    def getType(self):\n",
        "        print('This is a computer')\n",
        "\n",
        "class iphone:\n",
        "    def __init__(self, ram, display, hard_disk):\n",
        "        self.ram = ram\n",
        "        self.display = display\n",
        "        self.hard_disk=hard_disk\n",
        "\n",
        "    def display_info(self):\n",
        "        print('This', self.__class__.__name__, 'device has',self.ram,'gb of ram, ',self.display,'inches of display and ',self.hard_disk,'gb of hard-disk' )\n",
        "    def getType(self):\n",
        "        print('This is a phone')\n",
        "\n",
        "\n",
        "class ipad:\n",
        "    def __init__(self, ram, display, hard_disk):\n",
        "        self.ram = ram\n",
        "        self.display = display\n",
        "        self.hard_disk=hard_disk\n",
        "\n",
        "    def display_info(self):\n",
        "        print('This', self.__class__.__name__, 'device has',self.ram,'gb of ram, ',self.display,'inches of display and ',self.hard_disk,'gb of hard-disk' )\n",
        "    def getType(self):\n",
        "        print('This is an ipad')"
      ],
      "metadata": {
        "id": "R0_A4OUSSVMV"
      },
      "execution_count": null,
      "outputs": []
    },
    {
      "cell_type": "code",
      "source": [
        "obj_macbook=macbook(32,14,500)\n",
        "obj_iphone=iphone(8,7,250)\n",
        "obj_ipad=ipad(4,10,100)\n",
        "\n"
      ],
      "metadata": {
        "id": "DTLoeRWxT2Ph"
      },
      "execution_count": null,
      "outputs": []
    },
    {
      "cell_type": "code",
      "source": [
        "obj_macbook.display_info()\n",
        "obj_macbook.getType()\n",
        "\n",
        "obj_iphone.display_info()\n",
        "obj_iphone.getType()\n",
        "\n",
        "obj_ipad.display_info()\n",
        "obj_ipad.getType()\n"
      ],
      "metadata": {
        "colab": {
          "base_uri": "https://localhost:8080/"
        },
        "id": "4IlTjgzeUc6g",
        "outputId": "efd73448-27c3-4840-97e8-c1e9cb20f44b"
      },
      "execution_count": null,
      "outputs": [
        {
          "output_type": "stream",
          "name": "stdout",
          "text": [
            "This macbook device has 32 gb of ram,  14 inches of display and  500 gb of hard-disk\n",
            "This is a computer\n",
            "This iphone device has 8 gb of ram,  7 inches of display and  250 gb of hard-disk\n",
            "This is a phone\n",
            "This ipad device has 4 gb of ram,  10 inches of display and  100 gb of hard-disk\n",
            "This is an ipad\n"
          ]
        }
      ]
    },
    {
      "cell_type": "code",
      "source": [
        "#method overloading\n",
        "sum([1,2])\n",
        "sum([1.5,2.5,3.5])\n"
      ],
      "metadata": {
        "colab": {
          "base_uri": "https://localhost:8080/"
        },
        "id": "IKdzFC6lZi-7",
        "outputId": "b83b9256-ec75-482e-84e7-32bc3f9fda15"
      },
      "execution_count": null,
      "outputs": [
        {
          "output_type": "execute_result",
          "data": {
            "text/plain": [
              "7.5"
            ]
          },
          "metadata": {},
          "execution_count": 18
        }
      ]
    },
    {
      "cell_type": "code",
      "source": [
        "class Vector:\n",
        "    def __init__(self, x, y):\n",
        "        self.x = x\n",
        "        self.y = y\n",
        "\n",
        "    def __add__(self, other):\n",
        "        return Vector(self.x + other.x, self.y + other.y)\n",
        "\n",
        "# Creating vectors\n",
        "vector1 = Vector(3, 4)\n",
        "vector2 = Vector(1, 2)\n",
        "\n",
        "# Adding vectors using the overloaded + operator\n",
        "resultant_vector = vector1 + vector2 #vector1.__add__(vector2)\n",
        "\n",
        "# Displaying the components of the resultant vector\n",
        "print(f\"Resultant Vector: ({resultant_vector.x}, {resultant_vector.y})\")\n"
      ],
      "metadata": {
        "colab": {
          "base_uri": "https://localhost:8080/"
        },
        "id": "Apo9fsFrmIMy",
        "outputId": "7c370fd2-09a9-4a31-c82c-6b700fce62db"
      },
      "execution_count": null,
      "outputs": [
        {
          "output_type": "stream",
          "name": "stdout",
          "text": [
            "Resultant Vector: (4, 6)\n"
          ]
        }
      ]
    },
    {
      "cell_type": "code",
      "source": [
        "# factors involved in purchasing a property.\n",
        "#location,size,age,fascilities, city regulations, economy/market, future potential"
      ],
      "metadata": {
        "id": "scAjfO51eBIo"
      },
      "execution_count": null,
      "outputs": []
    }
  ]
}