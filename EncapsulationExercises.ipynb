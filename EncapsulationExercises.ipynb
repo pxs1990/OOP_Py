{
  "nbformat": 4,
  "nbformat_minor": 0,
  "metadata": {
    "colab": {
      "provenance": [],
      "include_colab_link": true
    },
    "kernelspec": {
      "name": "python3",
      "display_name": "Python 3"
    },
    "language_info": {
      "name": "python"
    }
  },
  "cells": [
    {
      "cell_type": "markdown",
      "metadata": {
        "id": "view-in-github",
        "colab_type": "text"
      },
      "source": [
        "<a href=\"https://colab.research.google.com/github/pxs1990/OOP_Py/blob/main/EncapsulationExercises.ipynb\" target=\"_parent\"><img src=\"https://colab.research.google.com/assets/colab-badge.svg\" alt=\"Open In Colab\"/></a>"
      ]
    },
    {
      "cell_type": "code",
      "execution_count": null,
      "metadata": {
        "colab": {
          "base_uri": "https://localhost:8080/"
        },
        "id": "anuCjGzpJ--4",
        "outputId": "1397071a-4e22-4f1d-e393-6525a3e51522"
      },
      "outputs": [
        {
          "output_type": "stream",
          "name": "stdout",
          "text": [
            "Name: John, Age: 25\n"
          ]
        }
      ],
      "source": [
        "# Basic Encapsulation\n",
        "\n",
        "class Person:\n",
        "    def __init__(self, name, age):\n",
        "        self._name = name  # protected attribute\n",
        "        self._age = age    # protected attribute\n",
        "\n",
        "    def display_info(self):\n",
        "        print(f\"Name: {self._name}, Age: {self._age}\")\n",
        "\n",
        "person = Person(\"John\", 25)\n",
        "person.display_info()  # Accessing attributes through a method\n"
      ]
    },
    {
      "cell_type": "code",
      "source": [
        "# Private Attributes\n",
        "\n",
        "class BankAccount:\n",
        "    def __init__(self, balance):\n",
        "        self.__balance = balance  # private attribute\n",
        "\n",
        "    def get_balance(self):\n",
        "        return self.__balance\n",
        "\n",
        "    def deposit(self, amount):\n",
        "        self.__balance += amount\n",
        "\n",
        "    def withdraw(self, amount):\n",
        "        if amount <= self.__balance:\n",
        "            self.__balance -= amount\n",
        "        else:\n",
        "            print(\"Insufficient funds\")\n",
        "\n",
        "account = BankAccount(1000)\n",
        "print(account.get_balance())  # Accessing private attribute through a method\n",
        "account.deposit(500)\n",
        "account.withdraw(200)\n",
        "print(account.get_balance())\n"
      ],
      "metadata": {
        "colab": {
          "base_uri": "https://localhost:8080/"
        },
        "id": "cPPRKBshKODe",
        "outputId": "2e74badf-0934-4b39-9488-dd3fea0746bc"
      },
      "execution_count": null,
      "outputs": [
        {
          "output_type": "stream",
          "name": "stdout",
          "text": [
            "1000\n",
            "1300\n"
          ]
        }
      ]
    },
    {
      "cell_type": "code",
      "source": [
        "# Property Decorators for Encapsulation\n",
        "\n",
        "class Temperature:\n",
        "    def __init__(self, celsius):\n",
        "        self._celsius = celsius\n",
        "\n",
        "    @property\n",
        "    def celsius(self):\n",
        "        return self._celsius\n",
        "\n",
        "    @property\n",
        "    def fahrenheit(self):\n",
        "        return self._celsius * 9/5 + 32\n",
        "\n",
        "    @celsius.setter\n",
        "    def celsius(self, value):\n",
        "        if value < -273.15:\n",
        "            print(\"Temperature cannot be below absolute zero.\")\n",
        "        else:\n",
        "            self._celsius = value\n",
        "\n",
        "temp = Temperature(25)\n",
        "print(temp.celsius)\n",
        "print(temp.fahrenheit)\n",
        "temp.celsius = 30\n",
        "print(temp.celsius)\n"
      ],
      "metadata": {
        "colab": {
          "base_uri": "https://localhost:8080/"
        },
        "id": "FEGPiAckKUEj",
        "outputId": "6a4abf94-9fb0-4f78-8c24-142c9b0ac761"
      },
      "execution_count": null,
      "outputs": [
        {
          "output_type": "stream",
          "name": "stdout",
          "text": [
            "25\n",
            "77.0\n",
            "30\n"
          ]
        }
      ]
    },
    {
      "cell_type": "code",
      "source": [
        "# Encapsulation with Class Methods\n",
        "\n",
        "class Product:\n",
        "    discount_rate = 0.1\n",
        "\n",
        "    def __init__(self, name, price):\n",
        "        self._name = name\n",
        "        self._price = price\n",
        "\n",
        "    @classmethod\n",
        "    def apply_discount(cls, price):\n",
        "        return price - (price * cls.discount_rate)\n",
        "\n",
        "    def display_price(self):\n",
        "        discounted_price = self.apply_discount(self._price)\n",
        "        print(f\"Discounted Price for {self._name}: ${discounted_price}\")\n",
        "\n",
        "product = Product(\"Laptop\", 1000)\n",
        "product.display_price()\n"
      ],
      "metadata": {
        "colab": {
          "base_uri": "https://localhost:8080/"
        },
        "id": "Y26yNsA6KY9n",
        "outputId": "78dfe04f-d07b-427b-bf49-09ea53bac1cd"
      },
      "execution_count": null,
      "outputs": [
        {
          "output_type": "stream",
          "name": "stdout",
          "text": [
            "Discounted Price for Laptop: $900.0\n"
          ]
        }
      ]
    },
    {
      "cell_type": "code",
      "source": [
        "# Encapsulation with Getters and Setters\n",
        "\n",
        "class Student:\n",
        "    def __init__(self):\n",
        "        self._name = None\n",
        "\n",
        "    @property\n",
        "    def name(self):\n",
        "        return self._name\n",
        "\n",
        "    @name.setter\n",
        "    def name(self, value):\n",
        "        if not isinstance(value, str):\n",
        "            print(\"Name must be a string.\")\n",
        "        else:\n",
        "            self._name = value\n",
        "\n",
        "student = Student()\n",
        "student.name = \"Alice\"\n",
        "print(student.name)\n"
      ],
      "metadata": {
        "colab": {
          "base_uri": "https://localhost:8080/"
        },
        "id": "u1rgzULRKdQG",
        "outputId": "f24c7e77-204e-4daa-9fa9-e5e866c54d21"
      },
      "execution_count": null,
      "outputs": [
        {
          "output_type": "stream",
          "name": "stdout",
          "text": [
            "Alice\n"
          ]
        }
      ]
    },
    {
      "cell_type": "code",
      "source": [
        "# Encapsulation with Read-Only Property\n",
        "\n",
        "class ReadOnlyClass:\n",
        "    def __init__(self, data):\n",
        "        self._data = data\n",
        "\n",
        "    @property\n",
        "    def data(self):\n",
        "        return self._data\n",
        "\n",
        "# Usage\n",
        "obj = ReadOnlyClass(\"Read-only data\")\n",
        "print(obj.data)\n"
      ],
      "metadata": {
        "colab": {
          "base_uri": "https://localhost:8080/"
        },
        "id": "TkW4cpfoKilN",
        "outputId": "5ab4ca71-49cb-469d-aa67-da234a205192"
      },
      "execution_count": null,
      "outputs": [
        {
          "output_type": "stream",
          "name": "stdout",
          "text": [
            "Read-only data\n"
          ]
        }
      ]
    },
    {
      "cell_type": "code",
      "source": [
        "# Encapsulation with Private Methods\n",
        "\n",
        "class Calculator:\n",
        "    def __init__(self):\n",
        "        pass\n",
        "\n",
        "    def add(self, x, y):\n",
        "        return self._add(x, y)\n",
        "\n",
        "    def _add(self, x, y):\n",
        "        return x + y\n",
        "\n",
        "calc = Calculator()\n",
        "result = calc.add(3, 5)\n",
        "print(result)\n"
      ],
      "metadata": {
        "colab": {
          "base_uri": "https://localhost:8080/"
        },
        "id": "tAgDwerVKnBU",
        "outputId": "606a40a2-27b3-4a32-e9e7-44f2b055a54f"
      },
      "execution_count": null,
      "outputs": [
        {
          "output_type": "stream",
          "name": "stdout",
          "text": [
            "8\n"
          ]
        }
      ]
    },
    {
      "cell_type": "code",
      "source": [
        "# Encapsulation with Property Decorator\n",
        "\n",
        "class Circle:\n",
        "    def __init__(self, radius):\n",
        "        self._radius = radius\n",
        "\n",
        "    @property\n",
        "    def radius(self):\n",
        "        return self._radius\n",
        "\n",
        "    @property\n",
        "    def diameter(self):\n",
        "        return self._radius * 2\n",
        "\n",
        "    @property\n",
        "    def area(self):\n",
        "        return 3.14 * self._radius * self._radius\n",
        "\n",
        "circle = Circle(5)\n",
        "print(circle.radius)\n",
        "print(circle.diameter)\n",
        "print(circle.area)\n"
      ],
      "metadata": {
        "colab": {
          "base_uri": "https://localhost:8080/"
        },
        "id": "nLxicratKry8",
        "outputId": "0ab0d1d9-dea2-425e-943f-5fb838ee80c4"
      },
      "execution_count": null,
      "outputs": [
        {
          "output_type": "stream",
          "name": "stdout",
          "text": [
            "5\n",
            "10\n",
            "78.5\n"
          ]
        }
      ]
    },
    {
      "cell_type": "code",
      "source": [
        "# Encapsulation with Class Composition\n",
        "\n",
        "class Engine:\n",
        "    def start(self):\n",
        "        print(\"Engine started\")\n",
        "\n",
        "class Car:\n",
        "    def __init__(self):\n",
        "        self._engine = Engine()\n",
        "\n",
        "    def start(self):\n",
        "        print(\"Car is starting\")\n",
        "        self._engine.start()\n",
        "\n",
        "my_car = Car()\n",
        "my_car.start()\n"
      ],
      "metadata": {
        "colab": {
          "base_uri": "https://localhost:8080/"
        },
        "id": "oHi5IS1zKvp8",
        "outputId": "bc0a1899-d3a3-485d-8ce3-9c6c329dfc70"
      },
      "execution_count": null,
      "outputs": [
        {
          "output_type": "stream",
          "name": "stdout",
          "text": [
            "Car is starting\n",
            "Engine started\n"
          ]
        }
      ]
    },
    {
      "cell_type": "code",
      "source": [
        "# Encapsulation with Class Composition and Property\n",
        "\n",
        "class Engine:\n",
        "    def start(self):\n",
        "        print(\"Engine started\")\n",
        "\n",
        "class Car:\n",
        "    def __init__(self):\n",
        "        self._engine = Engine()\n",
        "\n",
        "    @property\n",
        "    def engine(self):\n",
        "        return self._engine\n",
        "\n",
        "my_car = Car()\n",
        "my_car.engine.start()\n"
      ],
      "metadata": {
        "colab": {
          "base_uri": "https://localhost:8080/"
        },
        "id": "KhfRdtvcK0eU",
        "outputId": "4acc05f7-d5ef-437b-de62-8ae3a403cbd8"
      },
      "execution_count": null,
      "outputs": [
        {
          "output_type": "stream",
          "name": "stdout",
          "text": [
            "Engine started\n"
          ]
        }
      ]
    },
    {
      "cell_type": "code",
      "source": [],
      "metadata": {
        "id": "B04Q119TK4a0"
      },
      "execution_count": null,
      "outputs": []
    }
  ]
}