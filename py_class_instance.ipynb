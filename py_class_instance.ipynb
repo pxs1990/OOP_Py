{
  "nbformat": 4,
  "nbformat_minor": 0,
  "metadata": {
    "colab": {
      "provenance": [],
      "authorship_tag": "ABX9TyPO7Jrqc5XjHt/3rh7GP5lx",
      "include_colab_link": true
    },
    "kernelspec": {
      "name": "python3",
      "display_name": "Python 3"
    },
    "language_info": {
      "name": "python"
    }
  },
  "cells": [
    {
      "cell_type": "markdown",
      "metadata": {
        "id": "view-in-github",
        "colab_type": "text"
      },
      "source": [
        "<a href=\"https://colab.research.google.com/github/pxs1990/OOP_Py/blob/main/py_class_instance.ipynb\" target=\"_parent\"><img src=\"https://colab.research.google.com/assets/colab-badge.svg\" alt=\"Open In Colab\"/></a>"
      ]
    },
    {
      "cell_type": "code",
      "execution_count": 1,
      "metadata": {
        "id": "tZexoqk6EFxw"
      },
      "outputs": [],
      "source": [
        "# person.py\n",
        "\n",
        "class Person:\n",
        "    def __init__(self, name, age):\n",
        "        self.name = name  # Instance variable for name\n",
        "        self.age = age    # Instance variable for age\n",
        "\n",
        "    def display_info(self):\n",
        "        \"\"\"Display person's information.\"\"\"\n",
        "        print(f\"Name: {self.name}\")\n",
        "        print(f\"Age: {self.age}\")\n"
      ]
    },
    {
      "cell_type": "code",
      "source": [
        "# family.py\n",
        "\n",
        "from person import Person\n",
        "\n",
        "class Family:\n",
        "    def __init__(self, family_name):\n",
        "        self.family_name = family_name  # Instance variable for family name\n",
        "        self.members = []               # List to store family members\n",
        "\n",
        "    def add_member(self, person):\n",
        "        \"\"\"Add a Person instance to the family.\"\"\"\n",
        "        if isinstance(person, Person):\n",
        "            self.members.append(person)\n",
        "        else:\n",
        "            print(\"Only instances of Person can be added.\")\n",
        "\n",
        "    def display_family(self):\n",
        "        \"\"\"Display family information.\"\"\"\n",
        "        print(f\"Family Name: {self.family_name}\")\n",
        "        print(\"Members:\")\n",
        "        for member in self.members:\n",
        "            member.display_info()\n"
      ],
      "metadata": {
        "id": "DIUBRBRrEkFF"
      },
      "execution_count": null,
      "outputs": []
    },
    {
      "cell_type": "code",
      "source": [
        "# main.py\n",
        "\n",
        "from person import Person\n",
        "from family import Family\n",
        "\n",
        "def main():\n",
        "    # Create Person instances\n",
        "    person1 = Person(name=\"Alice\", age=30)\n",
        "    person2 = Person(name=\"Bob\", age=35)\n",
        "\n",
        "    # Create a Family instance\n",
        "    my_family = Family(family_name=\"Smith\")\n",
        "\n",
        "    # Add Person instances to the Family\n",
        "    my_family.add_member(person1)\n",
        "    my_family.add_member(person2)\n",
        "\n",
        "    # Display family information\n",
        "    my_family.display_family()\n",
        "\n",
        "if __name__ == \"__main__\":\n",
        "    main()\n"
      ],
      "metadata": {
        "id": "_5NXaAeDElTm"
      },
      "execution_count": null,
      "outputs": []
    }
  ]
}