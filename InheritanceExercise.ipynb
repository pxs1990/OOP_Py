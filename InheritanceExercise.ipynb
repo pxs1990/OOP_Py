{
  "nbformat": 4,
  "nbformat_minor": 0,
  "metadata": {
    "colab": {
      "provenance": [],
      "include_colab_link": true
    },
    "kernelspec": {
      "name": "python3",
      "display_name": "Python 3"
    },
    "language_info": {
      "name": "python"
    }
  },
  "cells": [
    {
      "cell_type": "markdown",
      "metadata": {
        "id": "view-in-github",
        "colab_type": "text"
      },
      "source": [
        "<a href=\"https://colab.research.google.com/github/pxs1990/OOP_Py/blob/main/InheritanceExercise.ipynb\" target=\"_parent\"><img src=\"https://colab.research.google.com/assets/colab-badge.svg\" alt=\"Open In Colab\"/></a>"
      ]
    },
    {
      "cell_type": "code",
      "execution_count": null,
      "metadata": {
        "colab": {
          "base_uri": "https://localhost:8080/"
        },
        "id": "V360AlxZHCNn",
        "outputId": "85814ac1-3b46-48a8-bae5-0c2181eb921c"
      },
      "outputs": [
        {
          "output_type": "stream",
          "name": "stdout",
          "text": [
            "Animal speaks\n",
            "Dog barks\n"
          ]
        }
      ],
      "source": [
        "# Basic Inheritance\n",
        "\n",
        "class Animal:\n",
        "    def speak(self):\n",
        "        print(\"Animal speaks\")\n",
        "\n",
        "class Dog(Animal):\n",
        "    def bark(self):\n",
        "        print(\"Dog barks\")\n",
        "\n",
        "dog = Dog()\n",
        "dog.speak()  # Inherited from Animal\n",
        "dog.bark()   # Defined in Dog class"
      ]
    },
    {
      "cell_type": "code",
      "source": [
        "# Method Overriding\n",
        "\n",
        "class Shape:\n",
        "    def draw(self):\n",
        "        print(\"Drawing a shape\")\n",
        "\n",
        "class Circle(Shape):\n",
        "    def draw(self):\n",
        "        print(\"Drawing a circle\")\n",
        "\n",
        "circle = Circle()\n",
        "circle.draw()  # Overrides the draw method in Shape"
      ],
      "metadata": {
        "colab": {
          "base_uri": "https://localhost:8080/"
        },
        "id": "J2dQnwFOHNMO",
        "outputId": "db07b97e-ba84-4c89-a3e2-fbc8b1baa827"
      },
      "execution_count": null,
      "outputs": [
        {
          "output_type": "stream",
          "name": "stdout",
          "text": [
            "Drawing a circle\n"
          ]
        }
      ]
    },
    {
      "cell_type": "code",
      "source": [
        "# Multiple Inheritance\n",
        "\n",
        "class A:\n",
        "    def display(self):\n",
        "        print(\"Class A\")\n",
        "\n",
        "class B:\n",
        "    def show(self):\n",
        "        print(\"Class B\")\n",
        "\n",
        "class C(A, B):\n",
        "    def print_all(self):\n",
        "        self.display()\n",
        "        self.show()\n",
        "\n",
        "obj = C()\n",
        "obj.print_all()  # Inherits from both A and B"
      ],
      "metadata": {
        "colab": {
          "base_uri": "https://localhost:8080/"
        },
        "id": "XsBwAN6RHTY1",
        "outputId": "0ed34827-b1c1-40d4-b929-c1db109f88bb"
      },
      "execution_count": null,
      "outputs": [
        {
          "output_type": "stream",
          "name": "stdout",
          "text": [
            "Class A\n",
            "Class B\n"
          ]
        }
      ]
    },
    {
      "cell_type": "code",
      "source": [
        "# Super() Function\n",
        "\n",
        "class Parent:\n",
        "    def __init__(self, name):\n",
        "        self.name = name\n",
        "\n",
        "class Child(Parent):\n",
        "    def __init__(self, name, age):\n",
        "        super().__init__(name)\n",
        "        self.age = age\n",
        "\n",
        "child = Child(\"John\", 10)\n",
        "print(child.name)  # Inherited from Parent\n",
        "print(child.age)   # Defined in Child"
      ],
      "metadata": {
        "colab": {
          "base_uri": "https://localhost:8080/"
        },
        "id": "1sN3S1K5HZJs",
        "outputId": "56e6f3e8-9103-4529-c8a1-7644fdf95e18"
      },
      "execution_count": null,
      "outputs": [
        {
          "output_type": "stream",
          "name": "stdout",
          "text": [
            "John\n",
            "10\n"
          ]
        }
      ]
    },
    {
      "cell_type": "code",
      "source": [
        "# Hierarchical Inheritance\n",
        "\n",
        "class Vehicle:\n",
        "    def start(self):\n",
        "        print(\"Vehicle started\")\n",
        "\n",
        "class Car(Vehicle):\n",
        "    def drive(self):\n",
        "        print(\"Car is being driven\")\n",
        "\n",
        "class Bike(Vehicle):\n",
        "    def ride(self):\n",
        "        print(\"Bike is being ridden\")\n",
        "\n",
        "car = Car()\n",
        "car.start()  # Inherited from Vehicle\n",
        "car.drive()  # Defined in Car class\n",
        "\n",
        "bike = Bike()\n",
        "bike.start()  # Inherited from Vehicle\n",
        "bike.ride()   # Defined in Bike class"
      ],
      "metadata": {
        "colab": {
          "base_uri": "https://localhost:8080/"
        },
        "id": "YeBI2fmxHe1T",
        "outputId": "ee974d03-087b-4dd5-dbbc-efa28831ac22"
      },
      "execution_count": null,
      "outputs": [
        {
          "output_type": "stream",
          "name": "stdout",
          "text": [
            "Vehicle started\n",
            "Car is being driven\n",
            "Vehicle started\n",
            "Bike is being ridden\n"
          ]
        }
      ]
    },
    {
      "cell_type": "code",
      "source": [
        "# Multilevel Inheritance\n",
        "\n",
        "class A:\n",
        "    def method_A(self):\n",
        "        print(\"Method A from class A\")\n",
        "\n",
        "class B(A):\n",
        "    def method_B(self):\n",
        "        print(\"Method B from class B\")\n",
        "\n",
        "class C(B):\n",
        "    def method_C(self):\n",
        "        print(\"Method C from class C\")\n",
        "\n",
        "c_obj = C()\n",
        "c_obj.method_A()  # Inherited from A\n",
        "c_obj.method_B()  # Inherited from B\n",
        "c_obj.method_C()  # Defined in C"
      ],
      "metadata": {
        "colab": {
          "base_uri": "https://localhost:8080/"
        },
        "id": "t5Nb7DxLHkbz",
        "outputId": "9d712719-ff80-4d94-e954-f90678c95157"
      },
      "execution_count": null,
      "outputs": [
        {
          "output_type": "stream",
          "name": "stdout",
          "text": [
            "Method A from class A\n",
            "Method B from class B\n",
            "Method C from class C\n"
          ]
        }
      ]
    },
    {
      "cell_type": "code",
      "source": [
        "# Composition Over Inheritance\n",
        "\n",
        "class Engine:\n",
        "    def start(self):\n",
        "        print(\"Engine started\")\n",
        "\n",
        "class Car:\n",
        "    def __init__(self):\n",
        "        self.engine = Engine()\n",
        "\n",
        "    def drive(self):\n",
        "        print(\"Car is being driven\")\n",
        "        self.engine.start()\n",
        "\n",
        "car = Car()\n",
        "car.drive()  # Car uses composition to have an Engine"
      ],
      "metadata": {
        "colab": {
          "base_uri": "https://localhost:8080/"
        },
        "id": "aHu8Q7r7HrcG",
        "outputId": "c49b3201-8454-42ff-80c3-10de30ddc6c1"
      },
      "execution_count": null,
      "outputs": [
        {
          "output_type": "stream",
          "name": "stdout",
          "text": [
            "Car is being driven\n",
            "Engine started\n"
          ]
        }
      ]
    },
    {
      "cell_type": "code",
      "source": [
        "# Abstract Base Class\n",
        "\n",
        "from abc import ABC, abstractmethod\n",
        "\n",
        "class Shape(ABC):\n",
        "    @abstractmethod\n",
        "    def draw(self):\n",
        "        pass\n",
        "\n",
        "class Circle(Shape):\n",
        "    def draw(self):\n",
        "        print(\"Drawing a circle\")\n",
        "\n",
        "circle = Circle()\n",
        "circle.draw()  # Implements the abstract method in Shape"
      ],
      "metadata": {
        "colab": {
          "base_uri": "https://localhost:8080/"
        },
        "id": "JjZ8ryLQHxHf",
        "outputId": "ba251773-7850-40d7-a056-39b93c263550"
      },
      "execution_count": null,
      "outputs": [
        {
          "output_type": "stream",
          "name": "stdout",
          "text": [
            "Drawing a circle\n"
          ]
        }
      ]
    },
    {
      "cell_type": "code",
      "source": [
        "# Mixin\n",
        "\n",
        "class JSONMixin:\n",
        "    def to_json(self):\n",
        "        import json\n",
        "        return json.dumps(self.__dict__)\n",
        "\n",
        "class Person:\n",
        "    def __init__(self, name, age):\n",
        "        self.name = name\n",
        "        self.age = age\n",
        "\n",
        "class JSONPerson(Person, JSONMixin):\n",
        "    pass"
      ],
      "metadata": {
        "id": "mBC-yazcH3n2"
      },
      "execution_count": null,
      "outputs": []
    },
    {
      "cell_type": "code",
      "source": [
        "# Diamond Problem\n",
        "\n",
        "class A:\n",
        "    def method(self):\n",
        "        print(\"Method from class A\")\n",
        "\n",
        "class B(A):\n",
        "    def method(self):\n",
        "        print(\"Method from class B\")\n",
        "        super().method()\n",
        "\n",
        "class C(A):\n",
        "    def method(self):\n",
        "        print(\"Method from class C\")\n",
        "        super().method()\n",
        "\n",
        "class D(B, C):\n",
        "    pass\n",
        "\n",
        "d_obj = D()\n",
        "d_obj.method()  # Calls method from class B, then class C, and finally class A\n"
      ],
      "metadata": {
        "colab": {
          "base_uri": "https://localhost:8080/"
        },
        "id": "w4olMkRHH74_",
        "outputId": "8f97fafa-3f21-4ad0-e0f9-7e684744d2af"
      },
      "execution_count": null,
      "outputs": [
        {
          "output_type": "stream",
          "name": "stdout",
          "text": [
            "Method from class B\n",
            "Method from class C\n",
            "Method from class A\n"
          ]
        }
      ]
    },
    {
      "cell_type": "code",
      "source": [],
      "metadata": {
        "id": "ft8LYyyMIBL1"
      },
      "execution_count": null,
      "outputs": []
    }
  ]
}