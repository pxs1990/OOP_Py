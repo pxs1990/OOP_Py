{
  "nbformat": 4,
  "nbformat_minor": 0,
  "metadata": {
    "colab": {
      "provenance": [],
      "include_colab_link": true
    },
    "kernelspec": {
      "name": "python3",
      "display_name": "Python 3"
    },
    "language_info": {
      "name": "python"
    }
  },
  "cells": [
    {
      "cell_type": "markdown",
      "metadata": {
        "id": "view-in-github",
        "colab_type": "text"
      },
      "source": [
        "<a href=\"https://colab.research.google.com/github/pxs1990/OOP_Py/blob/main/PolymorphismExercises.ipynb\" target=\"_parent\"><img src=\"https://colab.research.google.com/assets/colab-badge.svg\" alt=\"Open In Colab\"/></a>"
      ]
    },
    {
      "cell_type": "code",
      "execution_count": null,
      "metadata": {
        "id": "gXa4Ds3sLOek"
      },
      "outputs": [],
      "source": [
        "# Function Overloading\n",
        "\n",
        "def add(a, b):\n",
        "    return a + b\n",
        "\n",
        "def concatenate(str1, str2):\n",
        "    return str1 + str2\n"
      ]
    },
    {
      "cell_type": "code",
      "source": [
        "# Operator Overloading\n",
        "\n",
        "class Vector:\n",
        "    def __init__(self, x, y):\n",
        "        self.x = x\n",
        "        self.y = y\n",
        "\n",
        "    def __add__(self, other):\n",
        "        return Vector(self.x + other.x, self.y + other.y)\n"
      ],
      "metadata": {
        "id": "fxrFF8SJL1L0"
      },
      "execution_count": null,
      "outputs": []
    },
    {
      "cell_type": "code",
      "source": [
        "# Polymorphic Function\n",
        "\n",
        "def sound(animal):\n",
        "    return animal.make_sound()\n",
        "\n",
        "class Dog:\n",
        "    def make_sound(self):\n",
        "        return \"Woof!\"\n",
        "\n",
        "class Cat:\n",
        "    def make_sound(self):\n",
        "        return \"Meow!\"\n",
        "\n",
        "dog = Dog()\n",
        "cat = Cat()\n",
        "\n",
        "print(sound(dog))  # Outputs: Woof!\n",
        "print(sound(cat))  # Outputs: Meow!\n"
      ],
      "metadata": {
        "colab": {
          "base_uri": "https://localhost:8080/"
        },
        "id": "pfBPQ966L6zL",
        "outputId": "9cc211c3-2415-485e-e52a-5185ef044d5a"
      },
      "execution_count": null,
      "outputs": [
        {
          "output_type": "stream",
          "name": "stdout",
          "text": [
            "Woof!\n",
            "Meow!\n"
          ]
        }
      ]
    },
    {
      "cell_type": "code",
      "source": [
        "# Polymorphic Method\n",
        "\n",
        "class Shape:\n",
        "    def draw(self):\n",
        "        pass\n",
        "\n",
        "class Circle(Shape):\n",
        "    def draw(self):\n",
        "        return \"Drawing a circle\"\n",
        "\n",
        "class Rectangle(Shape):\n",
        "    def draw(self):\n",
        "        return \"Drawing a rectangle\"\n",
        "\n",
        "shapes = [Circle(), Rectangle()]\n",
        "\n",
        "for i in shapes:\n",
        "    print(i.draw())\n"
      ],
      "metadata": {
        "colab": {
          "base_uri": "https://localhost:8080/"
        },
        "id": "sl-LhqTHL_5q",
        "outputId": "842db381-d52d-4734-8be1-99959a6760e9"
      },
      "execution_count": 1,
      "outputs": [
        {
          "output_type": "stream",
          "name": "stdout",
          "text": [
            "Drawing a circle\n",
            "Drawing a rectangle\n"
          ]
        }
      ]
    },
    {
      "cell_type": "code",
      "source": [
        "# Polymorphic Inheritance\n",
        "\n",
        "class Animal:\n",
        "    def speak(self):\n",
        "        pass\n",
        "\n",
        "class Dog(Animal):\n",
        "    def speak(self):\n",
        "        return \"Woof!\"\n",
        "\n",
        "class Cat(Animal):\n",
        "    def speak(self):\n",
        "        return \"Meow!\"\n",
        "\n",
        "pets = [Dog(), Cat()]\n",
        "\n",
        "for pet in pets:\n",
        "    print(pet.speak())\n"
      ],
      "metadata": {
        "colab": {
          "base_uri": "https://localhost:8080/"
        },
        "id": "dtFt2H6-MEEi",
        "outputId": "fc9c173a-0829-46ec-d0d5-516e0c1bec96"
      },
      "execution_count": null,
      "outputs": [
        {
          "output_type": "stream",
          "name": "stdout",
          "text": [
            "Woof!\n",
            "Meow!\n"
          ]
        }
      ]
    },
    {
      "cell_type": "code",
      "source": [
        "# Function Polymorphism with Default Arguments\n",
        "\n",
        "def area(length, width=None):\n",
        "    if width is None:\n",
        "        return length * length\n",
        "    else:\n",
        "        return length * width\n"
      ],
      "metadata": {
        "id": "QmGNsGdvMIjy"
      },
      "execution_count": null,
      "outputs": []
    },
    {
      "cell_type": "code",
      "source": [
        "# Polymorphic Function with Variable Arguments\n",
        "\n",
        "def display(*args):\n",
        "    for arg in args:\n",
        "        print(arg)\n",
        "\n",
        "display(1, \"Hello\", [1, 2, 3])\n"
      ],
      "metadata": {
        "colab": {
          "base_uri": "https://localhost:8080/"
        },
        "id": "_p01lNwxMM5q",
        "outputId": "5c9c57b1-654e-4416-f1bb-e284852d7bc5"
      },
      "execution_count": null,
      "outputs": [
        {
          "output_type": "stream",
          "name": "stdout",
          "text": [
            "1\n",
            "Hello\n",
            "[1, 2, 3]\n"
          ]
        }
      ]
    },
    {
      "cell_type": "code",
      "source": [
        "# Polymorphic Built-in Functions\n",
        "\n",
        "print(len(\"Hello\"))       # Outputs: 5\n",
        "print(len([1, 2, 3, 4]))   # Outputs: 4\n"
      ],
      "metadata": {
        "colab": {
          "base_uri": "https://localhost:8080/"
        },
        "id": "HEtqDYW0MRX8",
        "outputId": "7a838d06-ecc5-4809-f087-9cd92acad6e3"
      },
      "execution_count": null,
      "outputs": [
        {
          "output_type": "stream",
          "name": "stdout",
          "text": [
            "5\n",
            "4\n"
          ]
        }
      ]
    },
    {
      "cell_type": "code",
      "source": [
        "# Polymorphic Special Methods\n",
        "\n",
        "class MyClass:\n",
        "    def __len__(self):\n",
        "        return 42\n",
        "\n",
        "obj = MyClass()\n",
        "print(len(obj))  # Outputs: 42\n"
      ],
      "metadata": {
        "colab": {
          "base_uri": "https://localhost:8080/"
        },
        "id": "S3HUNv5CMVj8",
        "outputId": "eebe7f08-cffd-4059-c144-a71dd842ae0d"
      },
      "execution_count": null,
      "outputs": [
        {
          "output_type": "stream",
          "name": "stdout",
          "text": [
            "42\n"
          ]
        }
      ]
    },
    {
      "cell_type": "code",
      "source": [
        "# Polymorphic Operator Overloading\n",
        "\n",
        "class MyClass:\n",
        "    def __init__(self, value):\n",
        "        self.value = value\n",
        "\n",
        "    def __eq__(self, other):\n",
        "        return self.value == other.value\n",
        "\n",
        "obj1 = MyClass(42)\n",
        "obj2 = MyClass(42)\n",
        "\n",
        "print(obj1 == obj2)  # Outputs: True\n"
      ],
      "metadata": {
        "colab": {
          "base_uri": "https://localhost:8080/"
        },
        "id": "p44q4JzdMZVb",
        "outputId": "6982a182-e269-40af-8d07-3640a7061725"
      },
      "execution_count": null,
      "outputs": [
        {
          "output_type": "stream",
          "name": "stdout",
          "text": [
            "True\n"
          ]
        }
      ]
    }
  ]
}